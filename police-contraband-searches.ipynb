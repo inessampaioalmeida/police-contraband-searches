{
 "cells": [
  {
   "cell_type": "code",
   "execution_count": 1,
   "metadata": {},
   "outputs": [],
   "source": [
    "import pandas as pd\n",
    "import numpy as np\n",
    "\n",
    "import matplotlib.pyplot as plt\n",
    "import seaborn as sns\n",
    "\n",
    "\n",
    "from sklearn.feature_selection import (\n",
    "    SelectFromModel, \n",
    "    SelectKBest, \n",
    "    mutual_info_classif,\n",
    "    chi2,\n",
    "    f_classif\n",
    ")\n",
    "\n",
    "from sklearn.preprocessing import MinMaxScaler\n",
    "from category_encoders.binary import BinaryEncoder\n",
    "from category_encoders.one_hot import OneHotEncoder\n",
    "\n",
    "from sklearn.linear_model import LogisticRegression\n",
    "from sklearn.ensemble import GradientBoostingClassifier, RandomForestClassifier\n",
    "\n",
    "from sklearn.model_selection import cross_val_score, train_test_split, RandomizedSearchCV, GridSearchCV\n",
    "\n",
    "from sklearn.metrics import accuracy_score, precision_score, recall_score\n",
    "\n",
    "from sklearn.pipeline import make_pipeline"
   ]
  },
  {
   "cell_type": "markdown",
   "metadata": {},
   "source": [
    "Splitting train and test data from the beggining to transform test data without it influencing the transformations."
   ]
  },
  {
   "cell_type": "code",
   "execution_count": 2,
   "metadata": {},
   "outputs": [],
   "source": [
    "df = pd.read_csv('data/data.csv')\n",
    "df_train, df_test = train_test_split(df, test_size=0.2, random_state=1)"
   ]
  },
  {
   "cell_type": "code",
   "execution_count": null,
   "metadata": {},
   "outputs": [],
   "source": []
  },
  {
   "cell_type": "code",
   "execution_count": 3,
   "metadata": {},
   "outputs": [
    {
     "data": {
      "text/html": [
       "<div>\n",
       "<style scoped>\n",
       "    .dataframe tbody tr th:only-of-type {\n",
       "        vertical-align: middle;\n",
       "    }\n",
       "\n",
       "    .dataframe tbody tr th {\n",
       "        vertical-align: top;\n",
       "    }\n",
       "\n",
       "    .dataframe thead th {\n",
       "        text-align: right;\n",
       "    }\n",
       "</style>\n",
       "<table border=\"1\" class=\"dataframe\">\n",
       "  <thead>\n",
       "    <tr style=\"text-align: right;\">\n",
       "      <th></th>\n",
       "      <th>VehicleSearchedIndicator</th>\n",
       "      <th>ContrabandIndicator</th>\n",
       "      <th>Department Name</th>\n",
       "      <th>InterventionDateTime</th>\n",
       "      <th>InterventionLocationName</th>\n",
       "      <th>InterventionReasonCode</th>\n",
       "      <th>ReportingOfficerIdentificationID</th>\n",
       "      <th>ResidentIndicator</th>\n",
       "      <th>SearchAuthorizationCode</th>\n",
       "      <th>StatuteReason</th>\n",
       "      <th>SubjectAge</th>\n",
       "      <th>SubjectEthnicityCode</th>\n",
       "      <th>SubjectRaceCode</th>\n",
       "      <th>SubjectSexCode</th>\n",
       "      <th>TownResidentIndicator</th>\n",
       "    </tr>\n",
       "  </thead>\n",
       "  <tbody>\n",
       "    <tr>\n",
       "      <th>674554</th>\n",
       "      <td>False</td>\n",
       "      <td>False</td>\n",
       "      <td>State Police</td>\n",
       "      <td>11/16/2014 11:59:00 AM</td>\n",
       "      <td>ESSEX</td>\n",
       "      <td>V</td>\n",
       "      <td>277048371</td>\n",
       "      <td>True</td>\n",
       "      <td>N</td>\n",
       "      <td>Other/Error</td>\n",
       "      <td>36.0</td>\n",
       "      <td>N</td>\n",
       "      <td>W</td>\n",
       "      <td>M</td>\n",
       "      <td>False</td>\n",
       "    </tr>\n",
       "    <tr>\n",
       "      <th>1255314</th>\n",
       "      <td>False</td>\n",
       "      <td>False</td>\n",
       "      <td>CSP Troop C</td>\n",
       "      <td>06/13/2016 10:53:46 PM</td>\n",
       "      <td>TOLLAND</td>\n",
       "      <td>V</td>\n",
       "      <td>1000003506</td>\n",
       "      <td>False</td>\n",
       "      <td>N</td>\n",
       "      <td>STC Violation</td>\n",
       "      <td>50.0</td>\n",
       "      <td>N</td>\n",
       "      <td>W</td>\n",
       "      <td>F</td>\n",
       "      <td>False</td>\n",
       "    </tr>\n",
       "    <tr>\n",
       "      <th>1594148</th>\n",
       "      <td>False</td>\n",
       "      <td>False</td>\n",
       "      <td>Norwalk</td>\n",
       "      <td>02/12/2017 02:08:00 AM</td>\n",
       "      <td>NORWALK</td>\n",
       "      <td>V</td>\n",
       "      <td>100000075</td>\n",
       "      <td>True</td>\n",
       "      <td>N</td>\n",
       "      <td>Traffic Control Signal</td>\n",
       "      <td>29.0</td>\n",
       "      <td>H</td>\n",
       "      <td>W</td>\n",
       "      <td>F</td>\n",
       "      <td>True</td>\n",
       "    </tr>\n",
       "    <tr>\n",
       "      <th>724674</th>\n",
       "      <td>False</td>\n",
       "      <td>False</td>\n",
       "      <td>State Police</td>\n",
       "      <td>12/20/2014 07:36:00 AM</td>\n",
       "      <td>FARMINGTON</td>\n",
       "      <td>V</td>\n",
       "      <td>1000003200</td>\n",
       "      <td>True</td>\n",
       "      <td>N</td>\n",
       "      <td>Other/Error</td>\n",
       "      <td>33.0</td>\n",
       "      <td>N</td>\n",
       "      <td>W</td>\n",
       "      <td>F</td>\n",
       "      <td>False</td>\n",
       "    </tr>\n",
       "    <tr>\n",
       "      <th>384484</th>\n",
       "      <td>False</td>\n",
       "      <td>False</td>\n",
       "      <td>Newtown</td>\n",
       "      <td>06/04/2014 11:15:00 PM</td>\n",
       "      <td>Newtown</td>\n",
       "      <td>V</td>\n",
       "      <td>336</td>\n",
       "      <td>True</td>\n",
       "      <td>N</td>\n",
       "      <td>Speed Related</td>\n",
       "      <td>19.0</td>\n",
       "      <td>N</td>\n",
       "      <td>W</td>\n",
       "      <td>F</td>\n",
       "      <td>True</td>\n",
       "    </tr>\n",
       "  </tbody>\n",
       "</table>\n",
       "</div>"
      ],
      "text/plain": [
       "         VehicleSearchedIndicator  ContrabandIndicator Department Name  \\\n",
       "674554                      False                False    State Police   \n",
       "1255314                     False                False     CSP Troop C   \n",
       "1594148                     False                False         Norwalk   \n",
       "724674                      False                False    State Police   \n",
       "384484                      False                False         Newtown   \n",
       "\n",
       "           InterventionDateTime InterventionLocationName  \\\n",
       "674554   11/16/2014 11:59:00 AM     ESSEX                  \n",
       "1255314  06/13/2016 10:53:46 PM                  TOLLAND   \n",
       "1594148  02/12/2017 02:08:00 AM                  NORWALK   \n",
       "724674   12/20/2014 07:36:00 AM     FARMINGTON             \n",
       "384484   06/04/2014 11:15:00 PM                  Newtown   \n",
       "\n",
       "        InterventionReasonCode ReportingOfficerIdentificationID  \\\n",
       "674554                       V                        277048371   \n",
       "1255314                      V                       1000003506   \n",
       "1594148                      V                        100000075   \n",
       "724674                       V                       1000003200   \n",
       "384484                       V                              336   \n",
       "\n",
       "         ResidentIndicator SearchAuthorizationCode           StatuteReason  \\\n",
       "674554                True                       N             Other/Error   \n",
       "1255314              False                       N           STC Violation   \n",
       "1594148               True                       N  Traffic Control Signal   \n",
       "724674                True                       N             Other/Error   \n",
       "384484                True                       N           Speed Related   \n",
       "\n",
       "         SubjectAge SubjectEthnicityCode SubjectRaceCode SubjectSexCode  \\\n",
       "674554         36.0                    N               W              M   \n",
       "1255314        50.0                    N               W              F   \n",
       "1594148        29.0                    H               W              F   \n",
       "724674         33.0                    N               W              F   \n",
       "384484         19.0                    N               W              F   \n",
       "\n",
       "         TownResidentIndicator  \n",
       "674554                   False  \n",
       "1255314                  False  \n",
       "1594148                   True  \n",
       "724674                   False  \n",
       "384484                    True  "
      ]
     },
     "execution_count": 3,
     "metadata": {},
     "output_type": "execute_result"
    }
   ],
   "source": [
    "df_train.head(5)"
   ]
  },
  {
   "cell_type": "code",
   "execution_count": 4,
   "metadata": {},
   "outputs": [
    {
     "data": {
      "text/plain": [
       "(1978914, 15)"
      ]
     },
     "execution_count": 4,
     "metadata": {},
     "output_type": "execute_result"
    }
   ],
   "source": [
    "df_train.shape"
   ]
  },
  {
   "cell_type": "code",
   "execution_count": 5,
   "metadata": {},
   "outputs": [
    {
     "name": "stdout",
     "output_type": "stream",
     "text": [
      "Percentage of duplicated rows: 6.61 %\n"
     ]
    }
   ],
   "source": [
    "print('Percentage of duplicated rows:', round(df_train[df_train.duplicated()].shape[0]/df_train.shape[0]*100,2),'%')"
   ]
  },
  {
   "cell_type": "code",
   "execution_count": 6,
   "metadata": {},
   "outputs": [],
   "source": [
    "def drop_duplicates(data):\n",
    "    \n",
    "    data_ = data.copy()\n",
    "    data_.drop_duplicates(inplace=True)\n",
    "    \n",
    "    return data_"
   ]
  },
  {
   "cell_type": "code",
   "execution_count": 7,
   "metadata": {},
   "outputs": [],
   "source": [
    "df_train = drop_duplicates(df_train)"
   ]
  },
  {
   "cell_type": "code",
   "execution_count": 8,
   "metadata": {},
   "outputs": [
    {
     "data": {
      "text/html": [
       "<div>\n",
       "<style scoped>\n",
       "    .dataframe tbody tr th:only-of-type {\n",
       "        vertical-align: middle;\n",
       "    }\n",
       "\n",
       "    .dataframe tbody tr th {\n",
       "        vertical-align: top;\n",
       "    }\n",
       "\n",
       "    .dataframe thead th {\n",
       "        text-align: right;\n",
       "    }\n",
       "</style>\n",
       "<table border=\"1\" class=\"dataframe\">\n",
       "  <thead>\n",
       "    <tr style=\"text-align: right;\">\n",
       "      <th></th>\n",
       "      <th>0</th>\n",
       "    </tr>\n",
       "  </thead>\n",
       "  <tbody>\n",
       "    <tr>\n",
       "      <th>StatuteReason</th>\n",
       "      <td>0.021536</td>\n",
       "    </tr>\n",
       "    <tr>\n",
       "      <th>InterventionLocationName</th>\n",
       "      <td>0.001353</td>\n",
       "    </tr>\n",
       "    <tr>\n",
       "      <th>SearchAuthorizationCode</th>\n",
       "      <td>0.000433</td>\n",
       "    </tr>\n",
       "    <tr>\n",
       "      <th>ReportingOfficerIdentificationID</th>\n",
       "      <td>0.000108</td>\n",
       "    </tr>\n",
       "    <tr>\n",
       "      <th>InterventionReasonCode</th>\n",
       "      <td>0.000054</td>\n",
       "    </tr>\n",
       "    <tr>\n",
       "      <th>TownResidentIndicator</th>\n",
       "      <td>0.000000</td>\n",
       "    </tr>\n",
       "    <tr>\n",
       "      <th>SubjectSexCode</th>\n",
       "      <td>0.000000</td>\n",
       "    </tr>\n",
       "    <tr>\n",
       "      <th>SubjectRaceCode</th>\n",
       "      <td>0.000000</td>\n",
       "    </tr>\n",
       "    <tr>\n",
       "      <th>SubjectEthnicityCode</th>\n",
       "      <td>0.000000</td>\n",
       "    </tr>\n",
       "    <tr>\n",
       "      <th>SubjectAge</th>\n",
       "      <td>0.000000</td>\n",
       "    </tr>\n",
       "    <tr>\n",
       "      <th>ResidentIndicator</th>\n",
       "      <td>0.000000</td>\n",
       "    </tr>\n",
       "    <tr>\n",
       "      <th>InterventionDateTime</th>\n",
       "      <td>0.000000</td>\n",
       "    </tr>\n",
       "    <tr>\n",
       "      <th>Department Name</th>\n",
       "      <td>0.000000</td>\n",
       "    </tr>\n",
       "    <tr>\n",
       "      <th>ContrabandIndicator</th>\n",
       "      <td>0.000000</td>\n",
       "    </tr>\n",
       "    <tr>\n",
       "      <th>VehicleSearchedIndicator</th>\n",
       "      <td>0.000000</td>\n",
       "    </tr>\n",
       "  </tbody>\n",
       "</table>\n",
       "</div>"
      ],
      "text/plain": [
       "                                         0\n",
       "StatuteReason                     0.021536\n",
       "InterventionLocationName          0.001353\n",
       "SearchAuthorizationCode           0.000433\n",
       "ReportingOfficerIdentificationID  0.000108\n",
       "InterventionReasonCode            0.000054\n",
       "TownResidentIndicator             0.000000\n",
       "SubjectSexCode                    0.000000\n",
       "SubjectRaceCode                   0.000000\n",
       "SubjectEthnicityCode              0.000000\n",
       "SubjectAge                        0.000000\n",
       "ResidentIndicator                 0.000000\n",
       "InterventionDateTime              0.000000\n",
       "Department Name                   0.000000\n",
       "ContrabandIndicator               0.000000\n",
       "VehicleSearchedIndicator          0.000000"
      ]
     },
     "execution_count": 8,
     "metadata": {},
     "output_type": "execute_result"
    }
   ],
   "source": [
    "pd.DataFrame((df_train.isnull().sum()/df_train.shape[0]*100).sort_values(ascending=False))"
   ]
  },
  {
   "cell_type": "markdown",
   "metadata": {},
   "source": [
    "As there are only a few number of missing values in each feature, the corresponding rows will be dropped from the dataset. The maximum percentage of missing values in a feature is 0.022% (StatuteReason) so dropping a few rows will not have a great impact in the whole dataset."
   ]
  },
  {
   "cell_type": "code",
   "execution_count": 9,
   "metadata": {},
   "outputs": [],
   "source": [
    "def drop_nulls(data):\n",
    "    \n",
    "    data_ = data.copy()\n",
    "    data_.dropna(inplace=True)\n",
    "    \n",
    "    return data_\n",
    "    "
   ]
  },
  {
   "cell_type": "code",
   "execution_count": 10,
   "metadata": {},
   "outputs": [],
   "source": [
    "df_train = drop_nulls(df_train)"
   ]
  },
  {
   "cell_type": "code",
   "execution_count": 11,
   "metadata": {},
   "outputs": [
    {
     "data": {
      "text/html": [
       "<div>\n",
       "<style scoped>\n",
       "    .dataframe tbody tr th:only-of-type {\n",
       "        vertical-align: middle;\n",
       "    }\n",
       "\n",
       "    .dataframe tbody tr th {\n",
       "        vertical-align: top;\n",
       "    }\n",
       "\n",
       "    .dataframe thead th {\n",
       "        text-align: right;\n",
       "    }\n",
       "</style>\n",
       "<table border=\"1\" class=\"dataframe\">\n",
       "  <thead>\n",
       "    <tr style=\"text-align: right;\">\n",
       "      <th></th>\n",
       "      <th># Unique values</th>\n",
       "    </tr>\n",
       "  </thead>\n",
       "  <tbody>\n",
       "    <tr>\n",
       "      <th>InterventionDateTime</th>\n",
       "      <td>1255084</td>\n",
       "    </tr>\n",
       "    <tr>\n",
       "      <th>ReportingOfficerIdentificationID</th>\n",
       "      <td>8401</td>\n",
       "    </tr>\n",
       "    <tr>\n",
       "      <th>InterventionLocationName</th>\n",
       "      <td>2259</td>\n",
       "    </tr>\n",
       "    <tr>\n",
       "      <th>Department Name</th>\n",
       "      <td>122</td>\n",
       "    </tr>\n",
       "    <tr>\n",
       "      <th>SubjectAge</th>\n",
       "      <td>99</td>\n",
       "    </tr>\n",
       "    <tr>\n",
       "      <th>StatuteReason</th>\n",
       "      <td>18</td>\n",
       "    </tr>\n",
       "    <tr>\n",
       "      <th>SubjectRaceCode</th>\n",
       "      <td>4</td>\n",
       "    </tr>\n",
       "    <tr>\n",
       "      <th>SearchAuthorizationCode</th>\n",
       "      <td>4</td>\n",
       "    </tr>\n",
       "    <tr>\n",
       "      <th>InterventionReasonCode</th>\n",
       "      <td>4</td>\n",
       "    </tr>\n",
       "    <tr>\n",
       "      <th>SubjectEthnicityCode</th>\n",
       "      <td>3</td>\n",
       "    </tr>\n",
       "    <tr>\n",
       "      <th>TownResidentIndicator</th>\n",
       "      <td>2</td>\n",
       "    </tr>\n",
       "    <tr>\n",
       "      <th>SubjectSexCode</th>\n",
       "      <td>2</td>\n",
       "    </tr>\n",
       "    <tr>\n",
       "      <th>ResidentIndicator</th>\n",
       "      <td>2</td>\n",
       "    </tr>\n",
       "    <tr>\n",
       "      <th>ContrabandIndicator</th>\n",
       "      <td>2</td>\n",
       "    </tr>\n",
       "    <tr>\n",
       "      <th>VehicleSearchedIndicator</th>\n",
       "      <td>2</td>\n",
       "    </tr>\n",
       "  </tbody>\n",
       "</table>\n",
       "</div>"
      ],
      "text/plain": [
       "                                  # Unique values\n",
       "InterventionDateTime                      1255084\n",
       "ReportingOfficerIdentificationID             8401\n",
       "InterventionLocationName                     2259\n",
       "Department Name                               122\n",
       "SubjectAge                                     99\n",
       "StatuteReason                                  18\n",
       "SubjectRaceCode                                 4\n",
       "SearchAuthorizationCode                         4\n",
       "InterventionReasonCode                          4\n",
       "SubjectEthnicityCode                            3\n",
       "TownResidentIndicator                           2\n",
       "SubjectSexCode                                  2\n",
       "ResidentIndicator                               2\n",
       "ContrabandIndicator                             2\n",
       "VehicleSearchedIndicator                        2"
      ]
     },
     "execution_count": 11,
     "metadata": {},
     "output_type": "execute_result"
    }
   ],
   "source": [
    "pd.DataFrame(df_train.nunique().sort_values(ascending=False), columns=['# Unique values'])"
   ]
  },
  {
   "cell_type": "markdown",
   "metadata": {},
   "source": [
    "InterventionDateTime is the feature with the highest number of unique values, expectable given all the possibilities of combination of date and time thourghout the 4 years that this data has been colected.\n",
    "Following this, ReportingOfficerIdentificationID is the second with the highest number of unique values and InterventionLocationName the third.\n",
    "ReportingOfficerIdentificationID will most likely be dropped, as the Contraband found in cars shouldn't rely on the officer doing the searches."
   ]
  },
  {
   "cell_type": "code",
   "execution_count": 12,
   "metadata": {},
   "outputs": [
    {
     "data": {
      "text/html": [
       "<div>\n",
       "<style scoped>\n",
       "    .dataframe tbody tr th:only-of-type {\n",
       "        vertical-align: middle;\n",
       "    }\n",
       "\n",
       "    .dataframe tbody tr th {\n",
       "        vertical-align: top;\n",
       "    }\n",
       "\n",
       "    .dataframe thead th {\n",
       "        text-align: right;\n",
       "    }\n",
       "</style>\n",
       "<table border=\"1\" class=\"dataframe\">\n",
       "  <thead>\n",
       "    <tr style=\"text-align: right;\">\n",
       "      <th></th>\n",
       "      <th>Data Type</th>\n",
       "    </tr>\n",
       "  </thead>\n",
       "  <tbody>\n",
       "    <tr>\n",
       "      <th>VehicleSearchedIndicator</th>\n",
       "      <td>bool</td>\n",
       "    </tr>\n",
       "    <tr>\n",
       "      <th>ContrabandIndicator</th>\n",
       "      <td>bool</td>\n",
       "    </tr>\n",
       "    <tr>\n",
       "      <th>ResidentIndicator</th>\n",
       "      <td>bool</td>\n",
       "    </tr>\n",
       "    <tr>\n",
       "      <th>TownResidentIndicator</th>\n",
       "      <td>bool</td>\n",
       "    </tr>\n",
       "    <tr>\n",
       "      <th>SubjectAge</th>\n",
       "      <td>float64</td>\n",
       "    </tr>\n",
       "    <tr>\n",
       "      <th>Department Name</th>\n",
       "      <td>object</td>\n",
       "    </tr>\n",
       "    <tr>\n",
       "      <th>InterventionDateTime</th>\n",
       "      <td>object</td>\n",
       "    </tr>\n",
       "    <tr>\n",
       "      <th>InterventionLocationName</th>\n",
       "      <td>object</td>\n",
       "    </tr>\n",
       "    <tr>\n",
       "      <th>InterventionReasonCode</th>\n",
       "      <td>object</td>\n",
       "    </tr>\n",
       "    <tr>\n",
       "      <th>ReportingOfficerIdentificationID</th>\n",
       "      <td>object</td>\n",
       "    </tr>\n",
       "    <tr>\n",
       "      <th>SearchAuthorizationCode</th>\n",
       "      <td>object</td>\n",
       "    </tr>\n",
       "    <tr>\n",
       "      <th>StatuteReason</th>\n",
       "      <td>object</td>\n",
       "    </tr>\n",
       "    <tr>\n",
       "      <th>SubjectEthnicityCode</th>\n",
       "      <td>object</td>\n",
       "    </tr>\n",
       "    <tr>\n",
       "      <th>SubjectRaceCode</th>\n",
       "      <td>object</td>\n",
       "    </tr>\n",
       "    <tr>\n",
       "      <th>SubjectSexCode</th>\n",
       "      <td>object</td>\n",
       "    </tr>\n",
       "  </tbody>\n",
       "</table>\n",
       "</div>"
      ],
      "text/plain": [
       "                                 Data Type\n",
       "VehicleSearchedIndicator              bool\n",
       "ContrabandIndicator                   bool\n",
       "ResidentIndicator                     bool\n",
       "TownResidentIndicator                 bool\n",
       "SubjectAge                         float64\n",
       "Department Name                     object\n",
       "InterventionDateTime                object\n",
       "InterventionLocationName            object\n",
       "InterventionReasonCode              object\n",
       "ReportingOfficerIdentificationID    object\n",
       "SearchAuthorizationCode             object\n",
       "StatuteReason                       object\n",
       "SubjectEthnicityCode                object\n",
       "SubjectRaceCode                     object\n",
       "SubjectSexCode                      object"
      ]
     },
     "execution_count": 12,
     "metadata": {},
     "output_type": "execute_result"
    }
   ],
   "source": [
    "pd.DataFrame(df_train.dtypes.sort_values(), columns=['Data Type'])"
   ]
  },
  {
   "cell_type": "markdown",
   "metadata": {},
   "source": [
    "Checking percentages of vehicles searched and contraband found in the dataset."
   ]
  },
  {
   "cell_type": "code",
   "execution_count": 13,
   "metadata": {},
   "outputs": [
    {
     "data": {
      "text/html": [
       "<div>\n",
       "<style scoped>\n",
       "    .dataframe tbody tr th:only-of-type {\n",
       "        vertical-align: middle;\n",
       "    }\n",
       "\n",
       "    .dataframe tbody tr th {\n",
       "        vertical-align: top;\n",
       "    }\n",
       "\n",
       "    .dataframe thead th {\n",
       "        text-align: right;\n",
       "    }\n",
       "</style>\n",
       "<table border=\"1\" class=\"dataframe\">\n",
       "  <thead>\n",
       "    <tr style=\"text-align: right;\">\n",
       "      <th></th>\n",
       "      <th>VehicleSearchedIndicator</th>\n",
       "      <th>ContrabandIndicator</th>\n",
       "    </tr>\n",
       "  </thead>\n",
       "  <tbody>\n",
       "    <tr>\n",
       "      <th>False</th>\n",
       "      <td>96.92042</td>\n",
       "      <td>98.86519</td>\n",
       "    </tr>\n",
       "    <tr>\n",
       "      <th>True</th>\n",
       "      <td>3.07958</td>\n",
       "      <td>1.13481</td>\n",
       "    </tr>\n",
       "  </tbody>\n",
       "</table>\n",
       "</div>"
      ],
      "text/plain": [
       "       VehicleSearchedIndicator  ContrabandIndicator\n",
       "False                  96.92042             98.86519\n",
       "True                    3.07958              1.13481"
      ]
     },
     "execution_count": 13,
     "metadata": {},
     "output_type": "execute_result"
    }
   ],
   "source": [
    "pd.concat([pd.DataFrame(df_train.VehicleSearchedIndicator.value_counts()/df_train.shape[0]*100), \n",
    "           pd.DataFrame(df_train.ContrabandIndicator.value_counts()/df_train.shape[0]*100)], axis=1)"
   ]
  },
  {
   "cell_type": "markdown",
   "metadata": {},
   "source": [
    "In the whole dataset, we have 3.1% of cars searched but only 1.1% of the cars did have contraband (this accounts for cars searched and not searched)"
   ]
  },
  {
   "cell_type": "code",
   "execution_count": 14,
   "metadata": {},
   "outputs": [
    {
     "data": {
      "text/plain": [
       "False    66.941423\n",
       "True     33.058577\n",
       "Name: ContrabandIndicator, dtype: float64"
      ]
     },
     "execution_count": 14,
     "metadata": {},
     "output_type": "execute_result"
    }
   ],
   "source": [
    "df_train[df_train.VehicleSearchedIndicator == True]['ContrabandIndicator'].value_counts()/df_train[df_train.VehicleSearchedIndicator == True].shape[0]*100"
   ]
  },
  {
   "cell_type": "markdown",
   "metadata": {},
   "source": [
    "From all the Searched vehicles, in 67% of them, it wasn't found any contraband - the searches had a 33% of precision. Let's have a look on the percentages of the true and false positive rates for each of the protected classes we will care not to have discrepancies in the precision among them."
   ]
  },
  {
   "cell_type": "code",
   "execution_count": 15,
   "metadata": {},
   "outputs": [],
   "source": [
    "df_vehicle_searched =  pd.DataFrame(df_train[df_train.VehicleSearchedIndicator == True])"
   ]
  },
  {
   "cell_type": "code",
   "execution_count": 16,
   "metadata": {},
   "outputs": [],
   "source": [
    "def plot_contraband_protectedclasses(data, protected_class_column):\n",
    "    \n",
    "    df_vehicle_searched =  pd.DataFrame(data[data.VehicleSearchedIndicator == True])\n",
    "    \n",
    "    ab = df_vehicle_searched.groupby([protected_class_column, 'ContrabandIndicator']).agg({'ContrabandIndicator':'count'})\n",
    "    ab.columns = ['ContrabandIndicator_Percentage']\n",
    "    ab.reset_index(inplace=True) \n",
    "    ab = ab.groupby([protected_class_column, 'ContrabandIndicator']).agg({'ContrabandIndicator_Percentage': 'sum'}).groupby(level=0).apply(lambda x:\n",
    "                                                 round(100 * x / float(x.sum()),1))\n",
    "    \n",
    "    return ab"
   ]
  },
  {
   "cell_type": "code",
   "execution_count": 17,
   "metadata": {},
   "outputs": [
    {
     "data": {
      "text/html": [
       "<div>\n",
       "<style scoped>\n",
       "    .dataframe tbody tr th:only-of-type {\n",
       "        vertical-align: middle;\n",
       "    }\n",
       "\n",
       "    .dataframe tbody tr th {\n",
       "        vertical-align: top;\n",
       "    }\n",
       "\n",
       "    .dataframe thead th {\n",
       "        text-align: right;\n",
       "    }\n",
       "</style>\n",
       "<table border=\"1\" class=\"dataframe\">\n",
       "  <thead>\n",
       "    <tr style=\"text-align: right;\">\n",
       "      <th></th>\n",
       "      <th></th>\n",
       "      <th>ContrabandIndicator_Percentage</th>\n",
       "    </tr>\n",
       "    <tr>\n",
       "      <th>SubjectEthnicityCode</th>\n",
       "      <th>ContrabandIndicator</th>\n",
       "      <th></th>\n",
       "    </tr>\n",
       "  </thead>\n",
       "  <tbody>\n",
       "    <tr>\n",
       "      <th rowspan=\"2\" valign=\"top\">H</th>\n",
       "      <th>False</th>\n",
       "      <td>72.6</td>\n",
       "    </tr>\n",
       "    <tr>\n",
       "      <th>True</th>\n",
       "      <td>27.4</td>\n",
       "    </tr>\n",
       "    <tr>\n",
       "      <th rowspan=\"2\" valign=\"top\">M</th>\n",
       "      <th>False</th>\n",
       "      <td>72.9</td>\n",
       "    </tr>\n",
       "    <tr>\n",
       "      <th>True</th>\n",
       "      <td>27.1</td>\n",
       "    </tr>\n",
       "    <tr>\n",
       "      <th rowspan=\"2\" valign=\"top\">N</th>\n",
       "      <th>False</th>\n",
       "      <td>65.2</td>\n",
       "    </tr>\n",
       "    <tr>\n",
       "      <th>True</th>\n",
       "      <td>34.8</td>\n",
       "    </tr>\n",
       "  </tbody>\n",
       "</table>\n",
       "</div>"
      ],
      "text/plain": [
       "                                          ContrabandIndicator_Percentage\n",
       "SubjectEthnicityCode ContrabandIndicator                                \n",
       "H                    False                                          72.6\n",
       "                     True                                           27.4\n",
       "M                    False                                          72.9\n",
       "                     True                                           27.1\n",
       "N                    False                                          65.2\n",
       "                     True                                           34.8"
      ]
     },
     "execution_count": 17,
     "metadata": {},
     "output_type": "execute_result"
    }
   ],
   "source": [
    "plot_contraband_protectedclasses(df_train, 'SubjectEthnicityCode')"
   ]
  },
  {
   "cell_type": "markdown",
   "metadata": {},
   "source": [
    "Subject Ethnicities Hispanic and M have approximately the same percentage of Contraband Indicator found while Ethnicity N has the highest rate (~ 35%)."
   ]
  },
  {
   "cell_type": "code",
   "execution_count": 18,
   "metadata": {},
   "outputs": [
    {
     "data": {
      "text/html": [
       "<div>\n",
       "<style scoped>\n",
       "    .dataframe tbody tr th:only-of-type {\n",
       "        vertical-align: middle;\n",
       "    }\n",
       "\n",
       "    .dataframe tbody tr th {\n",
       "        vertical-align: top;\n",
       "    }\n",
       "\n",
       "    .dataframe thead th {\n",
       "        text-align: right;\n",
       "    }\n",
       "</style>\n",
       "<table border=\"1\" class=\"dataframe\">\n",
       "  <thead>\n",
       "    <tr style=\"text-align: right;\">\n",
       "      <th></th>\n",
       "      <th></th>\n",
       "      <th>ContrabandIndicator_Percentage</th>\n",
       "    </tr>\n",
       "    <tr>\n",
       "      <th>SubjectRaceCode</th>\n",
       "      <th>ContrabandIndicator</th>\n",
       "      <th></th>\n",
       "    </tr>\n",
       "  </thead>\n",
       "  <tbody>\n",
       "    <tr>\n",
       "      <th rowspan=\"2\" valign=\"top\">A</th>\n",
       "      <th>False</th>\n",
       "      <td>71.1</td>\n",
       "    </tr>\n",
       "    <tr>\n",
       "      <th>True</th>\n",
       "      <td>28.9</td>\n",
       "    </tr>\n",
       "    <tr>\n",
       "      <th rowspan=\"2\" valign=\"top\">B</th>\n",
       "      <th>False</th>\n",
       "      <td>70.5</td>\n",
       "    </tr>\n",
       "    <tr>\n",
       "      <th>True</th>\n",
       "      <td>29.5</td>\n",
       "    </tr>\n",
       "    <tr>\n",
       "      <th rowspan=\"2\" valign=\"top\">I</th>\n",
       "      <th>False</th>\n",
       "      <td>69.4</td>\n",
       "    </tr>\n",
       "    <tr>\n",
       "      <th>True</th>\n",
       "      <td>30.6</td>\n",
       "    </tr>\n",
       "    <tr>\n",
       "      <th rowspan=\"2\" valign=\"top\">W</th>\n",
       "      <th>False</th>\n",
       "      <td>65.4</td>\n",
       "    </tr>\n",
       "    <tr>\n",
       "      <th>True</th>\n",
       "      <td>34.6</td>\n",
       "    </tr>\n",
       "  </tbody>\n",
       "</table>\n",
       "</div>"
      ],
      "text/plain": [
       "                                     ContrabandIndicator_Percentage\n",
       "SubjectRaceCode ContrabandIndicator                                \n",
       "A               False                                          71.1\n",
       "                True                                           28.9\n",
       "B               False                                          70.5\n",
       "                True                                           29.5\n",
       "I               False                                          69.4\n",
       "                True                                           30.6\n",
       "W               False                                          65.4\n",
       "                True                                           34.6"
      ]
     },
     "execution_count": 18,
     "metadata": {},
     "output_type": "execute_result"
    }
   ],
   "source": [
    "plot_contraband_protectedclasses(df_train, 'SubjectRaceCode')"
   ]
  },
  {
   "cell_type": "markdown",
   "metadata": {},
   "source": [
    "White and Indian Races with the higher percentages of contraband indicators, A... and Black races with lower percentages (29-30 %)"
   ]
  },
  {
   "cell_type": "code",
   "execution_count": 19,
   "metadata": {},
   "outputs": [
    {
     "data": {
      "text/html": [
       "<div>\n",
       "<style scoped>\n",
       "    .dataframe tbody tr th:only-of-type {\n",
       "        vertical-align: middle;\n",
       "    }\n",
       "\n",
       "    .dataframe tbody tr th {\n",
       "        vertical-align: top;\n",
       "    }\n",
       "\n",
       "    .dataframe thead th {\n",
       "        text-align: right;\n",
       "    }\n",
       "</style>\n",
       "<table border=\"1\" class=\"dataframe\">\n",
       "  <thead>\n",
       "    <tr style=\"text-align: right;\">\n",
       "      <th></th>\n",
       "      <th></th>\n",
       "      <th>ContrabandIndicator_Percentage</th>\n",
       "    </tr>\n",
       "    <tr>\n",
       "      <th>SubjectSexCode</th>\n",
       "      <th>ContrabandIndicator</th>\n",
       "      <th></th>\n",
       "    </tr>\n",
       "  </thead>\n",
       "  <tbody>\n",
       "    <tr>\n",
       "      <th rowspan=\"2\" valign=\"top\">F</th>\n",
       "      <th>False</th>\n",
       "      <td>68.4</td>\n",
       "    </tr>\n",
       "    <tr>\n",
       "      <th>True</th>\n",
       "      <td>31.6</td>\n",
       "    </tr>\n",
       "    <tr>\n",
       "      <th rowspan=\"2\" valign=\"top\">M</th>\n",
       "      <th>False</th>\n",
       "      <td>66.6</td>\n",
       "    </tr>\n",
       "    <tr>\n",
       "      <th>True</th>\n",
       "      <td>33.4</td>\n",
       "    </tr>\n",
       "  </tbody>\n",
       "</table>\n",
       "</div>"
      ],
      "text/plain": [
       "                                    ContrabandIndicator_Percentage\n",
       "SubjectSexCode ContrabandIndicator                                \n",
       "F              False                                          68.4\n",
       "               True                                           31.6\n",
       "M              False                                          66.6\n",
       "               True                                           33.4"
      ]
     },
     "execution_count": 19,
     "metadata": {},
     "output_type": "execute_result"
    }
   ],
   "source": [
    "plot_contraband_protectedclasses(df_train, 'SubjectSexCode')"
   ]
  },
  {
   "cell_type": "markdown",
   "metadata": {},
   "source": [
    "Male and Female with almost the same percentage."
   ]
  },
  {
   "cell_type": "code",
   "execution_count": 20,
   "metadata": {},
   "outputs": [
    {
     "data": {
      "text/html": [
       "<div>\n",
       "<style scoped>\n",
       "    .dataframe tbody tr th:only-of-type {\n",
       "        vertical-align: middle;\n",
       "    }\n",
       "\n",
       "    .dataframe tbody tr th {\n",
       "        vertical-align: top;\n",
       "    }\n",
       "\n",
       "    .dataframe thead th {\n",
       "        text-align: right;\n",
       "    }\n",
       "</style>\n",
       "<table border=\"1\" class=\"dataframe\">\n",
       "  <thead>\n",
       "    <tr style=\"text-align: right;\">\n",
       "      <th></th>\n",
       "      <th>ContrabandIndicator</th>\n",
       "      <th>SubjectEthnicityCode</th>\n",
       "      <th>percent</th>\n",
       "    </tr>\n",
       "  </thead>\n",
       "  <tbody>\n",
       "    <tr>\n",
       "      <th>1</th>\n",
       "      <td>False</td>\n",
       "      <td>H</td>\n",
       "      <td>24.730112</td>\n",
       "    </tr>\n",
       "    <tr>\n",
       "      <th>4</th>\n",
       "      <td>True</td>\n",
       "      <td>H</td>\n",
       "      <td>19.029705</td>\n",
       "    </tr>\n",
       "    <tr>\n",
       "      <th>2</th>\n",
       "      <td>False</td>\n",
       "      <td>M</td>\n",
       "      <td>1.231820</td>\n",
       "    </tr>\n",
       "    <tr>\n",
       "      <th>5</th>\n",
       "      <td>True</td>\n",
       "      <td>M</td>\n",
       "      <td>0.960107</td>\n",
       "    </tr>\n",
       "    <tr>\n",
       "      <th>0</th>\n",
       "      <td>False</td>\n",
       "      <td>N</td>\n",
       "      <td>74.038067</td>\n",
       "    </tr>\n",
       "    <tr>\n",
       "      <th>3</th>\n",
       "      <td>True</td>\n",
       "      <td>N</td>\n",
       "      <td>80.010189</td>\n",
       "    </tr>\n",
       "  </tbody>\n",
       "</table>\n",
       "</div>"
      ],
      "text/plain": [
       "   ContrabandIndicator SubjectEthnicityCode    percent\n",
       "1                False                    H  24.730112\n",
       "4                 True                    H  19.029705\n",
       "2                False                    M   1.231820\n",
       "5                 True                    M   0.960107\n",
       "0                False                    N  74.038067\n",
       "3                 True                    N  80.010189"
      ]
     },
     "execution_count": 20,
     "metadata": {},
     "output_type": "execute_result"
    }
   ],
   "source": [
    "(df[df.VehicleSearchedIndicator == True].groupby(['ContrabandIndicator'])['SubjectEthnicityCode']\n",
    "                     .value_counts(normalize=True)\n",
    "                     .rename('percent')\n",
    "                     .mul(100)\n",
    "                     .reset_index()\n",
    "                     .sort_values('SubjectEthnicityCode'))"
   ]
  },
  {
   "cell_type": "code",
   "execution_count": 21,
   "metadata": {},
   "outputs": [],
   "source": [
    "cardinality = df_train.describe(exclude=np.number).T"
   ]
  },
  {
   "cell_type": "code",
   "execution_count": 22,
   "metadata": {},
   "outputs": [
    {
     "data": {
      "text/html": [
       "<div>\n",
       "<style scoped>\n",
       "    .dataframe tbody tr th:only-of-type {\n",
       "        vertical-align: middle;\n",
       "    }\n",
       "\n",
       "    .dataframe tbody tr th {\n",
       "        vertical-align: top;\n",
       "    }\n",
       "\n",
       "    .dataframe thead th {\n",
       "        text-align: right;\n",
       "    }\n",
       "</style>\n",
       "<table border=\"1\" class=\"dataframe\">\n",
       "  <thead>\n",
       "    <tr style=\"text-align: right;\">\n",
       "      <th></th>\n",
       "      <th>count</th>\n",
       "      <th>unique</th>\n",
       "      <th>top</th>\n",
       "      <th>freq</th>\n",
       "    </tr>\n",
       "  </thead>\n",
       "  <tbody>\n",
       "    <tr>\n",
       "      <th>VehicleSearchedIndicator</th>\n",
       "      <td>1847622</td>\n",
       "      <td>2</td>\n",
       "      <td>False</td>\n",
       "      <td>1790723</td>\n",
       "    </tr>\n",
       "    <tr>\n",
       "      <th>ContrabandIndicator</th>\n",
       "      <td>1847622</td>\n",
       "      <td>2</td>\n",
       "      <td>False</td>\n",
       "      <td>1826655</td>\n",
       "    </tr>\n",
       "    <tr>\n",
       "      <th>Department Name</th>\n",
       "      <td>1847622</td>\n",
       "      <td>122</td>\n",
       "      <td>State Police</td>\n",
       "      <td>256516</td>\n",
       "    </tr>\n",
       "    <tr>\n",
       "      <th>InterventionDateTime</th>\n",
       "      <td>1847622</td>\n",
       "      <td>1255084</td>\n",
       "      <td>03/07/2014 12:00:00 AM</td>\n",
       "      <td>220</td>\n",
       "    </tr>\n",
       "    <tr>\n",
       "      <th>InterventionLocationName</th>\n",
       "      <td>1847622</td>\n",
       "      <td>2259</td>\n",
       "      <td>NEW HAVEN</td>\n",
       "      <td>60021</td>\n",
       "    </tr>\n",
       "    <tr>\n",
       "      <th>InterventionReasonCode</th>\n",
       "      <td>1847622</td>\n",
       "      <td>4</td>\n",
       "      <td>V</td>\n",
       "      <td>1629004</td>\n",
       "    </tr>\n",
       "    <tr>\n",
       "      <th>ReportingOfficerIdentificationID</th>\n",
       "      <td>1847622</td>\n",
       "      <td>8401</td>\n",
       "      <td>WCW0264</td>\n",
       "      <td>6632</td>\n",
       "    </tr>\n",
       "    <tr>\n",
       "      <th>ResidentIndicator</th>\n",
       "      <td>1847622</td>\n",
       "      <td>2</td>\n",
       "      <td>True</td>\n",
       "      <td>1591818</td>\n",
       "    </tr>\n",
       "    <tr>\n",
       "      <th>SearchAuthorizationCode</th>\n",
       "      <td>1847622</td>\n",
       "      <td>4</td>\n",
       "      <td>N</td>\n",
       "      <td>1781028</td>\n",
       "    </tr>\n",
       "    <tr>\n",
       "      <th>StatuteReason</th>\n",
       "      <td>1847622</td>\n",
       "      <td>18</td>\n",
       "      <td>Speed Related</td>\n",
       "      <td>508925</td>\n",
       "    </tr>\n",
       "    <tr>\n",
       "      <th>SubjectEthnicityCode</th>\n",
       "      <td>1847622</td>\n",
       "      <td>3</td>\n",
       "      <td>N</td>\n",
       "      <td>1568454</td>\n",
       "    </tr>\n",
       "    <tr>\n",
       "      <th>SubjectRaceCode</th>\n",
       "      <td>1847622</td>\n",
       "      <td>4</td>\n",
       "      <td>W</td>\n",
       "      <td>1510929</td>\n",
       "    </tr>\n",
       "    <tr>\n",
       "      <th>SubjectSexCode</th>\n",
       "      <td>1847622</td>\n",
       "      <td>2</td>\n",
       "      <td>M</td>\n",
       "      <td>1168917</td>\n",
       "    </tr>\n",
       "    <tr>\n",
       "      <th>TownResidentIndicator</th>\n",
       "      <td>1847622</td>\n",
       "      <td>2</td>\n",
       "      <td>False</td>\n",
       "      <td>1275469</td>\n",
       "    </tr>\n",
       "  </tbody>\n",
       "</table>\n",
       "</div>"
      ],
      "text/plain": [
       "                                    count   unique                     top  \\\n",
       "VehicleSearchedIndicator          1847622        2                   False   \n",
       "ContrabandIndicator               1847622        2                   False   \n",
       "Department Name                   1847622      122            State Police   \n",
       "InterventionDateTime              1847622  1255084  03/07/2014 12:00:00 AM   \n",
       "InterventionLocationName          1847622     2259               NEW HAVEN   \n",
       "InterventionReasonCode            1847622        4                       V   \n",
       "ReportingOfficerIdentificationID  1847622     8401                 WCW0264   \n",
       "ResidentIndicator                 1847622        2                    True   \n",
       "SearchAuthorizationCode           1847622        4                       N   \n",
       "StatuteReason                     1847622       18           Speed Related   \n",
       "SubjectEthnicityCode              1847622        3                       N   \n",
       "SubjectRaceCode                   1847622        4                       W   \n",
       "SubjectSexCode                    1847622        2                       M   \n",
       "TownResidentIndicator             1847622        2                   False   \n",
       "\n",
       "                                     freq  \n",
       "VehicleSearchedIndicator          1790723  \n",
       "ContrabandIndicator               1826655  \n",
       "Department Name                    256516  \n",
       "InterventionDateTime                  220  \n",
       "InterventionLocationName            60021  \n",
       "InterventionReasonCode            1629004  \n",
       "ReportingOfficerIdentificationID     6632  \n",
       "ResidentIndicator                 1591818  \n",
       "SearchAuthorizationCode           1781028  \n",
       "StatuteReason                      508925  \n",
       "SubjectEthnicityCode              1568454  \n",
       "SubjectRaceCode                   1510929  \n",
       "SubjectSexCode                    1168917  \n",
       "TownResidentIndicator             1275469  "
      ]
     },
     "execution_count": 22,
     "metadata": {},
     "output_type": "execute_result"
    }
   ],
   "source": [
    "cardinality"
   ]
  },
  {
   "cell_type": "markdown",
   "metadata": {},
   "source": [
    "### 2. Boolean Features"
   ]
  },
  {
   "cell_type": "code",
   "execution_count": 23,
   "metadata": {},
   "outputs": [
    {
     "data": {
      "image/png": "[encoded data removed]",
      "text/plain": [
       "<Figure size 432x288 with 1 Axes>"
      ]
     },
     "metadata": {
      "needs_background": "light"
     },
     "output_type": "display_data"
    }
   ],
   "source": [
    "fig =plt.plot(figsize=(20,7))\n",
    "counts = (df.groupby(['ContrabandIndicator'])['TownResidentIndicator']\n",
    "                     .value_counts(normalize=True)\n",
    "                     .rename('percent')\n",
    "                     .mul(100)\n",
    "                     .reset_index()\n",
    "                     .sort_values('TownResidentIndicator'))\n",
    "sns.barplot(x=\"TownResidentIndicator\", y=\"percent\", hue=\"ContrabandIndicator\", data=counts);"
   ]
  },
  {
   "cell_type": "code",
   "execution_count": 24,
   "metadata": {},
   "outputs": [
    {
     "data": {
      "image/png": "[encoded data removed]",
      "text/plain": [
       "<Figure size 432x288 with 1 Axes>"
      ]
     },
     "metadata": {
      "needs_background": "light"
     },
     "output_type": "display_data"
    }
   ],
   "source": [
    "counts = (df.groupby(['ContrabandIndicator'])['ResidentIndicator']\n",
    "                     .value_counts(normalize=True)\n",
    "                     .rename('percent')\n",
    "                     .mul(100)\n",
    "                     .reset_index()\n",
    "                     .sort_values('ResidentIndicator'))\n",
    "sns.barplot(x=\"ResidentIndicator\", y=\"percent\", hue=\"ContrabandIndicator\", data=counts);"
   ]
  },
  {
   "cell_type": "code",
   "execution_count": 25,
   "metadata": {},
   "outputs": [
    {
     "data": {
      "image/png": "[encoded data removed]",
      "text/plain": [
       "<Figure size 432x288 with 1 Axes>"
      ]
     },
     "metadata": {
      "needs_background": "light"
     },
     "output_type": "display_data"
    }
   ],
   "source": [
    "counts = (df.groupby(['TownResidentIndicator'])['ResidentIndicator']\n",
    "                     .value_counts(normalize=True)\n",
    "                     .rename('percent')\n",
    "                     .mul(100)\n",
    "                     .reset_index()\n",
    "                     .sort_values('ResidentIndicator'))\n",
    "sns.barplot(x=\"ResidentIndicator\", y=\"percent\", hue=\"TownResidentIndicator\", data=counts);"
   ]
  },
  {
   "cell_type": "markdown",
   "metadata": {},
   "source": [
    "Subjects with ResidentIndicator and TownResidentIndicator have a higher percentage of Contraband Indicator found."
   ]
  },
  {
   "cell_type": "code",
   "execution_count": null,
   "metadata": {},
   "outputs": [],
   "source": []
  },
  {
   "cell_type": "code",
   "execution_count": null,
   "metadata": {},
   "outputs": [],
   "source": []
  },
  {
   "cell_type": "code",
   "execution_count": null,
   "metadata": {},
   "outputs": [],
   "source": []
  },
  {
   "cell_type": "markdown",
   "metadata": {},
   "source": [
    "### 3. Object Features"
   ]
  },
  {
   "cell_type": "code",
   "execution_count": 26,
   "metadata": {},
   "outputs": [
    {
     "data": {
      "text/plain": [
       "122"
      ]
     },
     "execution_count": 26,
     "metadata": {},
     "output_type": "execute_result"
    }
   ],
   "source": [
    "df_train['Department Name'].nunique()"
   ]
  },
  {
   "cell_type": "markdown",
   "metadata": {},
   "source": [
    "The department names are lowered and white spaces are removed from the end and begining of the string to uniformize all the string."
   ]
  },
  {
   "cell_type": "code",
   "execution_count": 27,
   "metadata": {},
   "outputs": [],
   "source": [
    "df_train['Department Name'] = df_train['Department Name'].str.lower().str.strip()"
   ]
  },
  {
   "cell_type": "code",
   "execution_count": 28,
   "metadata": {},
   "outputs": [
    {
     "data": {
      "text/plain": [
       "122"
      ]
     },
     "execution_count": 28,
     "metadata": {},
     "output_type": "execute_result"
    }
   ],
   "source": [
    "df_train['Department Name'].nunique()"
   ]
  },
  {
   "cell_type": "code",
   "execution_count": 29,
   "metadata": {},
   "outputs": [
    {
     "data": {
      "text/html": [
       "<div>\n",
       "<style scoped>\n",
       "    .dataframe tbody tr th:only-of-type {\n",
       "        vertical-align: middle;\n",
       "    }\n",
       "\n",
       "    .dataframe tbody tr th {\n",
       "        vertical-align: top;\n",
       "    }\n",
       "\n",
       "    .dataframe thead th {\n",
       "        text-align: right;\n",
       "    }\n",
       "</style>\n",
       "<table border=\"1\" class=\"dataframe\">\n",
       "  <thead>\n",
       "    <tr style=\"text-align: right;\">\n",
       "      <th></th>\n",
       "      <th>Department Name</th>\n",
       "    </tr>\n",
       "  </thead>\n",
       "  <tbody>\n",
       "    <tr>\n",
       "      <th>state police</th>\n",
       "      <td>13.883576</td>\n",
       "    </tr>\n",
       "    <tr>\n",
       "      <th>new haven</th>\n",
       "      <td>2.846524</td>\n",
       "    </tr>\n",
       "    <tr>\n",
       "      <th>csp troop c</th>\n",
       "      <td>2.374241</td>\n",
       "    </tr>\n",
       "    <tr>\n",
       "      <th>csp troop f</th>\n",
       "      <td>2.148762</td>\n",
       "    </tr>\n",
       "    <tr>\n",
       "      <th>csp troop a</th>\n",
       "      <td>2.040569</td>\n",
       "    </tr>\n",
       "    <tr>\n",
       "      <th>...</th>\n",
       "      <td>...</td>\n",
       "    </tr>\n",
       "    <tr>\n",
       "      <th>mta</th>\n",
       "      <td>0.003247</td>\n",
       "    </tr>\n",
       "    <tr>\n",
       "      <th>mashantucket pequot</th>\n",
       "      <td>0.001732</td>\n",
       "    </tr>\n",
       "    <tr>\n",
       "      <th>met dist water authority</th>\n",
       "      <td>0.000325</td>\n",
       "    </tr>\n",
       "    <tr>\n",
       "      <th>mohegan tribal</th>\n",
       "      <td>0.000271</td>\n",
       "    </tr>\n",
       "    <tr>\n",
       "      <th>mohegan tribal police</th>\n",
       "      <td>0.000216</td>\n",
       "    </tr>\n",
       "  </tbody>\n",
       "</table>\n",
       "<p>122 rows × 1 columns</p>\n",
       "</div>"
      ],
      "text/plain": [
       "                          Department Name\n",
       "state police                    13.883576\n",
       "new haven                        2.846524\n",
       "csp troop c                      2.374241\n",
       "csp troop f                      2.148762\n",
       "csp troop a                      2.040569\n",
       "...                                   ...\n",
       "mta                              0.003247\n",
       "mashantucket pequot              0.001732\n",
       "met dist water authority         0.000325\n",
       "mohegan tribal                   0.000271\n",
       "mohegan tribal police            0.000216\n",
       "\n",
       "[122 rows x 1 columns]"
      ]
     },
     "execution_count": 29,
     "metadata": {},
     "output_type": "execute_result"
    }
   ],
   "source": [
    "pd.DataFrame(df_train['Department Name'].value_counts()/df_train.shape[0]*100)#.sort_values(ascending=False)"
   ]
  },
  {
   "cell_type": "markdown",
   "metadata": {},
   "source": [
    "State police department is the deparment which has the most entries in the dataset, followed by New Haven and CSP Troops departments."
   ]
  },
  {
   "cell_type": "code",
   "execution_count": 30,
   "metadata": {},
   "outputs": [
    {
     "data": {
      "text/plain": [
       "2259"
      ]
     },
     "execution_count": 30,
     "metadata": {},
     "output_type": "execute_result"
    }
   ],
   "source": [
    "df_train.InterventionLocationName.nunique()"
   ]
  },
  {
   "cell_type": "code",
   "execution_count": 31,
   "metadata": {},
   "outputs": [
    {
     "data": {
      "text/plain": [
       "NEW HAVEN               60021\n",
       "WALLINGFORD             33607\n",
       "Manchester              27589\n",
       "WESTPORT                24931\n",
       "Hartford                24784\n",
       "                        ...  \n",
       "columbus rd                 1\n",
       "Union                       1\n",
       "Winthrop St and Majo        1\n",
       "North Elm St & Main         1\n",
       "East Main St/Columbu        1\n",
       "Name: InterventionLocationName, Length: 2259, dtype: int64"
      ]
     },
     "execution_count": 31,
     "metadata": {},
     "output_type": "execute_result"
    }
   ],
   "source": [
    "df_train.InterventionLocationName.value_counts()"
   ]
  },
  {
   "cell_type": "code",
   "execution_count": 32,
   "metadata": {},
   "outputs": [],
   "source": [
    "def preprocess_interventionlocation(data):\n",
    "    \n",
    "    data_ = data.copy()\n",
    "    \n",
    "    data_.InterventionLocationName = data_.InterventionLocationName.str.lower().str.strip()\n",
    "    data_.InterventionLocationName = data_.InterventionLocationName.str.replace('street', 'st')\n",
    "    data_.InterventionLocationName = data_.InterventionLocationName.str.replace('road', 'rd')\n",
    "    data_.InterventionLocationName = data_.InterventionLocationName.str.replace('  ', '')\n",
    "    \n",
    "    return data_"
   ]
  },
  {
   "cell_type": "code",
   "execution_count": 33,
   "metadata": {},
   "outputs": [],
   "source": [
    "df_train = preprocess_interventionlocation(df_train)"
   ]
  },
  {
   "cell_type": "code",
   "execution_count": 34,
   "metadata": {},
   "outputs": [
    {
     "data": {
      "text/plain": [
       "1337"
      ]
     },
     "execution_count": 34,
     "metadata": {},
     "output_type": "execute_result"
    }
   ],
   "source": [
    "df_train.InterventionLocationName.nunique()"
   ]
  },
  {
   "cell_type": "markdown",
   "metadata": {},
   "source": [
    "For the InterventionLocation feature, uniformizing the strings allowed a reduction of 41% of the variability of the names in the dataset (reduced from 2259 to 1337 unique strings)."
   ]
  },
  {
   "cell_type": "code",
   "execution_count": 35,
   "metadata": {},
   "outputs": [
    {
     "data": {
      "text/html": [
       "<div>\n",
       "<style scoped>\n",
       "    .dataframe tbody tr th:only-of-type {\n",
       "        vertical-align: middle;\n",
       "    }\n",
       "\n",
       "    .dataframe tbody tr th {\n",
       "        vertical-align: top;\n",
       "    }\n",
       "\n",
       "    .dataframe thead th {\n",
       "        text-align: right;\n",
       "    }\n",
       "</style>\n",
       "<table border=\"1\" class=\"dataframe\">\n",
       "  <thead>\n",
       "    <tr style=\"text-align: right;\">\n",
       "      <th></th>\n",
       "      <th>InterventionLocationName</th>\n",
       "    </tr>\n",
       "  </thead>\n",
       "  <tbody>\n",
       "    <tr>\n",
       "      <th>new haven</th>\n",
       "      <td>3.640193</td>\n",
       "    </tr>\n",
       "    <tr>\n",
       "      <th>stamford</th>\n",
       "      <td>2.101566</td>\n",
       "    </tr>\n",
       "    <tr>\n",
       "      <th>hartford</th>\n",
       "      <td>2.036943</td>\n",
       "    </tr>\n",
       "    <tr>\n",
       "      <th>wallingford</th>\n",
       "      <td>1.948721</td>\n",
       "    </tr>\n",
       "    <tr>\n",
       "      <th>danbury</th>\n",
       "      <td>1.911322</td>\n",
       "    </tr>\n",
       "    <tr>\n",
       "      <th>...</th>\n",
       "      <td>...</td>\n",
       "    </tr>\n",
       "    <tr>\n",
       "      <th>thomaston</th>\n",
       "      <td>0.318247</td>\n",
       "    </tr>\n",
       "    <tr>\n",
       "      <th>stonington</th>\n",
       "      <td>0.315865</td>\n",
       "    </tr>\n",
       "    <tr>\n",
       "      <th>harwinton</th>\n",
       "      <td>0.310074</td>\n",
       "    </tr>\n",
       "    <tr>\n",
       "      <th>north stonington</th>\n",
       "      <td>0.309154</td>\n",
       "    </tr>\n",
       "    <tr>\n",
       "      <th>terryville</th>\n",
       "      <td>0.300603</td>\n",
       "    </tr>\n",
       "  </tbody>\n",
       "</table>\n",
       "<p>100 rows × 1 columns</p>\n",
       "</div>"
      ],
      "text/plain": [
       "                  InterventionLocationName\n",
       "new haven                         3.640193\n",
       "stamford                          2.101566\n",
       "hartford                          2.036943\n",
       "wallingford                       1.948721\n",
       "danbury                           1.911322\n",
       "...                                    ...\n",
       "thomaston                         0.318247\n",
       "stonington                        0.315865\n",
       "harwinton                         0.310074\n",
       "north stonington                  0.309154\n",
       "terryville                        0.300603\n",
       "\n",
       "[100 rows x 1 columns]"
      ]
     },
     "execution_count": 35,
     "metadata": {},
     "output_type": "execute_result"
    }
   ],
   "source": [
    "pd.DataFrame(df_train.InterventionLocationName.value_counts()/df_train.shape[0]*100).head(100)"
   ]
  },
  {
   "cell_type": "code",
   "execution_count": 36,
   "metadata": {},
   "outputs": [
    {
     "data": {
      "image/png": "[encoded data removed]",
      "text/plain": [
       "<Figure size 1080x360 with 1 Axes>"
      ]
     },
     "metadata": {
      "needs_background": "light"
     },
     "output_type": "display_data"
    }
   ],
   "source": [
    "df_train.groupby(['InterventionLocationName'])['StatuteReason'].count().sort_values(ascending= False).head(10).plot(kind='bar', figsize=(15, 5), rot=0)\n",
    "plt.title(\"Contraband Indicator by Intervention Location Name (Top 10)\", y=1.013, fontsize=18)\n",
    "plt.xlabel(\"Intervention Location Name\", labelpad=16)\n",
    "plt.ylabel(\"Count Contraband Indicator\", labelpad=16);"
   ]
  },
  {
   "cell_type": "code",
   "execution_count": 37,
   "metadata": {},
   "outputs": [
    {
     "data": {
      "text/plain": [
       "18"
      ]
     },
     "execution_count": 37,
     "metadata": {},
     "output_type": "execute_result"
    }
   ],
   "source": [
    "df_train.StatuteReason.nunique()"
   ]
  },
  {
   "cell_type": "code",
   "execution_count": 38,
   "metadata": {},
   "outputs": [
    {
     "data": {
      "text/plain": [
       "Speed Related             508925\n",
       "Defective Lights          169846\n",
       "Registration              169664\n",
       "Cell Phone                163860\n",
       "Moving Violation          143463\n",
       "Other                     133215\n",
       "Traffic Control Signal    132667\n",
       "Stop Sign                 123016\n",
       "STC Violation              92485\n",
       "Seatbelt                   62402\n",
       "Display of Plates          50959\n",
       "Other/Error                34943\n",
       "Window Tint                20680\n",
       "Administrative Offense     20328\n",
       "Suspended License           9244\n",
       "Unlicensed Operation        6912\n",
       "Equipment Violation         4991\n",
       "Stop Sign                     22\n",
       "Name: StatuteReason, dtype: int64"
      ]
     },
     "execution_count": 38,
     "metadata": {},
     "output_type": "execute_result"
    }
   ],
   "source": [
    "df_train.StatuteReason.value_counts()"
   ]
  },
  {
   "cell_type": "code",
   "execution_count": 39,
   "metadata": {},
   "outputs": [],
   "source": [
    "df_train.StatuteReason = df_train.StatuteReason.str.lower().str.strip()"
   ]
  },
  {
   "cell_type": "code",
   "execution_count": 40,
   "metadata": {},
   "outputs": [
    {
     "data": {
      "text/plain": [
       "17"
      ]
     },
     "execution_count": 40,
     "metadata": {},
     "output_type": "execute_result"
    }
   ],
   "source": [
    "df_train.StatuteReason.nunique()"
   ]
  },
  {
   "cell_type": "code",
   "execution_count": 41,
   "metadata": {},
   "outputs": [
    {
     "data": {
      "image/png": "[encoded data removed]",
      "text/plain": [
       "<Figure size 1080x360 with 1 Axes>"
      ]
     },
     "metadata": {
      "needs_background": "light"
     },
     "output_type": "display_data"
    }
   ],
   "source": [
    "df_train.groupby(['StatuteReason'])['StatuteReason'].count().sort_values(ascending= False).head(5).plot(kind='bar', figsize=(15, 5), rot=0)\n",
    "plt.title(\"Contraband Indicator by Statute Reason (Top 5)\", y=1.013, fontsize=18)\n",
    "plt.xlabel(\"Statute Reason\", labelpad=16)\n",
    "plt.ylabel(\"Count Contraband Indicator\", labelpad=16);"
   ]
  },
  {
   "cell_type": "markdown",
   "metadata": {},
   "source": [
    "Changing format of feature InterventionDateTime to datetime type in order to do further date and time analysis and create other date/timefeatures."
   ]
  },
  {
   "cell_type": "code",
   "execution_count": 42,
   "metadata": {},
   "outputs": [],
   "source": [
    "def preprocess_datetime(data):\n",
    "    \n",
    "    data_ = data.copy()\n",
    "    \n",
    "    data_.InterventionDateTime = pd.to_datetime(data_.InterventionDateTime, format='%m/%d/%Y %I:%M:%S %p')\n",
    "    \n",
    "    \n",
    "    data_ = data_.assign(HourDay =data_.InterventionDateTime.dt.hour + (data_.InterventionDateTime.dt.minute / 60),\n",
    "                           DayWeek =data_.InterventionDateTime.dt.dayofweek,\n",
    "                           Month = data_.InterventionDateTime.dt.month)\n",
    "\n",
    "    data_['PeriodDay'] = data_['HourDay'].map(lambda x: 'morning' if 5<= x < 13 else('afternoon' if 13 <=x < 18 else 'night'))\n",
    "\n",
    "    data_.HourDay = data_.HourDay.apply(lambda x: round(x,1)).apply(lambda x: 0.0 if  x==24.0 else x)\n",
    "\n",
    "\n",
    "    data_.drop(columns=['InterventionDateTime'], inplace=True)\n",
    "    \n",
    "    return data_"
   ]
  },
  {
   "cell_type": "code",
   "execution_count": 43,
   "metadata": {},
   "outputs": [],
   "source": [
    "df_train = preprocess_datetime(df_train)"
   ]
  },
  {
   "cell_type": "code",
   "execution_count": 44,
   "metadata": {},
   "outputs": [
    {
     "data": {
      "text/html": [
       "<div>\n",
       "<style scoped>\n",
       "    .dataframe tbody tr th:only-of-type {\n",
       "        vertical-align: middle;\n",
       "    }\n",
       "\n",
       "    .dataframe tbody tr th {\n",
       "        vertical-align: top;\n",
       "    }\n",
       "\n",
       "    .dataframe thead th {\n",
       "        text-align: right;\n",
       "    }\n",
       "</style>\n",
       "<table border=\"1\" class=\"dataframe\">\n",
       "  <thead>\n",
       "    <tr style=\"text-align: right;\">\n",
       "      <th></th>\n",
       "      <th>VehicleSearchedIndicator</th>\n",
       "      <th>ContrabandIndicator</th>\n",
       "      <th>Department Name</th>\n",
       "      <th>InterventionLocationName</th>\n",
       "      <th>InterventionReasonCode</th>\n",
       "      <th>ReportingOfficerIdentificationID</th>\n",
       "      <th>ResidentIndicator</th>\n",
       "      <th>SearchAuthorizationCode</th>\n",
       "      <th>StatuteReason</th>\n",
       "      <th>SubjectAge</th>\n",
       "      <th>SubjectEthnicityCode</th>\n",
       "      <th>SubjectRaceCode</th>\n",
       "      <th>SubjectSexCode</th>\n",
       "      <th>TownResidentIndicator</th>\n",
       "      <th>HourDay</th>\n",
       "      <th>DayWeek</th>\n",
       "      <th>Month</th>\n",
       "      <th>PeriodDay</th>\n",
       "    </tr>\n",
       "  </thead>\n",
       "  <tbody>\n",
       "    <tr>\n",
       "      <th>674554</th>\n",
       "      <td>False</td>\n",
       "      <td>False</td>\n",
       "      <td>state police</td>\n",
       "      <td>essex</td>\n",
       "      <td>V</td>\n",
       "      <td>277048371</td>\n",
       "      <td>True</td>\n",
       "      <td>N</td>\n",
       "      <td>other/error</td>\n",
       "      <td>36.0</td>\n",
       "      <td>N</td>\n",
       "      <td>W</td>\n",
       "      <td>M</td>\n",
       "      <td>False</td>\n",
       "      <td>12.0</td>\n",
       "      <td>6</td>\n",
       "      <td>11</td>\n",
       "      <td>morning</td>\n",
       "    </tr>\n",
       "    <tr>\n",
       "      <th>1255314</th>\n",
       "      <td>False</td>\n",
       "      <td>False</td>\n",
       "      <td>csp troop c</td>\n",
       "      <td>tolland</td>\n",
       "      <td>V</td>\n",
       "      <td>1000003506</td>\n",
       "      <td>False</td>\n",
       "      <td>N</td>\n",
       "      <td>stc violation</td>\n",
       "      <td>50.0</td>\n",
       "      <td>N</td>\n",
       "      <td>W</td>\n",
       "      <td>F</td>\n",
       "      <td>False</td>\n",
       "      <td>22.9</td>\n",
       "      <td>0</td>\n",
       "      <td>6</td>\n",
       "      <td>night</td>\n",
       "    </tr>\n",
       "    <tr>\n",
       "      <th>1594148</th>\n",
       "      <td>False</td>\n",
       "      <td>False</td>\n",
       "      <td>norwalk</td>\n",
       "      <td>norwalk</td>\n",
       "      <td>V</td>\n",
       "      <td>100000075</td>\n",
       "      <td>True</td>\n",
       "      <td>N</td>\n",
       "      <td>traffic control signal</td>\n",
       "      <td>29.0</td>\n",
       "      <td>H</td>\n",
       "      <td>W</td>\n",
       "      <td>F</td>\n",
       "      <td>True</td>\n",
       "      <td>2.1</td>\n",
       "      <td>6</td>\n",
       "      <td>2</td>\n",
       "      <td>night</td>\n",
       "    </tr>\n",
       "    <tr>\n",
       "      <th>724674</th>\n",
       "      <td>False</td>\n",
       "      <td>False</td>\n",
       "      <td>state police</td>\n",
       "      <td>farmington</td>\n",
       "      <td>V</td>\n",
       "      <td>1000003200</td>\n",
       "      <td>True</td>\n",
       "      <td>N</td>\n",
       "      <td>other/error</td>\n",
       "      <td>33.0</td>\n",
       "      <td>N</td>\n",
       "      <td>W</td>\n",
       "      <td>F</td>\n",
       "      <td>False</td>\n",
       "      <td>7.6</td>\n",
       "      <td>5</td>\n",
       "      <td>12</td>\n",
       "      <td>morning</td>\n",
       "    </tr>\n",
       "    <tr>\n",
       "      <th>384484</th>\n",
       "      <td>False</td>\n",
       "      <td>False</td>\n",
       "      <td>newtown</td>\n",
       "      <td>newtown</td>\n",
       "      <td>V</td>\n",
       "      <td>336</td>\n",
       "      <td>True</td>\n",
       "      <td>N</td>\n",
       "      <td>speed related</td>\n",
       "      <td>19.0</td>\n",
       "      <td>N</td>\n",
       "      <td>W</td>\n",
       "      <td>F</td>\n",
       "      <td>True</td>\n",
       "      <td>23.2</td>\n",
       "      <td>2</td>\n",
       "      <td>6</td>\n",
       "      <td>night</td>\n",
       "    </tr>\n",
       "    <tr>\n",
       "      <th>...</th>\n",
       "      <td>...</td>\n",
       "      <td>...</td>\n",
       "      <td>...</td>\n",
       "      <td>...</td>\n",
       "      <td>...</td>\n",
       "      <td>...</td>\n",
       "      <td>...</td>\n",
       "      <td>...</td>\n",
       "      <td>...</td>\n",
       "      <td>...</td>\n",
       "      <td>...</td>\n",
       "      <td>...</td>\n",
       "      <td>...</td>\n",
       "      <td>...</td>\n",
       "      <td>...</td>\n",
       "      <td>...</td>\n",
       "      <td>...</td>\n",
       "      <td>...</td>\n",
       "    </tr>\n",
       "    <tr>\n",
       "      <th>73349</th>\n",
       "      <td>False</td>\n",
       "      <td>False</td>\n",
       "      <td>old saybrook</td>\n",
       "      <td>old saybrook</td>\n",
       "      <td>V</td>\n",
       "      <td>S17</td>\n",
       "      <td>True</td>\n",
       "      <td>N</td>\n",
       "      <td>registration</td>\n",
       "      <td>29.0</td>\n",
       "      <td>N</td>\n",
       "      <td>W</td>\n",
       "      <td>F</td>\n",
       "      <td>True</td>\n",
       "      <td>17.9</td>\n",
       "      <td>3</td>\n",
       "      <td>11</td>\n",
       "      <td>afternoon</td>\n",
       "    </tr>\n",
       "    <tr>\n",
       "      <th>836489</th>\n",
       "      <td>False</td>\n",
       "      <td>False</td>\n",
       "      <td>stratford</td>\n",
       "      <td>stratford</td>\n",
       "      <td>V</td>\n",
       "      <td>30225</td>\n",
       "      <td>True</td>\n",
       "      <td>N</td>\n",
       "      <td>registration</td>\n",
       "      <td>71.0</td>\n",
       "      <td>N</td>\n",
       "      <td>W</td>\n",
       "      <td>M</td>\n",
       "      <td>False</td>\n",
       "      <td>23.1</td>\n",
       "      <td>3</td>\n",
       "      <td>3</td>\n",
       "      <td>night</td>\n",
       "    </tr>\n",
       "    <tr>\n",
       "      <th>491263</th>\n",
       "      <td>False</td>\n",
       "      <td>False</td>\n",
       "      <td>orange</td>\n",
       "      <td>orange</td>\n",
       "      <td>V</td>\n",
       "      <td>WKE0770</td>\n",
       "      <td>True</td>\n",
       "      <td>N</td>\n",
       "      <td>speed related</td>\n",
       "      <td>21.0</td>\n",
       "      <td>N</td>\n",
       "      <td>W</td>\n",
       "      <td>F</td>\n",
       "      <td>False</td>\n",
       "      <td>17.3</td>\n",
       "      <td>1</td>\n",
       "      <td>8</td>\n",
       "      <td>afternoon</td>\n",
       "    </tr>\n",
       "    <tr>\n",
       "      <th>491755</th>\n",
       "      <td>False</td>\n",
       "      <td>False</td>\n",
       "      <td>newtown</td>\n",
       "      <td>newtown</td>\n",
       "      <td>V</td>\n",
       "      <td>332</td>\n",
       "      <td>True</td>\n",
       "      <td>N</td>\n",
       "      <td>speed related</td>\n",
       "      <td>34.0</td>\n",
       "      <td>N</td>\n",
       "      <td>W</td>\n",
       "      <td>M</td>\n",
       "      <td>True</td>\n",
       "      <td>22.4</td>\n",
       "      <td>1</td>\n",
       "      <td>8</td>\n",
       "      <td>night</td>\n",
       "    </tr>\n",
       "    <tr>\n",
       "      <th>128037</th>\n",
       "      <td>False</td>\n",
       "      <td>False</td>\n",
       "      <td>state police</td>\n",
       "      <td>manchester</td>\n",
       "      <td>V</td>\n",
       "      <td>1000002602</td>\n",
       "      <td>True</td>\n",
       "      <td>N</td>\n",
       "      <td>speed related</td>\n",
       "      <td>36.0</td>\n",
       "      <td>N</td>\n",
       "      <td>W</td>\n",
       "      <td>M</td>\n",
       "      <td>False</td>\n",
       "      <td>16.9</td>\n",
       "      <td>2</td>\n",
       "      <td>1</td>\n",
       "      <td>afternoon</td>\n",
       "    </tr>\n",
       "  </tbody>\n",
       "</table>\n",
       "<p>1847622 rows × 18 columns</p>\n",
       "</div>"
      ],
      "text/plain": [
       "         VehicleSearchedIndicator  ContrabandIndicator Department Name  \\\n",
       "674554                      False                False    state police   \n",
       "1255314                     False                False     csp troop c   \n",
       "1594148                     False                False         norwalk   \n",
       "724674                      False                False    state police   \n",
       "384484                      False                False         newtown   \n",
       "...                           ...                  ...             ...   \n",
       "73349                       False                False    old saybrook   \n",
       "836489                      False                False       stratford   \n",
       "491263                      False                False          orange   \n",
       "491755                      False                False         newtown   \n",
       "128037                      False                False    state police   \n",
       "\n",
       "        InterventionLocationName InterventionReasonCode  \\\n",
       "674554                     essex                      V   \n",
       "1255314                  tolland                      V   \n",
       "1594148                  norwalk                      V   \n",
       "724674                farmington                      V   \n",
       "384484                   newtown                      V   \n",
       "...                          ...                    ...   \n",
       "73349               old saybrook                      V   \n",
       "836489                 stratford                      V   \n",
       "491263                    orange                      V   \n",
       "491755                   newtown                      V   \n",
       "128037                manchester                      V   \n",
       "\n",
       "        ReportingOfficerIdentificationID  ResidentIndicator  \\\n",
       "674554                         277048371               True   \n",
       "1255314                       1000003506              False   \n",
       "1594148                        100000075               True   \n",
       "724674                        1000003200               True   \n",
       "384484                               336               True   \n",
       "...                                  ...                ...   \n",
       "73349                           S17                    True   \n",
       "836489                             30225               True   \n",
       "491263                           WKE0770               True   \n",
       "491755                               332               True   \n",
       "128037                        1000002602               True   \n",
       "\n",
       "        SearchAuthorizationCode           StatuteReason  SubjectAge  \\\n",
       "674554                        N             other/error        36.0   \n",
       "1255314                       N           stc violation        50.0   \n",
       "1594148                       N  traffic control signal        29.0   \n",
       "724674                        N             other/error        33.0   \n",
       "384484                        N           speed related        19.0   \n",
       "...                         ...                     ...         ...   \n",
       "73349                         N            registration        29.0   \n",
       "836489                        N            registration        71.0   \n",
       "491263                        N           speed related        21.0   \n",
       "491755                        N           speed related        34.0   \n",
       "128037                        N           speed related        36.0   \n",
       "\n",
       "        SubjectEthnicityCode SubjectRaceCode SubjectSexCode  \\\n",
       "674554                     N               W              M   \n",
       "1255314                    N               W              F   \n",
       "1594148                    H               W              F   \n",
       "724674                     N               W              F   \n",
       "384484                     N               W              F   \n",
       "...                      ...             ...            ...   \n",
       "73349                      N               W              F   \n",
       "836489                     N               W              M   \n",
       "491263                     N               W              F   \n",
       "491755                     N               W              M   \n",
       "128037                     N               W              M   \n",
       "\n",
       "         TownResidentIndicator  HourDay  DayWeek  Month  PeriodDay  \n",
       "674554                   False     12.0        6     11    morning  \n",
       "1255314                  False     22.9        0      6      night  \n",
       "1594148                   True      2.1        6      2      night  \n",
       "724674                   False      7.6        5     12    morning  \n",
       "384484                    True     23.2        2      6      night  \n",
       "...                        ...      ...      ...    ...        ...  \n",
       "73349                     True     17.9        3     11  afternoon  \n",
       "836489                   False     23.1        3      3      night  \n",
       "491263                   False     17.3        1      8  afternoon  \n",
       "491755                    True     22.4        1      8      night  \n",
       "128037                   False     16.9        2      1  afternoon  \n",
       "\n",
       "[1847622 rows x 18 columns]"
      ]
     },
     "execution_count": 44,
     "metadata": {},
     "output_type": "execute_result"
    }
   ],
   "source": [
    "df_train"
   ]
  },
  {
   "cell_type": "code",
   "execution_count": 45,
   "metadata": {
    "scrolled": true
   },
   "outputs": [
    {
     "data": {
      "image/png": "[encoded data removed]",
      "text/plain": [
       "<Figure size 1080x360 with 1 Axes>"
      ]
     },
     "metadata": {
      "needs_background": "light"
     },
     "output_type": "display_data"
    }
   ],
   "source": [
    "df_train.groupby('HourDay')['ContrabandIndicator'].sum()[1:].plot(kind='line', figsize=(15, 5),)\n",
    "plt.title(\"Contraband Indicator by Hour\", y=1.013, fontsize=18)\n",
    "plt.xlabel(\"Time (h)\", labelpad=16)\n",
    "plt.ylabel(\"Count Indicator Findings\", labelpad=16);"
   ]
  },
  {
   "cell_type": "code",
   "execution_count": 46,
   "metadata": {},
   "outputs": [
    {
     "data": {
      "image/png": "[encoded data removed]",
      "text/plain": [
       "<Figure size 1080x360 with 1 Axes>"
      ]
     },
     "metadata": {
      "needs_background": "light"
     },
     "output_type": "display_data"
    }
   ],
   "source": [
    "df_train.groupby('PeriodDay')['ContrabandIndicator'].sum().plot(kind='bar', figsize=(15, 5),)\n",
    "plt.title(\"Contraband Indicator by PeriodDay\", y=1.013, fontsize=18)\n",
    "plt.xlabel(\"PeriodDay\", labelpad=16)\n",
    "plt.ylabel(\"Count Contraband Indicator\", labelpad=16);   "
   ]
  },
  {
   "cell_type": "code",
   "execution_count": 47,
   "metadata": {},
   "outputs": [
    {
     "data": {
      "image/png": "[encoded data removed]",
      "text/plain": [
       "<Figure size 1080x360 with 1 Axes>"
      ]
     },
     "metadata": {
      "needs_background": "light"
     },
     "output_type": "display_data"
    }
   ],
   "source": [
    "df_train.groupby('Month')['ContrabandIndicator'].sum().plot(kind='line', figsize=(15, 5),)\n",
    "plt.title(\"Contraband Indicator by month\", y=1.013, fontsize=18)\n",
    "plt.xlabel(\"Month\", labelpad=16)\n",
    "plt.ylabel(\"Count Contraband Indicator\", labelpad=16);   "
   ]
  },
  {
   "cell_type": "code",
   "execution_count": 48,
   "metadata": {},
   "outputs": [
    {
     "data": {
      "image/png": "[encoded data removed]",
      "text/plain": [
       "<Figure size 1080x360 with 1 Axes>"
      ]
     },
     "metadata": {
      "needs_background": "light"
     },
     "output_type": "display_data"
    }
   ],
   "source": [
    "df_train.groupby('DayWeek')['ContrabandIndicator'].sum().plot(kind='line', figsize=(15, 5),)\n",
    "plt.title(\"Contraband Indicator by day of the week\", y=1.013, fontsize=18)\n",
    "plt.xlabel(\"Day of the Week (0 - Sunday)\", labelpad=16)\n",
    "plt.ylabel(\"Count Contraband Indicator\", labelpad=16);   "
   ]
  },
  {
   "cell_type": "markdown",
   "metadata": {},
   "source": [
    "### 4. Categorical Features"
   ]
  },
  {
   "cell_type": "code",
   "execution_count": 49,
   "metadata": {},
   "outputs": [
    {
     "data": {
      "text/plain": [
       "array(['V', 'E', 'I', 'no'], dtype=object)"
      ]
     },
     "execution_count": 49,
     "metadata": {},
     "output_type": "execute_result"
    }
   ],
   "source": [
    "df_train.InterventionReasonCode.unique()"
   ]
  },
  {
   "cell_type": "code",
   "execution_count": 50,
   "metadata": {},
   "outputs": [
    {
     "data": {
      "text/html": [
       "<div>\n",
       "<style scoped>\n",
       "    .dataframe tbody tr th:only-of-type {\n",
       "        vertical-align: middle;\n",
       "    }\n",
       "\n",
       "    .dataframe tbody tr th {\n",
       "        vertical-align: top;\n",
       "    }\n",
       "\n",
       "    .dataframe thead th {\n",
       "        text-align: right;\n",
       "    }\n",
       "</style>\n",
       "<table border=\"1\" class=\"dataframe\">\n",
       "  <thead>\n",
       "    <tr style=\"text-align: right;\">\n",
       "      <th></th>\n",
       "      <th>VehicleSearchedIndicator</th>\n",
       "      <th>ContrabandIndicator</th>\n",
       "      <th>Department Name</th>\n",
       "      <th>InterventionLocationName</th>\n",
       "      <th>InterventionReasonCode</th>\n",
       "      <th>ReportingOfficerIdentificationID</th>\n",
       "      <th>ResidentIndicator</th>\n",
       "      <th>SearchAuthorizationCode</th>\n",
       "      <th>StatuteReason</th>\n",
       "      <th>SubjectAge</th>\n",
       "      <th>SubjectEthnicityCode</th>\n",
       "      <th>SubjectRaceCode</th>\n",
       "      <th>SubjectSexCode</th>\n",
       "      <th>TownResidentIndicator</th>\n",
       "      <th>HourDay</th>\n",
       "      <th>DayWeek</th>\n",
       "      <th>Month</th>\n",
       "      <th>PeriodDay</th>\n",
       "    </tr>\n",
       "  </thead>\n",
       "  <tbody>\n",
       "    <tr>\n",
       "      <th>485944</th>\n",
       "      <td>False</td>\n",
       "      <td>False</td>\n",
       "      <td>stamford</td>\n",
       "      <td>stamford</td>\n",
       "      <td>no</td>\n",
       "      <td>7901</td>\n",
       "      <td>False</td>\n",
       "      <td>N</td>\n",
       "      <td>speed related</td>\n",
       "      <td>23.0</td>\n",
       "      <td>N</td>\n",
       "      <td>W</td>\n",
       "      <td>F</td>\n",
       "      <td>False</td>\n",
       "      <td>14.2</td>\n",
       "      <td>5</td>\n",
       "      <td>8</td>\n",
       "      <td>afternoon</td>\n",
       "    </tr>\n",
       "    <tr>\n",
       "      <th>485884</th>\n",
       "      <td>False</td>\n",
       "      <td>False</td>\n",
       "      <td>stamford</td>\n",
       "      <td>stamford</td>\n",
       "      <td>no</td>\n",
       "      <td>7901</td>\n",
       "      <td>True</td>\n",
       "      <td>N</td>\n",
       "      <td>speed related</td>\n",
       "      <td>20.0</td>\n",
       "      <td>N</td>\n",
       "      <td>W</td>\n",
       "      <td>M</td>\n",
       "      <td>True</td>\n",
       "      <td>13.2</td>\n",
       "      <td>5</td>\n",
       "      <td>8</td>\n",
       "      <td>afternoon</td>\n",
       "    </tr>\n",
       "  </tbody>\n",
       "</table>\n",
       "</div>"
      ],
      "text/plain": [
       "        VehicleSearchedIndicator  ContrabandIndicator Department Name  \\\n",
       "485944                     False                False        stamford   \n",
       "485884                     False                False        stamford   \n",
       "\n",
       "       InterventionLocationName InterventionReasonCode  \\\n",
       "485944                 stamford                     no   \n",
       "485884                 stamford                     no   \n",
       "\n",
       "       ReportingOfficerIdentificationID  ResidentIndicator  \\\n",
       "485944                             7901              False   \n",
       "485884                             7901               True   \n",
       "\n",
       "       SearchAuthorizationCode  StatuteReason  SubjectAge  \\\n",
       "485944                       N  speed related        23.0   \n",
       "485884                       N  speed related        20.0   \n",
       "\n",
       "       SubjectEthnicityCode SubjectRaceCode SubjectSexCode  \\\n",
       "485944                    N               W              F   \n",
       "485884                    N               W              M   \n",
       "\n",
       "        TownResidentIndicator  HourDay  DayWeek  Month  PeriodDay  \n",
       "485944                  False     14.2        5      8  afternoon  \n",
       "485884                   True     13.2        5      8  afternoon  "
      ]
     },
     "execution_count": 50,
     "metadata": {},
     "output_type": "execute_result"
    }
   ],
   "source": [
    "df_train[(df_train.InterventionReasonCode == 'no')]"
   ]
  },
  {
   "cell_type": "markdown",
   "metadata": {},
   "source": [
    "There are 2 entries with 'no' in the InterventionReasonCode. These will be dropped not only because they are not a valid InterventionReasonCode but also because it's a very small part of the dataset"
   ]
  },
  {
   "cell_type": "code",
   "execution_count": 51,
   "metadata": {},
   "outputs": [],
   "source": [
    "df_train.drop(df_train[(df_train.InterventionReasonCode == 'no')].index, inplace=True)"
   ]
  },
  {
   "cell_type": "code",
   "execution_count": 52,
   "metadata": {
    "scrolled": true
   },
   "outputs": [
    {
     "data": {
      "text/plain": [
       "N    1781026\n",
       "O      34279\n",
       "C      20501\n",
       "I      11814\n",
       "Name: SearchAuthorizationCode, dtype: int64"
      ]
     },
     "execution_count": 52,
     "metadata": {},
     "output_type": "execute_result"
    }
   ],
   "source": [
    "df_train.SearchAuthorizationCode.value_counts()"
   ]
  },
  {
   "cell_type": "code",
   "execution_count": 53,
   "metadata": {
    "scrolled": true
   },
   "outputs": [
    {
     "data": {
      "text/plain": [
       "array(['N', 'H', 'M'], dtype=object)"
      ]
     },
     "execution_count": 53,
     "metadata": {},
     "output_type": "execute_result"
    }
   ],
   "source": [
    "df_train.SubjectEthnicityCode.unique()"
   ]
  },
  {
   "cell_type": "code",
   "execution_count": 54,
   "metadata": {},
   "outputs": [
    {
     "data": {
      "text/plain": [
       "array(['W', 'B', 'A', 'I'], dtype=object)"
      ]
     },
     "execution_count": 54,
     "metadata": {},
     "output_type": "execute_result"
    }
   ],
   "source": [
    "df_train.SubjectRaceCode.unique()"
   ]
  },
  {
   "cell_type": "code",
   "execution_count": 55,
   "metadata": {},
   "outputs": [
    {
     "data": {
      "text/plain": [
       "array(['W', 'B', 'A', 'I'], dtype=object)"
      ]
     },
     "execution_count": 55,
     "metadata": {},
     "output_type": "execute_result"
    }
   ],
   "source": [
    "df_train.SubjectRaceCode.unique()"
   ]
  },
  {
   "cell_type": "markdown",
   "metadata": {},
   "source": [
    "### 5. Float Features"
   ]
  },
  {
   "cell_type": "code",
   "execution_count": 56,
   "metadata": {},
   "outputs": [
    {
     "name": "stdout",
     "output_type": "stream",
     "text": [
      "Min age: 1.0\n",
      "Max age: 99.0\n",
      "Mean age: 38.66\n",
      "Std age: 14.96\n",
      "Median age: 36.0\n"
     ]
    }
   ],
   "source": [
    "print('Min age:',df_train.SubjectAge.min())\n",
    "print('Max age:',df_train.SubjectAge.max())\n",
    "print('Mean age:',round(df_train.SubjectAge.mean(),2))\n",
    "print('Std age:',round(df_train.SubjectAge.std(),2))\n",
    "print('Median age:',df_train.SubjectAge.median())"
   ]
  },
  {
   "cell_type": "code",
   "execution_count": 57,
   "metadata": {},
   "outputs": [
    {
     "data": {
      "text/plain": [
       "563"
      ]
     },
     "execution_count": 57,
     "metadata": {},
     "output_type": "execute_result"
    }
   ],
   "source": [
    "(df_train.SubjectAge<12).sum()"
   ]
  },
  {
   "cell_type": "markdown",
   "metadata": {},
   "source": [
    "There are a few rows where the age of the driver is low. Being a data entry issue, we will replace all the ages lower than 12 with 12, considering this would be an acceptble age for people to be able to drive a car."
   ]
  },
  {
   "cell_type": "code",
   "execution_count": 58,
   "metadata": {},
   "outputs": [],
   "source": [
    "def preprocess_age(data):\n",
    "    \n",
    "    data_ = data.copy()\n",
    "    \n",
    "    data_.loc[data_.SubjectAge < 14, 'SubjectAge'] = 12.0\n",
    "    \n",
    "    return data_"
   ]
  },
  {
   "cell_type": "code",
   "execution_count": 59,
   "metadata": {},
   "outputs": [],
   "source": [
    "df_train = preprocess_age(df_train)"
   ]
  },
  {
   "cell_type": "code",
   "execution_count": 60,
   "metadata": {},
   "outputs": [
    {
     "data": {
      "image/png": "[encoded data removed]",
      "text/plain": [
       "<Figure size 864x504 with 1 Axes>"
      ]
     },
     "metadata": {
      "needs_background": "light"
     },
     "output_type": "display_data"
    }
   ],
   "source": [
    "plt.figure(figsize=(12,7))\n",
    "sns.histplot(df_train['SubjectAge'], bins=12);"
   ]
  },
  {
   "cell_type": "markdown",
   "metadata": {},
   "source": [
    "### 6. Modelling"
   ]
  },
  {
   "cell_type": "code",
   "execution_count": 61,
   "metadata": {},
   "outputs": [
    {
     "data": {
      "text/plain": [
       "Index(['VehicleSearchedIndicator', 'ContrabandIndicator', 'Department Name',\n",
       "       'InterventionLocationName', 'InterventionReasonCode',\n",
       "       'ReportingOfficerIdentificationID', 'ResidentIndicator',\n",
       "       'SearchAuthorizationCode', 'StatuteReason', 'SubjectAge',\n",
       "       'SubjectEthnicityCode', 'SubjectRaceCode', 'SubjectSexCode',\n",
       "       'TownResidentIndicator', 'HourDay', 'DayWeek', 'Month', 'PeriodDay'],\n",
       "      dtype='object')"
      ]
     },
     "execution_count": 61,
     "metadata": {},
     "output_type": "execute_result"
    }
   ],
   "source": [
    "df_train.columns"
   ]
  },
  {
   "cell_type": "code",
   "execution_count": 62,
   "metadata": {},
   "outputs": [
    {
     "data": {
      "text/html": [
       "<div>\n",
       "<style scoped>\n",
       "    .dataframe tbody tr th:only-of-type {\n",
       "        vertical-align: middle;\n",
       "    }\n",
       "\n",
       "    .dataframe tbody tr th {\n",
       "        vertical-align: top;\n",
       "    }\n",
       "\n",
       "    .dataframe thead th {\n",
       "        text-align: right;\n",
       "    }\n",
       "</style>\n",
       "<table border=\"1\" class=\"dataframe\">\n",
       "  <thead>\n",
       "    <tr style=\"text-align: right;\">\n",
       "      <th></th>\n",
       "      <th>VehicleSearchedIndicator</th>\n",
       "      <th>ContrabandIndicator</th>\n",
       "      <th>ResidentIndicator</th>\n",
       "      <th>SubjectAge</th>\n",
       "      <th>TownResidentIndicator</th>\n",
       "      <th>HourDay</th>\n",
       "      <th>DayWeek</th>\n",
       "      <th>Month</th>\n",
       "    </tr>\n",
       "  </thead>\n",
       "  <tbody>\n",
       "    <tr>\n",
       "      <th>VehicleSearchedIndicator</th>\n",
       "      <td>1.000000</td>\n",
       "      <td>0.537241</td>\n",
       "      <td>0.026874</td>\n",
       "      <td>-0.096858</td>\n",
       "      <td>0.033161</td>\n",
       "      <td>0.007268</td>\n",
       "      <td>0.013000</td>\n",
       "      <td>-0.006883</td>\n",
       "    </tr>\n",
       "    <tr>\n",
       "      <th>ContrabandIndicator</th>\n",
       "      <td>0.537241</td>\n",
       "      <td>1.000000</td>\n",
       "      <td>0.014601</td>\n",
       "      <td>-0.071405</td>\n",
       "      <td>0.015419</td>\n",
       "      <td>0.003895</td>\n",
       "      <td>0.008435</td>\n",
       "      <td>-0.005554</td>\n",
       "    </tr>\n",
       "    <tr>\n",
       "      <th>ResidentIndicator</th>\n",
       "      <td>0.026874</td>\n",
       "      <td>0.014601</td>\n",
       "      <td>1.000000</td>\n",
       "      <td>-0.003293</td>\n",
       "      <td>0.162896</td>\n",
       "      <td>0.007418</td>\n",
       "      <td>-0.033945</td>\n",
       "      <td>-0.012076</td>\n",
       "    </tr>\n",
       "    <tr>\n",
       "      <th>SubjectAge</th>\n",
       "      <td>-0.096858</td>\n",
       "      <td>-0.071405</td>\n",
       "      <td>-0.003293</td>\n",
       "      <td>1.000000</td>\n",
       "      <td>0.022458</td>\n",
       "      <td>-0.002057</td>\n",
       "      <td>-0.037811</td>\n",
       "      <td>0.002492</td>\n",
       "    </tr>\n",
       "    <tr>\n",
       "      <th>TownResidentIndicator</th>\n",
       "      <td>0.033161</td>\n",
       "      <td>0.015419</td>\n",
       "      <td>0.162896</td>\n",
       "      <td>0.022458</td>\n",
       "      <td>1.000000</td>\n",
       "      <td>0.019587</td>\n",
       "      <td>-0.016883</td>\n",
       "      <td>-0.014169</td>\n",
       "    </tr>\n",
       "    <tr>\n",
       "      <th>HourDay</th>\n",
       "      <td>0.007268</td>\n",
       "      <td>0.003895</td>\n",
       "      <td>0.007418</td>\n",
       "      <td>-0.002057</td>\n",
       "      <td>0.019587</td>\n",
       "      <td>1.000000</td>\n",
       "      <td>-0.004205</td>\n",
       "      <td>0.005013</td>\n",
       "    </tr>\n",
       "    <tr>\n",
       "      <th>DayWeek</th>\n",
       "      <td>0.013000</td>\n",
       "      <td>0.008435</td>\n",
       "      <td>-0.033945</td>\n",
       "      <td>-0.037811</td>\n",
       "      <td>-0.016883</td>\n",
       "      <td>-0.004205</td>\n",
       "      <td>1.000000</td>\n",
       "      <td>-0.003635</td>\n",
       "    </tr>\n",
       "    <tr>\n",
       "      <th>Month</th>\n",
       "      <td>-0.006883</td>\n",
       "      <td>-0.005554</td>\n",
       "      <td>-0.012076</td>\n",
       "      <td>0.002492</td>\n",
       "      <td>-0.014169</td>\n",
       "      <td>0.005013</td>\n",
       "      <td>-0.003635</td>\n",
       "      <td>1.000000</td>\n",
       "    </tr>\n",
       "  </tbody>\n",
       "</table>\n",
       "</div>"
      ],
      "text/plain": [
       "                          VehicleSearchedIndicator  ContrabandIndicator  \\\n",
       "VehicleSearchedIndicator                  1.000000             0.537241   \n",
       "ContrabandIndicator                       0.537241             1.000000   \n",
       "ResidentIndicator                         0.026874             0.014601   \n",
       "SubjectAge                               -0.096858            -0.071405   \n",
       "TownResidentIndicator                     0.033161             0.015419   \n",
       "HourDay                                   0.007268             0.003895   \n",
       "DayWeek                                   0.013000             0.008435   \n",
       "Month                                    -0.006883            -0.005554   \n",
       "\n",
       "                          ResidentIndicator  SubjectAge  \\\n",
       "VehicleSearchedIndicator           0.026874   -0.096858   \n",
       "ContrabandIndicator                0.014601   -0.071405   \n",
       "ResidentIndicator                  1.000000   -0.003293   \n",
       "SubjectAge                        -0.003293    1.000000   \n",
       "TownResidentIndicator              0.162896    0.022458   \n",
       "HourDay                            0.007418   -0.002057   \n",
       "DayWeek                           -0.033945   -0.037811   \n",
       "Month                             -0.012076    0.002492   \n",
       "\n",
       "                          TownResidentIndicator   HourDay   DayWeek     Month  \n",
       "VehicleSearchedIndicator               0.033161  0.007268  0.013000 -0.006883  \n",
       "ContrabandIndicator                    0.015419  0.003895  0.008435 -0.005554  \n",
       "ResidentIndicator                      0.162896  0.007418 -0.033945 -0.012076  \n",
       "SubjectAge                             0.022458 -0.002057 -0.037811  0.002492  \n",
       "TownResidentIndicator                  1.000000  0.019587 -0.016883 -0.014169  \n",
       "HourDay                                0.019587  1.000000 -0.004205  0.005013  \n",
       "DayWeek                               -0.016883 -0.004205  1.000000 -0.003635  \n",
       "Month                                 -0.014169  0.005013 -0.003635  1.000000  "
      ]
     },
     "execution_count": 62,
     "metadata": {},
     "output_type": "execute_result"
    }
   ],
   "source": [
    "df_train.corr()"
   ]
  },
  {
   "cell_type": "markdown",
   "metadata": {},
   "source": [
    "After a few iterations, we came up with the features selected below:"
   ]
  },
  {
   "cell_type": "code",
   "execution_count": 63,
   "metadata": {},
   "outputs": [],
   "source": [
    "X_train= df_train[[ #'Department Name',\n",
    "        'InterventionLocationName', \n",
    "        #'InterventionReasonCode',\n",
    "       # 'ResidentIndicator', \n",
    "    'SearchAuthorizationCode',\n",
    "    #'StatuteReason',\n",
    "    'SubjectAge',\n",
    "      # 'TownResidentIndicator', \n",
    "    'HourDay', \n",
    "    #'DayWeek',\n",
    "    'Month'\n",
    "    #, 'PartDay'\n",
    "        ]]\n",
    "\n",
    "y_train = df_train['ContrabandIndicator']"
   ]
  },
  {
   "cell_type": "code",
   "execution_count": 64,
   "metadata": {},
   "outputs": [],
   "source": [
    "def preprocess_data(data):\n",
    "    \n",
    "    data_ = data.copy()\n",
    "    \n",
    "    data_ = drop_duplicates(data_)\n",
    "    data_ = drop_nulls(data_)\n",
    "    data_ = preprocess_interventionlocation(data_)\n",
    "    data_ = preprocess_datetime (data_)\n",
    "    data_ = preprocess_age(data_)\n",
    "    \n",
    "    X = data_[[ 'InterventionLocationName', 'SearchAuthorizationCode', 'SubjectAge', 'HourDay',  'Month']]\n",
    "\n",
    "    y = data_['ContrabandIndicator']\n",
    "    \n",
    "    return X, y\n",
    "    "
   ]
  },
  {
   "cell_type": "code",
   "execution_count": 65,
   "metadata": {},
   "outputs": [],
   "source": [
    "X_test, y_test = preprocess_data(df_test)"
   ]
  },
  {
   "cell_type": "code",
   "execution_count": 66,
   "metadata": {},
   "outputs": [
    {
     "data": {
      "text/plain": [
       "False    0.988652\n",
       "True     0.011348\n",
       "Name: ContrabandIndicator, dtype: float64"
      ]
     },
     "execution_count": 66,
     "metadata": {},
     "output_type": "execute_result"
    }
   ],
   "source": [
    "y_train.value_counts()/y_train.shape[0]"
   ]
  },
  {
   "cell_type": "code",
   "execution_count": 67,
   "metadata": {},
   "outputs": [
    {
     "name": "stderr",
     "output_type": "stream",
     "text": [
      "C:\\Users\\ines.s.almeida\\Anaconda3\\lib\\site-packages\\category_encoders\\utils.py:21: FutureWarning: is_categorical is deprecated and will be removed in a future version.  Use is_categorical_dtype instead\n",
      "  elif pd.api.types.is_categorical(cols):\n"
     ]
    }
   ],
   "source": [
    "be = BinaryEncoder()\n",
    "be.fit(X_train)\n",
    "X_train_encoded = be.transform(X_train)\n",
    "X_test_encoded = be.transform(X_test)"
   ]
  },
  {
   "cell_type": "code",
   "execution_count": 68,
   "metadata": {},
   "outputs": [],
   "source": [
    "def select_k_best(method, X, y, k=4):\n",
    "    skb = SelectKBest(method, k=k)\n",
    "    skb.fit(X, y)\n",
    "    if method is not mutual_info_classif:\n",
    "        p_values = skb.pvalues_.round(4)\n",
    "    else:\n",
    "        p_values = None\n",
    "    result = pd.DataFrame({\n",
    "        'column': X.columns, \n",
    "        'scores': skb.scores_,\n",
    "        'selected': skb.get_support()\n",
    "    }).sort_values(by='scores', ascending=False)\n",
    "    return result"
   ]
  },
  {
   "cell_type": "code",
   "execution_count": 69,
   "metadata": {},
   "outputs": [
    {
     "name": "stderr",
     "output_type": "stream",
     "text": [
      "C:\\Users\\ines.s.almeida\\Anaconda3\\lib\\site-packages\\sklearn\\feature_selection\\_univariate_selection.py:114: UserWarning: Features [0] are constant.\n",
      "  warnings.warn(\"Features %s are constant.\" % constant_features_idx,\n",
      "C:\\Users\\ines.s.almeida\\Anaconda3\\lib\\site-packages\\sklearn\\feature_selection\\_univariate_selection.py:116: RuntimeWarning: invalid value encountered in true_divide\n",
      "  f = msb / msw\n"
     ]
    },
    {
     "data": {
      "text/html": [
       "<div>\n",
       "<style scoped>\n",
       "    .dataframe tbody tr th:only-of-type {\n",
       "        vertical-align: middle;\n",
       "    }\n",
       "\n",
       "    .dataframe tbody tr th {\n",
       "        vertical-align: top;\n",
       "    }\n",
       "\n",
       "    .dataframe thead th {\n",
       "        text-align: right;\n",
       "    }\n",
       "</style>\n",
       "<table border=\"1\" class=\"dataframe\">\n",
       "  <thead>\n",
       "    <tr style=\"text-align: right;\">\n",
       "      <th></th>\n",
       "      <th>column</th>\n",
       "      <th>scores</th>\n",
       "      <th>selected</th>\n",
       "    </tr>\n",
       "  </thead>\n",
       "  <tbody>\n",
       "    <tr>\n",
       "      <th>13</th>\n",
       "      <td>SearchAuthorizationCode_1</td>\n",
       "      <td>609777.249994</td>\n",
       "      <td>True</td>\n",
       "    </tr>\n",
       "    <tr>\n",
       "      <th>14</th>\n",
       "      <td>SearchAuthorizationCode_2</td>\n",
       "      <td>402170.605610</td>\n",
       "      <td>True</td>\n",
       "    </tr>\n",
       "    <tr>\n",
       "      <th>12</th>\n",
       "      <td>SearchAuthorizationCode_0</td>\n",
       "      <td>12152.140265</td>\n",
       "      <td>True</td>\n",
       "    </tr>\n",
       "    <tr>\n",
       "      <th>15</th>\n",
       "      <td>SubjectAge</td>\n",
       "      <td>9468.605535</td>\n",
       "      <td>True</td>\n",
       "    </tr>\n",
       "    <tr>\n",
       "      <th>4</th>\n",
       "      <td>InterventionLocationName_4</td>\n",
       "      <td>494.650741</td>\n",
       "      <td>True</td>\n",
       "    </tr>\n",
       "    <tr>\n",
       "      <th>11</th>\n",
       "      <td>InterventionLocationName_11</td>\n",
       "      <td>113.571131</td>\n",
       "      <td>True</td>\n",
       "    </tr>\n",
       "    <tr>\n",
       "      <th>17</th>\n",
       "      <td>Month</td>\n",
       "      <td>56.989372</td>\n",
       "      <td>True</td>\n",
       "    </tr>\n",
       "    <tr>\n",
       "      <th>9</th>\n",
       "      <td>InterventionLocationName_9</td>\n",
       "      <td>28.965851</td>\n",
       "      <td>True</td>\n",
       "    </tr>\n",
       "    <tr>\n",
       "      <th>16</th>\n",
       "      <td>HourDay</td>\n",
       "      <td>28.032136</td>\n",
       "      <td>True</td>\n",
       "    </tr>\n",
       "    <tr>\n",
       "      <th>5</th>\n",
       "      <td>InterventionLocationName_5</td>\n",
       "      <td>25.359538</td>\n",
       "      <td>True</td>\n",
       "    </tr>\n",
       "    <tr>\n",
       "      <th>6</th>\n",
       "      <td>InterventionLocationName_6</td>\n",
       "      <td>19.675863</td>\n",
       "      <td>False</td>\n",
       "    </tr>\n",
       "    <tr>\n",
       "      <th>10</th>\n",
       "      <td>InterventionLocationName_10</td>\n",
       "      <td>8.023564</td>\n",
       "      <td>False</td>\n",
       "    </tr>\n",
       "    <tr>\n",
       "      <th>8</th>\n",
       "      <td>InterventionLocationName_8</td>\n",
       "      <td>7.064615</td>\n",
       "      <td>False</td>\n",
       "    </tr>\n",
       "    <tr>\n",
       "      <th>7</th>\n",
       "      <td>InterventionLocationName_7</td>\n",
       "      <td>2.389960</td>\n",
       "      <td>False</td>\n",
       "    </tr>\n",
       "    <tr>\n",
       "      <th>1</th>\n",
       "      <td>InterventionLocationName_1</td>\n",
       "      <td>2.078057</td>\n",
       "      <td>False</td>\n",
       "    </tr>\n",
       "    <tr>\n",
       "      <th>3</th>\n",
       "      <td>InterventionLocationName_3</td>\n",
       "      <td>0.395002</td>\n",
       "      <td>False</td>\n",
       "    </tr>\n",
       "    <tr>\n",
       "      <th>2</th>\n",
       "      <td>InterventionLocationName_2</td>\n",
       "      <td>0.039413</td>\n",
       "      <td>False</td>\n",
       "    </tr>\n",
       "    <tr>\n",
       "      <th>0</th>\n",
       "      <td>InterventionLocationName_0</td>\n",
       "      <td>NaN</td>\n",
       "      <td>False</td>\n",
       "    </tr>\n",
       "  </tbody>\n",
       "</table>\n",
       "</div>"
      ],
      "text/plain": [
       "                         column         scores  selected\n",
       "13    SearchAuthorizationCode_1  609777.249994      True\n",
       "14    SearchAuthorizationCode_2  402170.605610      True\n",
       "12    SearchAuthorizationCode_0   12152.140265      True\n",
       "15                   SubjectAge    9468.605535      True\n",
       "4    InterventionLocationName_4     494.650741      True\n",
       "11  InterventionLocationName_11     113.571131      True\n",
       "17                        Month      56.989372      True\n",
       "9    InterventionLocationName_9      28.965851      True\n",
       "16                      HourDay      28.032136      True\n",
       "5    InterventionLocationName_5      25.359538      True\n",
       "6    InterventionLocationName_6      19.675863     False\n",
       "10  InterventionLocationName_10       8.023564     False\n",
       "8    InterventionLocationName_8       7.064615     False\n",
       "7    InterventionLocationName_7       2.389960     False\n",
       "1    InterventionLocationName_1       2.078057     False\n",
       "3    InterventionLocationName_3       0.395002     False\n",
       "2    InterventionLocationName_2       0.039413     False\n",
       "0    InterventionLocationName_0            NaN     False"
      ]
     },
     "execution_count": 69,
     "metadata": {},
     "output_type": "execute_result"
    }
   ],
   "source": [
    "select_k_best(f_classif, X_train_encoded, y_train,10)"
   ]
  },
  {
   "cell_type": "code",
   "execution_count": 70,
   "metadata": {},
   "outputs": [
    {
     "data": {
      "text/html": [
       "<div>\n",
       "<style scoped>\n",
       "    .dataframe tbody tr th:only-of-type {\n",
       "        vertical-align: middle;\n",
       "    }\n",
       "\n",
       "    .dataframe tbody tr th {\n",
       "        vertical-align: top;\n",
       "    }\n",
       "\n",
       "    .dataframe thead th {\n",
       "        text-align: right;\n",
       "    }\n",
       "</style>\n",
       "<table border=\"1\" class=\"dataframe\">\n",
       "  <thead>\n",
       "    <tr style=\"text-align: right;\">\n",
       "      <th></th>\n",
       "      <th>column</th>\n",
       "      <th>scores</th>\n",
       "      <th>selected</th>\n",
       "    </tr>\n",
       "  </thead>\n",
       "  <tbody>\n",
       "    <tr>\n",
       "      <th>13</th>\n",
       "      <td>SearchAuthorizationCode_1</td>\n",
       "      <td>444874.728590</td>\n",
       "      <td>True</td>\n",
       "    </tr>\n",
       "    <tr>\n",
       "      <th>15</th>\n",
       "      <td>SubjectAge</td>\n",
       "      <td>54455.976098</td>\n",
       "      <td>True</td>\n",
       "    </tr>\n",
       "    <tr>\n",
       "      <th>12</th>\n",
       "      <td>SearchAuthorizationCode_0</td>\n",
       "      <td>11995.553390</td>\n",
       "      <td>True</td>\n",
       "    </tr>\n",
       "    <tr>\n",
       "      <th>14</th>\n",
       "      <td>SearchAuthorizationCode_2</td>\n",
       "      <td>8239.551786</td>\n",
       "      <td>True</td>\n",
       "    </tr>\n",
       "    <tr>\n",
       "      <th>4</th>\n",
       "      <td>InterventionLocationName_4</td>\n",
       "      <td>452.127917</td>\n",
       "      <td>True</td>\n",
       "    </tr>\n",
       "    <tr>\n",
       "      <th>17</th>\n",
       "      <td>Month</td>\n",
       "      <td>116.284305</td>\n",
       "      <td>True</td>\n",
       "    </tr>\n",
       "    <tr>\n",
       "      <th>16</th>\n",
       "      <td>HourDay</td>\n",
       "      <td>98.508756</td>\n",
       "      <td>True</td>\n",
       "    </tr>\n",
       "    <tr>\n",
       "      <th>11</th>\n",
       "      <td>InterventionLocationName_11</td>\n",
       "      <td>62.419783</td>\n",
       "      <td>True</td>\n",
       "    </tr>\n",
       "    <tr>\n",
       "      <th>5</th>\n",
       "      <td>InterventionLocationName_5</td>\n",
       "      <td>16.372522</td>\n",
       "      <td>True</td>\n",
       "    </tr>\n",
       "    <tr>\n",
       "      <th>9</th>\n",
       "      <td>InterventionLocationName_9</td>\n",
       "      <td>13.802326</td>\n",
       "      <td>True</td>\n",
       "    </tr>\n",
       "    <tr>\n",
       "      <th>6</th>\n",
       "      <td>InterventionLocationName_6</td>\n",
       "      <td>10.742902</td>\n",
       "      <td>False</td>\n",
       "    </tr>\n",
       "    <tr>\n",
       "      <th>10</th>\n",
       "      <td>InterventionLocationName_10</td>\n",
       "      <td>3.985973</td>\n",
       "      <td>False</td>\n",
       "    </tr>\n",
       "    <tr>\n",
       "      <th>8</th>\n",
       "      <td>InterventionLocationName_8</td>\n",
       "      <td>3.713373</td>\n",
       "      <td>False</td>\n",
       "    </tr>\n",
       "    <tr>\n",
       "      <th>1</th>\n",
       "      <td>InterventionLocationName_1</td>\n",
       "      <td>2.077681</td>\n",
       "      <td>False</td>\n",
       "    </tr>\n",
       "    <tr>\n",
       "      <th>7</th>\n",
       "      <td>InterventionLocationName_7</td>\n",
       "      <td>1.357439</td>\n",
       "      <td>False</td>\n",
       "    </tr>\n",
       "    <tr>\n",
       "      <th>3</th>\n",
       "      <td>InterventionLocationName_3</td>\n",
       "      <td>0.394589</td>\n",
       "      <td>False</td>\n",
       "    </tr>\n",
       "    <tr>\n",
       "      <th>2</th>\n",
       "      <td>InterventionLocationName_2</td>\n",
       "      <td>0.039395</td>\n",
       "      <td>False</td>\n",
       "    </tr>\n",
       "    <tr>\n",
       "      <th>0</th>\n",
       "      <td>InterventionLocationName_0</td>\n",
       "      <td>NaN</td>\n",
       "      <td>False</td>\n",
       "    </tr>\n",
       "  </tbody>\n",
       "</table>\n",
       "</div>"
      ],
      "text/plain": [
       "                         column         scores  selected\n",
       "13    SearchAuthorizationCode_1  444874.728590      True\n",
       "15                   SubjectAge   54455.976098      True\n",
       "12    SearchAuthorizationCode_0   11995.553390      True\n",
       "14    SearchAuthorizationCode_2    8239.551786      True\n",
       "4    InterventionLocationName_4     452.127917      True\n",
       "17                        Month     116.284305      True\n",
       "16                      HourDay      98.508756      True\n",
       "11  InterventionLocationName_11      62.419783      True\n",
       "5    InterventionLocationName_5      16.372522      True\n",
       "9    InterventionLocationName_9      13.802326      True\n",
       "6    InterventionLocationName_6      10.742902     False\n",
       "10  InterventionLocationName_10       3.985973     False\n",
       "8    InterventionLocationName_8       3.713373     False\n",
       "1    InterventionLocationName_1       2.077681     False\n",
       "7    InterventionLocationName_7       1.357439     False\n",
       "3    InterventionLocationName_3       0.394589     False\n",
       "2    InterventionLocationName_2       0.039395     False\n",
       "0    InterventionLocationName_0            NaN     False"
      ]
     },
     "execution_count": 70,
     "metadata": {},
     "output_type": "execute_result"
    }
   ],
   "source": [
    "select_k_best(chi2, X_train_encoded, y_train, 10)"
   ]
  },
  {
   "cell_type": "markdown",
   "metadata": {},
   "source": [
    "## Logistic Regression"
   ]
  },
  {
   "cell_type": "code",
   "execution_count": 71,
   "metadata": {},
   "outputs": [
    {
     "name": "stderr",
     "output_type": "stream",
     "text": [
      "C:\\Users\\ines.s.almeida\\Anaconda3\\lib\\site-packages\\sklearn\\linear_model\\_logistic.py:762: ConvergenceWarning: lbfgs failed to converge (status=1):\n",
      "STOP: TOTAL NO. of ITERATIONS REACHED LIMIT.\n",
      "\n",
      "Increase the number of iterations (max_iter) or scale the data as shown in:\n",
      "    https://scikit-learn.org/stable/modules/preprocessing.html\n",
      "Please also refer to the documentation for alternative solver options:\n",
      "    https://scikit-learn.org/stable/modules/linear_model.html#logistic-regression\n",
      "  n_iter_i = _check_optimize_result(\n"
     ]
    },
    {
     "name": "stdout",
     "output_type": "stream",
     "text": [
      "Precision score: 0.63\n",
      "Recall score: 0.12\n",
      "Accuracy score: 0.99\n"
     ]
    }
   ],
   "source": [
    "lr = LogisticRegression()\n",
    "\n",
    "lr.fit(X_train_encoded, y_train)\n",
    "\n",
    "proba = lr.predict_proba(X_test_encoded)\n",
    "y_pred =  (proba[:,1] >= 0.50)\n",
    "\n",
    "print('Precision score:', round(precision_score(y_test,y_pred),2))\n",
    "print('Recall score:', round(recall_score(y_test,y_pred),2))\n",
    "print('Accuracy score:', round(accuracy_score(y_test,y_pred),2))"
   ]
  },
  {
   "cell_type": "code",
   "execution_count": 72,
   "metadata": {},
   "outputs": [
    {
     "data": {
      "image/png": "[encoded data removed]",
      "text/plain": [
       "<Figure size 1440x1080 with 1 Axes>"
      ]
     },
     "metadata": {
      "needs_background": "light"
     },
     "output_type": "display_data"
    }
   ],
   "source": [
    "plt.figure(figsize=(20,15))\n",
    "\n",
    "pd.Series(abs(lr.coef_[0, :]), index=X_train_encoded.columns).nlargest(100).plot.barh();"
   ]
  },
  {
   "cell_type": "markdown",
   "metadata": {},
   "source": [
    "## Random Forest Classifier"
   ]
  },
  {
   "cell_type": "code",
   "execution_count": 73,
   "metadata": {},
   "outputs": [
    {
     "data": {
      "text/plain": [
       "RandomForestClassifier()"
      ]
     },
     "execution_count": 73,
     "metadata": {},
     "output_type": "execute_result"
    }
   ],
   "source": [
    "rf = RandomForestClassifier()\n",
    "\n",
    "rf.fit(X_train_encoded, y_train)"
   ]
  },
  {
   "cell_type": "code",
   "execution_count": 74,
   "metadata": {},
   "outputs": [
    {
     "name": "stdout",
     "output_type": "stream",
     "text": [
      "Precision score: 0.6485915492957747\n",
      "Recall score: 0.49972870320130225\n",
      "Accuracy score: 0.9912323278858455\n"
     ]
    }
   ],
   "source": [
    "proba = rf.predict_proba(X_test_encoded)\n",
    "y_pred =  (proba[:,1] >= 0.50)\n",
    "\n",
    "print('Precision score:', precision_score(y_test,y_pred))\n",
    "print('Recall score:', recall_score(y_test,y_pred))\n",
    "print('Accuracy score:', accuracy_score(y_test,y_pred))"
   ]
  },
  {
   "cell_type": "code",
   "execution_count": 75,
   "metadata": {},
   "outputs": [
    {
     "data": {
      "image/png": "[encoded data removed]",
      "text/plain": [
       "<Figure size 1440x1080 with 1 Axes>"
      ]
     },
     "metadata": {
      "needs_background": "light"
     },
     "output_type": "display_data"
    }
   ],
   "source": [
    "plt.figure(figsize=(20,15))\n",
    "pd.Series(rf.feature_importances_, index=X_train_encoded.columns).nlargest(X_train_encoded.shape[0]).plot.barh();"
   ]
  },
  {
   "cell_type": "code",
   "execution_count": 76,
   "metadata": {},
   "outputs": [],
   "source": [
    "def select_from_model(clf, X_train, max_features=5):\n",
    "    sfm = SelectFromModel(clf, prefit=True, max_features=max_features)\n",
    "    selected_features = X_train.columns[sfm.get_support()]\n",
    "    return list(selected_features)"
   ]
  },
  {
   "cell_type": "code",
   "execution_count": 77,
   "metadata": {},
   "outputs": [
    {
     "data": {
      "text/plain": [
       "['SearchAuthorizationCode_0', 'SearchAuthorizationCode_1']"
      ]
     },
     "execution_count": 77,
     "metadata": {},
     "output_type": "execute_result"
    }
   ],
   "source": [
    "select_from_model(lr,X_train_encoded)"
   ]
  },
  {
   "cell_type": "code",
   "execution_count": 78,
   "metadata": {},
   "outputs": [
    {
     "data": {
      "text/plain": [
       "['SearchAuthorizationCode_1',\n",
       " 'SearchAuthorizationCode_2',\n",
       " 'SubjectAge',\n",
       " 'HourDay',\n",
       " 'Month']"
      ]
     },
     "execution_count": 78,
     "metadata": {},
     "output_type": "execute_result"
    }
   ],
   "source": [
    "select_from_model(rf,X_train_encoded)"
   ]
  },
  {
   "cell_type": "code",
   "execution_count": 79,
   "metadata": {},
   "outputs": [],
   "source": [
    "search_parameters = {\n",
    "                   \"max_depth\": [10, 20, 50, 100],\n",
    "                   \"n_estimators\": [10, 20, 50, 100]\n",
    "                    }"
   ]
  },
  {
   "cell_type": "code",
   "execution_count": 80,
   "metadata": {},
   "outputs": [],
   "source": [
    "randomized_search = RandomizedSearchCV(\n",
    "                        rf, \n",
    "                        search_parameters,\n",
    "                        cv=3,\n",
    "                        random_state=1,\n",
    "                        return_train_score=True,\n",
    "                        scoring = 'precision'\n",
    "                        )"
   ]
  },
  {
   "cell_type": "code",
   "execution_count": 81,
   "metadata": {},
   "outputs": [
    {
     "name": "stdout",
     "output_type": "stream",
     "text": [
      "Wall time: 58min 41s\n"
     ]
    },
    {
     "data": {
      "text/plain": [
       "RandomizedSearchCV(cv=3, estimator=RandomForestClassifier(),\n",
       "                   param_distributions={'max_depth': [10, 20, 50, 100],\n",
       "                                        'n_estimators': [10, 20, 50, 100]},\n",
       "                   random_state=1, return_train_score=True,\n",
       "                   scoring='precision')"
      ]
     },
     "execution_count": 81,
     "metadata": {},
     "output_type": "execute_result"
    }
   ],
   "source": [
    "%%time\n",
    "\n",
    "randomized_search.fit(X_train_encoded, y_train)"
   ]
  },
  {
   "cell_type": "code",
   "execution_count": 82,
   "metadata": {},
   "outputs": [
    {
     "data": {
      "text/plain": [
       "{'n_estimators': 20, 'max_depth': 10}"
      ]
     },
     "execution_count": 82,
     "metadata": {},
     "output_type": "execute_result"
    }
   ],
   "source": [
    "randomized_search.best_params_"
   ]
  },
  {
   "cell_type": "code",
   "execution_count": 83,
   "metadata": {},
   "outputs": [],
   "source": [
    "pred = randomized_search.predict_proba(X_test_encoded)"
   ]
  },
  {
   "cell_type": "markdown",
   "metadata": {},
   "source": [
    "### Assessing fairness of model for protected classes by assessing precision for each one of these classes"
   ]
  },
  {
   "cell_type": "markdown",
   "metadata": {},
   "source": [
    "One of the requirements of this work is not to have a discrepancy in model precision among each of the protected classes (Ethnicity, Race and Sex).  Due to this, we will check if this can be applied for every case and choose a threshold of the model that allow us to accomplish this requirement."
   ]
  },
  {
   "cell_type": "code",
   "execution_count": 84,
   "metadata": {},
   "outputs": [
    {
     "name": "stdout",
     "output_type": "stream",
     "text": [
      "Precision score: 0.62\n",
      "Accuracy score: 0.99\n",
      "Recall score: 0.41\n"
     ]
    }
   ],
   "source": [
    "pred = randomized_search.predict_proba(X_test_encoded)\n",
    "\n",
    "threshold = 0.45\n",
    "y_pred = (pred[:,1] >= threshold)\n",
    "\n",
    "print('Precision score:', round(precision_score(y_test,y_pred),2))\n",
    "print('Accuracy score:', round(accuracy_score(y_test,y_pred),2))\n",
    "print('Recall score:', round(recall_score(y_test,y_pred),2))\n"
   ]
  },
  {
   "cell_type": "code",
   "execution_count": 85,
   "metadata": {},
   "outputs": [],
   "source": [
    "def preprocess_data_fairness(data, predictions):\n",
    "    \n",
    "    \"\"\"\n",
    "    Create dataset to asses fairness of the model\n",
    "    \"\"\"\n",
    "    \n",
    "    data_ = data.copy()\n",
    "    \n",
    "    data_ = drop_duplicates(data_)\n",
    "    data_ = drop_nulls(data_)\n",
    "    \n",
    "    \n",
    "    data_final = data_[[ 'SubjectEthnicityCode', 'SubjectRaceCode', 'SubjectSexCode']]\n",
    "    data_final['y'] = data_['ContrabandIndicator']\n",
    "    data_final['y_pred'] = predictions.copy()\n",
    "    \n",
    "    return data_final"
   ]
  },
  {
   "cell_type": "code",
   "execution_count": 86,
   "metadata": {},
   "outputs": [
    {
     "name": "stderr",
     "output_type": "stream",
     "text": [
      "<ipython-input-85-ad8e3dee2c4a>:14: SettingWithCopyWarning: \n",
      "A value is trying to be set on a copy of a slice from a DataFrame.\n",
      "Try using .loc[row_indexer,col_indexer] = value instead\n",
      "\n",
      "See the caveats in the documentation: https://pandas.pydata.org/pandas-docs/stable/user_guide/indexing.html#returning-a-view-versus-a-copy\n",
      "  data_final['y'] = data_['ContrabandIndicator']\n",
      "<ipython-input-85-ad8e3dee2c4a>:15: SettingWithCopyWarning: \n",
      "A value is trying to be set on a copy of a slice from a DataFrame.\n",
      "Try using .loc[row_indexer,col_indexer] = value instead\n",
      "\n",
      "See the caveats in the documentation: https://pandas.pydata.org/pandas-docs/stable/user_guide/indexing.html#returning-a-view-versus-a-copy\n",
      "  data_final['y_pred'] = predictions.copy()\n"
     ]
    }
   ],
   "source": [
    "df_fairness = preprocess_data_fairness(df_test, y_pred)"
   ]
  },
  {
   "cell_type": "code",
   "execution_count": 87,
   "metadata": {},
   "outputs": [],
   "source": [
    "def plot_precision(df , protected_class):\n",
    "    \n",
    "    \"\"\"\n",
    "    Plots model precision bar graph for a protected class\n",
    "    \"\"\"\n",
    "    \n",
    "    TP = df[(df.y_pred == 1) & (df.y == 1)]\n",
    "    FP = df[(df.y_pred == 1) & (df.y == 0)]\n",
    "\n",
    "    prec = TP.groupby(TP[protected_class])[protected_class].count()/(FP.groupby(FP[protected_class])[protected_class].count() + TP.groupby(TP[protected_class])[protected_class].count())\n",
    "    plt.figure(figsize=(15, 5))\n",
    "    pal = sns.color_palette(\"Reds_d\", len(prec))\n",
    "\n",
    "    sns.barplot(prec.index, prec.values)\n",
    "\n",
    "\n",
    "    ax = sns.barplot(prec.index, prec.values, palette=np.array(pal[::-1]))\n",
    "\n",
    "    ax.set(xlabel=protected_class, ylabel='Precision')\n",
    "    plt.show()\n",
    "    \n",
    "    print(threshold)\n",
    "    print(prec)"
   ]
  },
  {
   "cell_type": "code",
   "execution_count": 88,
   "metadata": {
    "scrolled": true
   },
   "outputs": [
    {
     "name": "stderr",
     "output_type": "stream",
     "text": [
      "C:\\Users\\ines.s.almeida\\Anaconda3\\lib\\site-packages\\seaborn\\_decorators.py:36: FutureWarning: Pass the following variables as keyword args: x, y. From version 0.12, the only valid positional argument will be `data`, and passing other arguments without an explicit keyword will result in an error or misinterpretation.\n",
      "  warnings.warn(\n",
      "C:\\Users\\ines.s.almeida\\Anaconda3\\lib\\site-packages\\seaborn\\_decorators.py:36: FutureWarning: Pass the following variables as keyword args: x, y. From version 0.12, the only valid positional argument will be `data`, and passing other arguments without an explicit keyword will result in an error or misinterpretation.\n",
      "  warnings.warn(\n"
     ]
    },
    {
     "data": {
      "image/png": "[encoded data removed]",
      "text/plain": [
       "<Figure size 1080x360 with 1 Axes>"
      ]
     },
     "metadata": {
      "needs_background": "light"
     },
     "output_type": "display_data"
    },
    {
     "name": "stdout",
     "output_type": "stream",
     "text": [
      "0.45\n",
      "SubjectRaceCode\n",
      "A    0.684211\n",
      "B    0.581081\n",
      "I    0.700000\n",
      "W    0.640337\n",
      "Name: SubjectRaceCode, dtype: float64\n"
     ]
    }
   ],
   "source": [
    "plot_precision(df_fairness, 'SubjectRaceCode')"
   ]
  },
  {
   "cell_type": "code",
   "execution_count": 89,
   "metadata": {},
   "outputs": [
    {
     "data": {
      "text/plain": [
       "W    81.692780\n",
       "B    15.565446\n",
       "A     1.948303\n",
       "I     0.793471\n",
       "Name: SubjectRaceCode, dtype: float64"
      ]
     },
     "execution_count": 89,
     "metadata": {},
     "output_type": "execute_result"
    }
   ],
   "source": [
    "df_fairness['SubjectRaceCode'].value_counts()/df_fairness.shape[0]*100 "
   ]
  },
  {
   "cell_type": "code",
   "execution_count": 90,
   "metadata": {},
   "outputs": [
    {
     "name": "stderr",
     "output_type": "stream",
     "text": [
      "C:\\Users\\ines.s.almeida\\Anaconda3\\lib\\site-packages\\seaborn\\_decorators.py:36: FutureWarning: Pass the following variables as keyword args: x, y. From version 0.12, the only valid positional argument will be `data`, and passing other arguments without an explicit keyword will result in an error or misinterpretation.\n",
      "  warnings.warn(\n",
      "C:\\Users\\ines.s.almeida\\Anaconda3\\lib\\site-packages\\seaborn\\_decorators.py:36: FutureWarning: Pass the following variables as keyword args: x, y. From version 0.12, the only valid positional argument will be `data`, and passing other arguments without an explicit keyword will result in an error or misinterpretation.\n",
      "  warnings.warn(\n"
     ]
    },
    {
     "data": {
      "image/png": "[encoded data removed]",
      "text/plain": [
       "<Figure size 1080x360 with 1 Axes>"
      ]
     },
     "metadata": {
      "needs_background": "light"
     },
     "output_type": "display_data"
    },
    {
     "name": "stdout",
     "output_type": "stream",
     "text": [
      "0.45\n",
      "SubjectSexCode\n",
      "F    0.601732\n",
      "M    0.630420\n",
      "Name: SubjectSexCode, dtype: float64\n"
     ]
    }
   ],
   "source": [
    "plot_precision(df_fairness, 'SubjectSexCode')"
   ]
  },
  {
   "cell_type": "code",
   "execution_count": 91,
   "metadata": {},
   "outputs": [
    {
     "name": "stderr",
     "output_type": "stream",
     "text": [
      "C:\\Users\\ines.s.almeida\\Anaconda3\\lib\\site-packages\\seaborn\\_decorators.py:36: FutureWarning: Pass the following variables as keyword args: x, y. From version 0.12, the only valid positional argument will be `data`, and passing other arguments without an explicit keyword will result in an error or misinterpretation.\n",
      "  warnings.warn(\n",
      "C:\\Users\\ines.s.almeida\\Anaconda3\\lib\\site-packages\\seaborn\\_decorators.py:36: FutureWarning: Pass the following variables as keyword args: x, y. From version 0.12, the only valid positional argument will be `data`, and passing other arguments without an explicit keyword will result in an error or misinterpretation.\n",
      "  warnings.warn(\n"
     ]
    },
    {
     "data": {
      "image/png": "[encoded data removed]",
      "text/plain": [
       "<Figure size 1080x360 with 1 Axes>"
      ]
     },
     "metadata": {
      "needs_background": "light"
     },
     "output_type": "display_data"
    },
    {
     "name": "stdout",
     "output_type": "stream",
     "text": [
      "0.45\n",
      "SubjectEthnicityCode\n",
      "H    0.592437\n",
      "M    0.515152\n",
      "N    0.634292\n",
      "Name: SubjectEthnicityCode, dtype: float64\n"
     ]
    }
   ],
   "source": [
    "plot_precision(df_fairness, 'SubjectEthnicityCode')"
   ]
  }
 ],
 "metadata": {
  "kernelspec": {
   "display_name": "Python 3",
   "language": "python",
   "name": "python3"
  },
  "language_info": {
   "codemirror_mode": {
    "name": "ipython",
    "version": 3
   },
   "file_extension": ".py",
   "mimetype": "text/x-python",
   "name": "python",
   "nbconvert_exporter": "python",
   "pygments_lexer": "ipython3",
   "version": "3.8.5"
  }
 },
 "nbformat": 4,
 "nbformat_minor": 2
}
