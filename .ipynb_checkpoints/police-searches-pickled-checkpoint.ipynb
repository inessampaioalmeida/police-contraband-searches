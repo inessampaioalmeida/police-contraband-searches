{
 "cells": [
  {
   "cell_type": "code",
   "execution_count": 2,
   "metadata": {},
   "outputs": [],
   "source": [
    "import pandas as pd\n",
    "import numpy as np\n",
    "import json\n",
    "import joblib\n",
    "\n",
    "import seaborn as sns\n",
    "import matplotlib.pyplot as plt\n",
    "\n",
    "from category_encoders.binary import BinaryEncoder\n",
    "from sklearn.preprocessing import MinMaxScaler\n",
    "from sklearn.ensemble import RandomForestClassifier\n",
    "from sklearn.metrics import accuracy_score, precision_score,recall_score\n",
    "from sklearn.base import TransformerMixin, BaseEstimator\n",
    "from sklearn.model_selection import cross_val_score, train_test_split\n",
    "\n",
    "from sklearn.pipeline import make_pipeline\n",
    "import pickle\n",
    "import joblib\n"
   ]
  },
  {
   "cell_type": "code",
   "execution_count": 14,
   "metadata": {},
   "outputs": [],
   "source": [
    "df = pd.read_csv('data/data.csv')\n",
    "df_train, df_test = train_test_split(df, test_size=0.2, random_state=1)"
   ]
  },
  {
   "cell_type": "code",
   "execution_count": 15,
   "metadata": {},
   "outputs": [],
   "source": [
    "def drop_duplicates_and_null(data):\n",
    "    \n",
    "    data_ = data.copy()\n",
    "    data_.drop_duplicates(inplace=True)\n",
    "    data_.dropna(inplace=True)\n",
    "\n",
    "    return data_\n",
    "\n",
    "\n",
    "df_train = drop_duplicates_and_null(df_train)\n",
    "df_test = drop_duplicates_and_null(df_test)\n"
   ]
  },
  {
   "cell_type": "code",
   "execution_count": 20,
   "metadata": {},
   "outputs": [],
   "source": [
    "X_train = df_train.drop(columns='ContrabandIndicator')\n",
    "y_train = df_train['ContrabandIndicator']\n",
    "\n",
    "X_test = df_test.drop(columns='ContrabandIndicator')\n",
    "y_test = df_test['ContrabandIndicator']"
   ]
  },
  {
   "cell_type": "code",
   "execution_count": 21,
   "metadata": {},
   "outputs": [],
   "source": [
    "class SelectFeatures(BaseEstimator, TransformerMixin):\n",
    "    def fit(self, *_):\n",
    "        return self\n",
    "    \n",
    "    def transform(self, data):\n",
    "        \n",
    "        data_ = data.copy()\n",
    "        #Drop features\n",
    "        \n",
    "        data_ = data_[[ 'InterventionDateTime','InterventionLocationName', 'SearchAuthorizationCode', 'SubjectAge']]\n",
    "\n",
    "        return data_\n",
    "    \n",
    "class DateTimeTransform(BaseEstimator, TransformerMixin):\n",
    "    def fit(self, *_):\n",
    "        return self\n",
    "    \n",
    "    def transform(self, data):   \n",
    "    \n",
    "        \n",
    "        data_ = data.copy()\n",
    "        \n",
    "        #Conversion to DateTime type\n",
    "        data_.InterventionDateTime = pd.to_datetime(data_.InterventionDateTime, format='%m/%d/%Y %I:%M:%S %p')\n",
    "    \n",
    "        #Creating time features\n",
    "        data_ = data_.assign(HourDay = data_.InterventionDateTime.dt.hour + data_.InterventionDateTime.dt.minute / 60,\n",
    "                       Month = data_.InterventionDateTime.dt.month)\n",
    "        \n",
    "        #Further transformation on HourDay\n",
    "        data_['HourDay'] = data_['HourDay'].apply(lambda x: round(x,1)).apply(lambda x: 0.0 if  x==24.0 else x)\n",
    "\n",
    "        #Drop inital DateTime column\n",
    "        data_ = data_.drop(columns='InterventionDateTime')\n",
    "        \n",
    "        return data_\n",
    "    \n",
    "class InterventionLocationTransform( TransformerMixin):\n",
    "    def fit(self, *_):\n",
    "        return self\n",
    "    \n",
    "    def transform(self, data):   \n",
    "    \n",
    "        data_ = data.copy()\n",
    "    \n",
    "        data_.InterventionLocationName = data_.InterventionLocationName.str.lower().str.strip()\n",
    "        data_.InterventionLocationName = data_.InterventionLocationName.str.replace('street', 'st')\n",
    "        data_.InterventionLocationName = data_.InterventionLocationName.str.replace('road', 'rd')\n",
    "        data_.InterventionLocationName = data_.InterventionLocationName.str.replace('  ', '')\n",
    "        \n",
    "        return data_\n",
    "    \n",
    "class AgeTransform(TransformerMixin):\n",
    "    \n",
    "    def fit(self, *_):\n",
    "        return self\n",
    "    \n",
    "    def transform(self, data):   \n",
    "        \n",
    "        data_ = data.copy()\n",
    "        \n",
    "        data_.loc[data_.SubjectAge < 14, 'SubjectAge'] = 12.0\n",
    "\n",
    "        return data_"
   ]
  },
  {
   "cell_type": "code",
   "execution_count": 22,
   "metadata": {},
   "outputs": [],
   "source": [
    "pipeline = make_pipeline(\n",
    "    SelectFeatures(),\n",
    "    DateTimeTransform(),\n",
    "    InterventionLocationTransform(),\n",
    "    AgeTransform(),\n",
    "    BinaryEncoder(),\n",
    "    MinMaxScaler(),\n",
    "    RandomForestClassifier(n_estimators=100, max_depth= 10))"
   ]
  },
  {
   "cell_type": "code",
   "execution_count": 23,
   "metadata": {},
   "outputs": [
    {
     "name": "stderr",
     "output_type": "stream",
     "text": [
      "C:\\Users\\ines.s.almeida\\Anaconda\\lib\\site-packages\\category_encoders\\utils.py:21: FutureWarning: is_categorical is deprecated and will be removed in a future version.  Use is_categorical_dtype instead\n",
      "  elif pd.api.types.is_categorical(cols):\n"
     ]
    },
    {
     "name": "stdout",
     "output_type": "stream",
     "text": [
      "Wall time: 11min 27s\n"
     ]
    },
    {
     "data": {
      "text/plain": [
       "Pipeline(steps=[('selectfeatures', SelectFeatures()),\n",
       "                ('datetimetransform', DateTimeTransform()),\n",
       "                ('interventionlocationtransform',\n",
       "                 <__main__.InterventionLocationTransform object at 0x0000020ABA677EB0>),\n",
       "                ('agetransform',\n",
       "                 <__main__.AgeTransform object at 0x0000020ABA6778B0>),\n",
       "                ('binaryencoder', BinaryEncoder()),\n",
       "                ('minmaxscaler', MinMaxScaler()),\n",
       "                ('randomforestclassifier',\n",
       "                 RandomForestClassifier(max_depth=10))])"
      ]
     },
     "execution_count": 23,
     "metadata": {},
     "output_type": "execute_result"
    }
   ],
   "source": [
    "%%time\n",
    "\n",
    "pipeline.fit(X_train, y_train)"
   ]
  },
  {
   "cell_type": "code",
   "execution_count": 24,
   "metadata": {},
   "outputs": [],
   "source": [
    "pred = pipeline.predict_proba(X_test)"
   ]
  },
  {
   "cell_type": "code",
   "execution_count": 25,
   "metadata": {},
   "outputs": [
    {
     "name": "stdout",
     "output_type": "stream",
     "text": [
      "Precision score: 0.63\n",
      "Recall score: 0.39\n",
      "Accuracy score: 0.99\n"
     ]
    }
   ],
   "source": [
    "y_pred = (pred[:,1] >= 0.45)\n",
    "\n",
    "\n",
    "print('Precision score:', round(precision_score(y_test,y_pred),2))\n",
    "print('Recall score:', round(recall_score(y_test,y_pred),2))\n",
    "print('Accuracy score:', round(accuracy_score(y_test,y_pred),2))"
   ]
  },
  {
   "cell_type": "markdown",
   "metadata": {},
   "source": [
    "### Assessing fairness"
   ]
  },
  {
   "cell_type": "code",
   "execution_count": 28,
   "metadata": {},
   "outputs": [
    {
     "name": "stderr",
     "output_type": "stream",
     "text": [
      "<ipython-input-28-3927603d4373>:9: SettingWithCopyWarning: \n",
      "A value is trying to be set on a copy of a slice from a DataFrame.\n",
      "Try using .loc[row_indexer,col_indexer] = value instead\n",
      "\n",
      "See the caveats in the documentation: https://pandas.pydata.org/pandas-docs/stable/user_guide/indexing.html#returning-a-view-versus-a-copy\n",
      "  data_final['y'] = data_['ContrabandIndicator']\n",
      "<ipython-input-28-3927603d4373>:10: SettingWithCopyWarning: \n",
      "A value is trying to be set on a copy of a slice from a DataFrame.\n",
      "Try using .loc[row_indexer,col_indexer] = value instead\n",
      "\n",
      "See the caveats in the documentation: https://pandas.pydata.org/pandas-docs/stable/user_guide/indexing.html#returning-a-view-versus-a-copy\n",
      "  data_final['y_pred'] = predictions\n"
     ]
    }
   ],
   "source": [
    "def preprocess_data_fairness(data, predictions):\n",
    "    \n",
    "    data_ = data.copy()\n",
    "    \n",
    "    data_ = drop_duplicates_and_null(data_)\n",
    "    \n",
    "    \n",
    "    data_final = data_[[ 'SubjectEthnicityCode', 'SubjectRaceCode', 'SubjectSexCode']]\n",
    "    data_final['y'] = data_['ContrabandIndicator']\n",
    "    data_final['y_pred'] = predictions\n",
    "    \n",
    "    return data_final\n",
    "\n",
    "df_fairness = preprocess_data_fairness(df_test, y_pred)"
   ]
  },
  {
   "cell_type": "code",
   "execution_count": 31,
   "metadata": {},
   "outputs": [],
   "source": [
    "def plot_precision(df , protected_class):\n",
    "    \n",
    "    TP = df[(df.y_pred == 1) & (df.y == 1)]\n",
    "    FP = df[(df.y_pred == 1) & (df.y == 0)]\n",
    "\n",
    "    prec = TP.groupby(TP[protected_class])[protected_class].count()/(FP.groupby(FP[protected_class])[protected_class].count() + TP.groupby(TP[protected_class])[protected_class].count())\n",
    "    plt.figure(figsize=(15, 5))\n",
    "    pal = sns.color_palette(\"Reds_d\", len(prec))\n",
    "\n",
    "    sns.barplot(prec.index, prec.values)\n",
    "\n",
    "\n",
    "    ax = sns.barplot(prec.index, prec.values, palette=np.array(pal[::-1]))\n",
    "\n",
    "    ax.set(xlabel=protected_class, ylabel='Precision')\n",
    "    plt.show()\n",
    "    \n",
    "    print(prec)"
   ]
  },
  {
   "cell_type": "code",
   "execution_count": 32,
   "metadata": {},
   "outputs": [
    {
     "name": "stderr",
     "output_type": "stream",
     "text": [
      "C:\\Users\\ines.s.almeida\\Anaconda\\lib\\site-packages\\seaborn\\_decorators.py:36: FutureWarning: Pass the following variables as keyword args: x, y. From version 0.12, the only valid positional argument will be `data`, and passing other arguments without an explicit keyword will result in an error or misinterpretation.\n",
      "  warnings.warn(\n",
      "C:\\Users\\ines.s.almeida\\Anaconda\\lib\\site-packages\\seaborn\\_decorators.py:36: FutureWarning: Pass the following variables as keyword args: x, y. From version 0.12, the only valid positional argument will be `data`, and passing other arguments without an explicit keyword will result in an error or misinterpretation.\n",
      "  warnings.warn(\n"
     ]
    },
    {
     "data": {
      "image/png": "[encoded data removed]",
      "text/plain": [
       "<Figure size 1080x360 with 1 Axes>"
      ]
     },
     "metadata": {
      "needs_background": "light"
     },
     "output_type": "display_data"
    },
    {
     "name": "stdout",
     "output_type": "stream",
     "text": [
      "SubjectRaceCode\n",
      "A    0.650000\n",
      "B    0.588877\n",
      "I    0.600000\n",
      "W    0.648245\n",
      "Name: SubjectRaceCode, dtype: float64\n"
     ]
    }
   ],
   "source": [
    "plot_precision(df_fairness, 'SubjectRaceCode')"
   ]
  },
  {
   "cell_type": "code",
   "execution_count": 33,
   "metadata": {},
   "outputs": [
    {
     "name": "stderr",
     "output_type": "stream",
     "text": [
      "C:\\Users\\ines.s.almeida\\Anaconda\\lib\\site-packages\\seaborn\\_decorators.py:36: FutureWarning: Pass the following variables as keyword args: x, y. From version 0.12, the only valid positional argument will be `data`, and passing other arguments without an explicit keyword will result in an error or misinterpretation.\n",
      "  warnings.warn(\n",
      "C:\\Users\\ines.s.almeida\\Anaconda\\lib\\site-packages\\seaborn\\_decorators.py:36: FutureWarning: Pass the following variables as keyword args: x, y. From version 0.12, the only valid positional argument will be `data`, and passing other arguments without an explicit keyword will result in an error or misinterpretation.\n",
      "  warnings.warn(\n"
     ]
    },
    {
     "data": {
      "image/png": "[encoded data removed]",
      "text/plain": [
       "<Figure size 1080x360 with 1 Axes>"
      ]
     },
     "metadata": {
      "needs_background": "light"
     },
     "output_type": "display_data"
    },
    {
     "name": "stdout",
     "output_type": "stream",
     "text": [
      "SubjectSexCode\n",
      "F    0.615741\n",
      "M    0.636069\n",
      "Name: SubjectSexCode, dtype: float64\n"
     ]
    }
   ],
   "source": [
    "plot_precision(df_fairness, 'SubjectSexCode')"
   ]
  },
  {
   "cell_type": "code",
   "execution_count": 34,
   "metadata": {},
   "outputs": [
    {
     "name": "stderr",
     "output_type": "stream",
     "text": [
      "C:\\Users\\ines.s.almeida\\Anaconda\\lib\\site-packages\\seaborn\\_decorators.py:36: FutureWarning: Pass the following variables as keyword args: x, y. From version 0.12, the only valid positional argument will be `data`, and passing other arguments without an explicit keyword will result in an error or misinterpretation.\n",
      "  warnings.warn(\n",
      "C:\\Users\\ines.s.almeida\\Anaconda\\lib\\site-packages\\seaborn\\_decorators.py:36: FutureWarning: Pass the following variables as keyword args: x, y. From version 0.12, the only valid positional argument will be `data`, and passing other arguments without an explicit keyword will result in an error or misinterpretation.\n",
      "  warnings.warn(\n"
     ]
    },
    {
     "data": {
      "image/png": "[encoded data removed]",
      "text/plain": [
       "<Figure size 1080x360 with 1 Axes>"
      ]
     },
     "metadata": {
      "needs_background": "light"
     },
     "output_type": "display_data"
    },
    {
     "name": "stdout",
     "output_type": "stream",
     "text": [
      "SubjectEthnicityCode\n",
      "H    0.594118\n",
      "M    0.562500\n",
      "N    0.642594\n",
      "Name: SubjectEthnicityCode, dtype: float64\n"
     ]
    }
   ],
   "source": [
    "plot_precision(df_fairness, 'SubjectEthnicityCode')"
   ]
  },
  {
   "cell_type": "code",
   "execution_count": 37,
   "metadata": {},
   "outputs": [],
   "source": [
    "with open('columns.json', 'w') as fh:\n",
    "    json.dump(X_train.columns.tolist(), fh)"
   ]
  },
  {
   "cell_type": "code",
   "execution_count": 38,
   "metadata": {},
   "outputs": [],
   "source": [
    "with open('dtypes.pickle', 'wb') as fh:\n",
    "    pickle.dump(X_train.dtypes, fh)"
   ]
  },
  {
   "cell_type": "code",
   "execution_count": 39,
   "metadata": {},
   "outputs": [
    {
     "data": {
      "text/plain": [
       "['pipeline.pickle']"
      ]
     },
     "execution_count": 39,
     "metadata": {},
     "output_type": "execute_result"
    }
   ],
   "source": [
    "joblib.dump(pipeline, 'pipeline.pickle')"
   ]
  }
 ],
 "metadata": {
  "kernelspec": {
   "display_name": "Python 3",
   "language": "python",
   "name": "python3"
  },
  "language_info": {
   "codemirror_mode": {
    "name": "ipython",
    "version": 3
   },
   "file_extension": ".py",
   "mimetype": "text/x-python",
   "name": "python",
   "nbconvert_exporter": "python",
   "pygments_lexer": "ipython3",
   "version": "3.8.5"
  }
 },
 "nbformat": 4,
 "nbformat_minor": 2
}
