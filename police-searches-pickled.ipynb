{
 "cells": [
  {
   "cell_type": "code",
   "execution_count": 12,
   "metadata": {},
   "outputs": [],
   "source": [
    "import pandas as pd\n",
    "import numpy as np\n",
    "import json\n",
    "import joblib\n",
    "\n",
    "import seaborn as sns\n",
    "import matplotlib.pyplot as plt\n",
    "\n",
    "from category_encoders.binary import BinaryEncoder\n",
    "from sklearn.preprocessing import MinMaxScaler\n",
    "from sklearn.ensemble import RandomForestClassifier\n",
    "from sklearn.metrics import accuracy_score, precision_score,recall_score\n",
    "from sklearn.base import TransformerMixin, ClassifierMixin, BaseEstimator\n",
    "from sklearn.model_selection import cross_val_score, train_test_split\n",
    "\n",
    "from sklearn.pipeline import make_pipeline\n",
    "import pickle\n",
    "import joblib\n"
   ]
  },
  {
   "cell_type": "code",
   "execution_count": 13,
   "metadata": {},
   "outputs": [],
   "source": [
    "df = pd.read_csv('train.csv')"
   ]
  },
  {
   "cell_type": "code",
   "execution_count": 14,
   "metadata": {},
   "outputs": [],
   "source": [
    "df = df.dropna()\n",
    "df = df.drop_duplicates()\n",
    "df = df.reset_index(drop=True)\n",
    "df = df.drop(df[(df.InterventionReasonCode == 'no')].index)"
   ]
  },
  {
   "cell_type": "code",
   "execution_count": 15,
   "metadata": {
    "scrolled": true
   },
   "outputs": [
    {
     "data": {
      "text/plain": [
       "(2268333, 15)"
      ]
     },
     "execution_count": 15,
     "metadata": {},
     "output_type": "execute_result"
    }
   ],
   "source": [
    "df.shape"
   ]
  },
  {
   "cell_type": "code",
   "execution_count": 16,
   "metadata": {},
   "outputs": [
    {
     "data": {
      "text/html": [
       "<div>\n",
       "<style scoped>\n",
       "    .dataframe tbody tr th:only-of-type {\n",
       "        vertical-align: middle;\n",
       "    }\n",
       "\n",
       "    .dataframe tbody tr th {\n",
       "        vertical-align: top;\n",
       "    }\n",
       "\n",
       "    .dataframe thead th {\n",
       "        text-align: right;\n",
       "    }\n",
       "</style>\n",
       "<table border=\"1\" class=\"dataframe\">\n",
       "  <thead>\n",
       "    <tr style=\"text-align: right;\">\n",
       "      <th></th>\n",
       "      <th>VehicleSearchedIndicator</th>\n",
       "      <th>ContrabandIndicator</th>\n",
       "      <th>Department Name</th>\n",
       "      <th>InterventionDateTime</th>\n",
       "      <th>InterventionLocationName</th>\n",
       "      <th>InterventionReasonCode</th>\n",
       "      <th>ReportingOfficerIdentificationID</th>\n",
       "      <th>ResidentIndicator</th>\n",
       "      <th>SearchAuthorizationCode</th>\n",
       "      <th>StatuteReason</th>\n",
       "      <th>SubjectAge</th>\n",
       "      <th>SubjectEthnicityCode</th>\n",
       "      <th>SubjectRaceCode</th>\n",
       "      <th>SubjectSexCode</th>\n",
       "      <th>TownResidentIndicator</th>\n",
       "    </tr>\n",
       "  </thead>\n",
       "  <tbody>\n",
       "    <tr>\n",
       "      <th>0</th>\n",
       "      <td>False</td>\n",
       "      <td>False</td>\n",
       "      <td>New Haven</td>\n",
       "      <td>10/01/2013 12:00:00 AM</td>\n",
       "      <td>NEW HAVEN</td>\n",
       "      <td>V</td>\n",
       "      <td>262</td>\n",
       "      <td>True</td>\n",
       "      <td>N</td>\n",
       "      <td>Stop Sign</td>\n",
       "      <td>31.0</td>\n",
       "      <td>H</td>\n",
       "      <td>W</td>\n",
       "      <td>M</td>\n",
       "      <td>True</td>\n",
       "    </tr>\n",
       "    <tr>\n",
       "      <th>1</th>\n",
       "      <td>False</td>\n",
       "      <td>False</td>\n",
       "      <td>State Police</td>\n",
       "      <td>10/01/2013 12:00:00 AM</td>\n",
       "      <td>WILLINGTON</td>\n",
       "      <td>V</td>\n",
       "      <td>1000002715</td>\n",
       "      <td>False</td>\n",
       "      <td>N</td>\n",
       "      <td>Other</td>\n",
       "      <td>29.0</td>\n",
       "      <td>M</td>\n",
       "      <td>W</td>\n",
       "      <td>M</td>\n",
       "      <td>False</td>\n",
       "    </tr>\n",
       "    <tr>\n",
       "      <th>2</th>\n",
       "      <td>False</td>\n",
       "      <td>False</td>\n",
       "      <td>Plymouth</td>\n",
       "      <td>10/01/2013 12:00:00 AM</td>\n",
       "      <td>Terryville</td>\n",
       "      <td>V</td>\n",
       "      <td>21</td>\n",
       "      <td>True</td>\n",
       "      <td>N</td>\n",
       "      <td>Speed Related</td>\n",
       "      <td>18.0</td>\n",
       "      <td>N</td>\n",
       "      <td>W</td>\n",
       "      <td>M</td>\n",
       "      <td>True</td>\n",
       "    </tr>\n",
       "    <tr>\n",
       "      <th>3</th>\n",
       "      <td>False</td>\n",
       "      <td>False</td>\n",
       "      <td>Plymouth</td>\n",
       "      <td>10/01/2013 12:00:00 AM</td>\n",
       "      <td>Plymouth</td>\n",
       "      <td>V</td>\n",
       "      <td>D1</td>\n",
       "      <td>True</td>\n",
       "      <td>N</td>\n",
       "      <td>Speed Related</td>\n",
       "      <td>52.0</td>\n",
       "      <td>N</td>\n",
       "      <td>W</td>\n",
       "      <td>F</td>\n",
       "      <td>False</td>\n",
       "    </tr>\n",
       "    <tr>\n",
       "      <th>4</th>\n",
       "      <td>False</td>\n",
       "      <td>False</td>\n",
       "      <td>Bethel</td>\n",
       "      <td>10/01/2013 12:00:00 AM</td>\n",
       "      <td>BETHEL</td>\n",
       "      <td>V</td>\n",
       "      <td>08M</td>\n",
       "      <td>True</td>\n",
       "      <td>N</td>\n",
       "      <td>Cell Phone</td>\n",
       "      <td>34.0</td>\n",
       "      <td>N</td>\n",
       "      <td>W</td>\n",
       "      <td>M</td>\n",
       "      <td>False</td>\n",
       "    </tr>\n",
       "  </tbody>\n",
       "</table>\n",
       "</div>"
      ],
      "text/plain": [
       "   VehicleSearchedIndicator  ContrabandIndicator Department Name  \\\n",
       "0                     False                False       New Haven   \n",
       "1                     False                False    State Police   \n",
       "2                     False                False        Plymouth   \n",
       "3                     False                False        Plymouth   \n",
       "4                     False                False          Bethel   \n",
       "\n",
       "     InterventionDateTime InterventionLocationName InterventionReasonCode  \\\n",
       "0  10/01/2013 12:00:00 AM                NEW HAVEN                      V   \n",
       "1  10/01/2013 12:00:00 AM               WILLINGTON                      V   \n",
       "2  10/01/2013 12:00:00 AM               Terryville                      V   \n",
       "3  10/01/2013 12:00:00 AM                 Plymouth                      V   \n",
       "4  10/01/2013 12:00:00 AM                   BETHEL                      V   \n",
       "\n",
       "  ReportingOfficerIdentificationID  ResidentIndicator SearchAuthorizationCode  \\\n",
       "0                              262               True                       N   \n",
       "1                       1000002715              False                       N   \n",
       "2                               21               True                       N   \n",
       "3                               D1               True                       N   \n",
       "4                              08M               True                       N   \n",
       "\n",
       "   StatuteReason  SubjectAge SubjectEthnicityCode SubjectRaceCode  \\\n",
       "0      Stop Sign        31.0                    H               W   \n",
       "1          Other        29.0                    M               W   \n",
       "2  Speed Related        18.0                    N               W   \n",
       "3  Speed Related        52.0                    N               W   \n",
       "4     Cell Phone        34.0                    N               W   \n",
       "\n",
       "  SubjectSexCode  TownResidentIndicator  \n",
       "0              M                   True  \n",
       "1              M                  False  \n",
       "2              M                   True  \n",
       "3              F                  False  \n",
       "4              M                  False  "
      ]
     },
     "execution_count": 16,
     "metadata": {},
     "output_type": "execute_result"
    }
   ],
   "source": [
    "df.head()"
   ]
  },
  {
   "cell_type": "code",
   "execution_count": 17,
   "metadata": {},
   "outputs": [],
   "source": [
    "class_0, class_1 = df.ContrabandIndicator.value_counts()\n",
    "\n",
    "\n",
    "df_class_0 = df[df['ContrabandIndicator'] == 0]\n",
    "df_class_1 = df[df['ContrabandIndicator'] == 1]\n",
    "\n",
    "\n",
    "df_class_0_under = df_class_0.sample(df_class_1.shape[0]*49,random_state=1)\n",
    "df_new = pd.concat([df_class_0_under, df_class_1], axis=0)\n",
    "df_new = df_new.reset_index(drop=True)\n"
   ]
  },
  {
   "cell_type": "code",
   "execution_count": 18,
   "metadata": {},
   "outputs": [],
   "source": [
    "X = df_new.drop(columns='ContrabandIndicator')"
   ]
  },
  {
   "cell_type": "code",
   "execution_count": 19,
   "metadata": {},
   "outputs": [],
   "source": [
    "y = df_new['ContrabandIndicator']"
   ]
  },
  {
   "cell_type": "code",
   "execution_count": 20,
   "metadata": {},
   "outputs": [
    {
     "data": {
      "text/html": [
       "<div>\n",
       "<style scoped>\n",
       "    .dataframe tbody tr th:only-of-type {\n",
       "        vertical-align: middle;\n",
       "    }\n",
       "\n",
       "    .dataframe tbody tr th {\n",
       "        vertical-align: top;\n",
       "    }\n",
       "\n",
       "    .dataframe thead th {\n",
       "        text-align: right;\n",
       "    }\n",
       "</style>\n",
       "<table border=\"1\" class=\"dataframe\">\n",
       "  <thead>\n",
       "    <tr style=\"text-align: right;\">\n",
       "      <th></th>\n",
       "      <th>VehicleSearchedIndicator</th>\n",
       "      <th>Department Name</th>\n",
       "      <th>InterventionDateTime</th>\n",
       "      <th>InterventionLocationName</th>\n",
       "      <th>InterventionReasonCode</th>\n",
       "      <th>ReportingOfficerIdentificationID</th>\n",
       "      <th>ResidentIndicator</th>\n",
       "      <th>SearchAuthorizationCode</th>\n",
       "      <th>StatuteReason</th>\n",
       "      <th>SubjectAge</th>\n",
       "      <th>SubjectEthnicityCode</th>\n",
       "      <th>SubjectRaceCode</th>\n",
       "      <th>SubjectSexCode</th>\n",
       "      <th>TownResidentIndicator</th>\n",
       "    </tr>\n",
       "  </thead>\n",
       "  <tbody>\n",
       "    <tr>\n",
       "      <th>0</th>\n",
       "      <td>False</td>\n",
       "      <td>New Canaan</td>\n",
       "      <td>09/01/2014 04:06:00 PM</td>\n",
       "      <td>New Canaan</td>\n",
       "      <td>E</td>\n",
       "      <td>255</td>\n",
       "      <td>True</td>\n",
       "      <td>N</td>\n",
       "      <td>Display of Plates</td>\n",
       "      <td>54.0</td>\n",
       "      <td>N</td>\n",
       "      <td>W</td>\n",
       "      <td>M</td>\n",
       "      <td>True</td>\n",
       "    </tr>\n",
       "    <tr>\n",
       "      <th>1</th>\n",
       "      <td>False</td>\n",
       "      <td>Newington</td>\n",
       "      <td>07/24/2014 06:11:00 PM</td>\n",
       "      <td>Newington</td>\n",
       "      <td>V</td>\n",
       "      <td>EAS2608</td>\n",
       "      <td>True</td>\n",
       "      <td>N</td>\n",
       "      <td>Speed Related</td>\n",
       "      <td>41.0</td>\n",
       "      <td>N</td>\n",
       "      <td>W</td>\n",
       "      <td>M</td>\n",
       "      <td>False</td>\n",
       "    </tr>\n",
       "    <tr>\n",
       "      <th>2</th>\n",
       "      <td>True</td>\n",
       "      <td>West Hartford</td>\n",
       "      <td>01/04/2016 10:54:40 AM</td>\n",
       "      <td>WEST HARTFORD</td>\n",
       "      <td>V</td>\n",
       "      <td>1000002101</td>\n",
       "      <td>True</td>\n",
       "      <td>C</td>\n",
       "      <td>Moving Violation</td>\n",
       "      <td>60.0</td>\n",
       "      <td>N</td>\n",
       "      <td>B</td>\n",
       "      <td>M</td>\n",
       "      <td>False</td>\n",
       "    </tr>\n",
       "    <tr>\n",
       "      <th>3</th>\n",
       "      <td>False</td>\n",
       "      <td>Old Saybrook</td>\n",
       "      <td>12/03/2016 05:00:00 PM</td>\n",
       "      <td>OLD SAYBROOK</td>\n",
       "      <td>E</td>\n",
       "      <td>30</td>\n",
       "      <td>True</td>\n",
       "      <td>N</td>\n",
       "      <td>Defective Lights</td>\n",
       "      <td>46.0</td>\n",
       "      <td>N</td>\n",
       "      <td>W</td>\n",
       "      <td>M</td>\n",
       "      <td>True</td>\n",
       "    </tr>\n",
       "    <tr>\n",
       "      <th>4</th>\n",
       "      <td>False</td>\n",
       "      <td>Orange</td>\n",
       "      <td>02/12/2014 07:59:00 PM</td>\n",
       "      <td>Orange</td>\n",
       "      <td>V</td>\n",
       "      <td>MSC9492</td>\n",
       "      <td>True</td>\n",
       "      <td>N</td>\n",
       "      <td>Traffic Control Signal</td>\n",
       "      <td>20.0</td>\n",
       "      <td>N</td>\n",
       "      <td>W</td>\n",
       "      <td>M</td>\n",
       "      <td>False</td>\n",
       "    </tr>\n",
       "  </tbody>\n",
       "</table>\n",
       "</div>"
      ],
      "text/plain": [
       "   VehicleSearchedIndicator Department Name    InterventionDateTime  \\\n",
       "0                     False      New Canaan  09/01/2014 04:06:00 PM   \n",
       "1                     False       Newington  07/24/2014 06:11:00 PM   \n",
       "2                      True   West Hartford  01/04/2016 10:54:40 AM   \n",
       "3                     False    Old Saybrook  12/03/2016 05:00:00 PM   \n",
       "4                     False          Orange  02/12/2014 07:59:00 PM   \n",
       "\n",
       "  InterventionLocationName InterventionReasonCode  \\\n",
       "0     New Canaan                                E   \n",
       "1                Newington                      V   \n",
       "2            WEST HARTFORD                      V   \n",
       "3             OLD SAYBROOK                      E   \n",
       "4                   Orange                      V   \n",
       "\n",
       "  ReportingOfficerIdentificationID  ResidentIndicator SearchAuthorizationCode  \\\n",
       "0                              255               True                       N   \n",
       "1                          EAS2608               True                       N   \n",
       "2                       1000002101               True                       C   \n",
       "3                               30               True                       N   \n",
       "4                          MSC9492               True                       N   \n",
       "\n",
       "            StatuteReason  SubjectAge SubjectEthnicityCode SubjectRaceCode  \\\n",
       "0       Display of Plates        54.0                    N               W   \n",
       "1           Speed Related        41.0                    N               W   \n",
       "2        Moving Violation        60.0                    N               B   \n",
       "3        Defective Lights        46.0                    N               W   \n",
       "4  Traffic Control Signal        20.0                    N               W   \n",
       "\n",
       "  SubjectSexCode  TownResidentIndicator  \n",
       "0              M                   True  \n",
       "1              M                  False  \n",
       "2              M                  False  \n",
       "3              M                   True  \n",
       "4              M                  False  "
      ]
     },
     "execution_count": 20,
     "metadata": {},
     "output_type": "execute_result"
    }
   ],
   "source": [
    "X.head()"
   ]
  },
  {
   "cell_type": "code",
   "execution_count": 21,
   "metadata": {},
   "outputs": [
    {
     "data": {
      "text/plain": [
       "0          False\n",
       "1          False\n",
       "2          False\n",
       "3          False\n",
       "4          False\n",
       "           ...  \n",
       "1282195     True\n",
       "1282196     True\n",
       "1282197     True\n",
       "1282198     True\n",
       "1282199     True\n",
       "Name: ContrabandIndicator, Length: 1282200, dtype: bool"
      ]
     },
     "execution_count": 21,
     "metadata": {},
     "output_type": "execute_result"
    }
   ],
   "source": [
    "y"
   ]
  },
  {
   "cell_type": "code",
   "execution_count": 22,
   "metadata": {},
   "outputs": [],
   "source": [
    "X_train, X_test, y_train, y_test = train_test_split(X, y, test_size=0.2, random_state=1)"
   ]
  },
  {
   "cell_type": "code",
   "execution_count": 23,
   "metadata": {},
   "outputs": [
    {
     "data": {
      "text/html": [
       "<div>\n",
       "<style scoped>\n",
       "    .dataframe tbody tr th:only-of-type {\n",
       "        vertical-align: middle;\n",
       "    }\n",
       "\n",
       "    .dataframe tbody tr th {\n",
       "        vertical-align: top;\n",
       "    }\n",
       "\n",
       "    .dataframe thead th {\n",
       "        text-align: right;\n",
       "    }\n",
       "</style>\n",
       "<table border=\"1\" class=\"dataframe\">\n",
       "  <thead>\n",
       "    <tr style=\"text-align: right;\">\n",
       "      <th></th>\n",
       "      <th>VehicleSearchedIndicator</th>\n",
       "      <th>Department Name</th>\n",
       "      <th>InterventionDateTime</th>\n",
       "      <th>InterventionLocationName</th>\n",
       "      <th>InterventionReasonCode</th>\n",
       "      <th>ReportingOfficerIdentificationID</th>\n",
       "      <th>ResidentIndicator</th>\n",
       "      <th>SearchAuthorizationCode</th>\n",
       "      <th>StatuteReason</th>\n",
       "      <th>SubjectAge</th>\n",
       "      <th>SubjectEthnicityCode</th>\n",
       "      <th>SubjectRaceCode</th>\n",
       "      <th>SubjectSexCode</th>\n",
       "      <th>TownResidentIndicator</th>\n",
       "    </tr>\n",
       "  </thead>\n",
       "  <tbody>\n",
       "    <tr>\n",
       "      <th>984784</th>\n",
       "      <td>False</td>\n",
       "      <td>CSP Troop H</td>\n",
       "      <td>02/29/2016 05:03:56 PM</td>\n",
       "      <td>ROCKY HILL</td>\n",
       "      <td>V</td>\n",
       "      <td>39333217</td>\n",
       "      <td>False</td>\n",
       "      <td>N</td>\n",
       "      <td>Moving Violation</td>\n",
       "      <td>23.0</td>\n",
       "      <td>N</td>\n",
       "      <td>I</td>\n",
       "      <td>M</td>\n",
       "      <td>False</td>\n",
       "    </tr>\n",
       "    <tr>\n",
       "      <th>238490</th>\n",
       "      <td>False</td>\n",
       "      <td>State Police</td>\n",
       "      <td>11/30/2014 10:30:00 PM</td>\n",
       "      <td>WESTPORT</td>\n",
       "      <td>V</td>\n",
       "      <td>1000002702</td>\n",
       "      <td>False</td>\n",
       "      <td>N</td>\n",
       "      <td>Speed Related</td>\n",
       "      <td>18.0</td>\n",
       "      <td>N</td>\n",
       "      <td>W</td>\n",
       "      <td>F</td>\n",
       "      <td>False</td>\n",
       "    </tr>\n",
       "    <tr>\n",
       "      <th>660313</th>\n",
       "      <td>False</td>\n",
       "      <td>New Canaan</td>\n",
       "      <td>02/19/2017 09:50:00 AM</td>\n",
       "      <td>New Canaan</td>\n",
       "      <td>V</td>\n",
       "      <td>289</td>\n",
       "      <td>True</td>\n",
       "      <td>N</td>\n",
       "      <td>Speed Related</td>\n",
       "      <td>30.0</td>\n",
       "      <td>N</td>\n",
       "      <td>W</td>\n",
       "      <td>M</td>\n",
       "      <td>False</td>\n",
       "    </tr>\n",
       "    <tr>\n",
       "      <th>872193</th>\n",
       "      <td>False</td>\n",
       "      <td>MTA Stamford</td>\n",
       "      <td>11/29/2016 11:10:00 AM</td>\n",
       "      <td>Norwalk</td>\n",
       "      <td>V</td>\n",
       "      <td>2710</td>\n",
       "      <td>True</td>\n",
       "      <td>O</td>\n",
       "      <td>Cell Phone</td>\n",
       "      <td>37.0</td>\n",
       "      <td>H</td>\n",
       "      <td>W</td>\n",
       "      <td>F</td>\n",
       "      <td>True</td>\n",
       "    </tr>\n",
       "    <tr>\n",
       "      <th>158802</th>\n",
       "      <td>False</td>\n",
       "      <td>CSP Troop A</td>\n",
       "      <td>10/27/2017 03:39:00 PM</td>\n",
       "      <td>WATERBURY</td>\n",
       "      <td>V</td>\n",
       "      <td>1000003392</td>\n",
       "      <td>True</td>\n",
       "      <td>N</td>\n",
       "      <td>STC Violation</td>\n",
       "      <td>25.0</td>\n",
       "      <td>N</td>\n",
       "      <td>B</td>\n",
       "      <td>M</td>\n",
       "      <td>False</td>\n",
       "    </tr>\n",
       "  </tbody>\n",
       "</table>\n",
       "</div>"
      ],
      "text/plain": [
       "        VehicleSearchedIndicator Department Name    InterventionDateTime  \\\n",
       "984784                     False     CSP Troop H  02/29/2016 05:03:56 PM   \n",
       "238490                     False    State Police  11/30/2014 10:30:00 PM   \n",
       "660313                     False      New Canaan  02/19/2017 09:50:00 AM   \n",
       "872193                     False    MTA Stamford  11/29/2016 11:10:00 AM   \n",
       "158802                     False     CSP Troop A  10/27/2017 03:39:00 PM   \n",
       "\n",
       "       InterventionLocationName InterventionReasonCode  \\\n",
       "984784               ROCKY HILL                      V   \n",
       "238490     WESTPORT                                  V   \n",
       "660313               New Canaan                      V   \n",
       "872193                  Norwalk                      V   \n",
       "158802                WATERBURY                      V   \n",
       "\n",
       "       ReportingOfficerIdentificationID  ResidentIndicator  \\\n",
       "984784                         39333217              False   \n",
       "238490                       1000002702              False   \n",
       "660313                              289               True   \n",
       "872193                             2710               True   \n",
       "158802                       1000003392               True   \n",
       "\n",
       "       SearchAuthorizationCode     StatuteReason  SubjectAge  \\\n",
       "984784                       N  Moving Violation        23.0   \n",
       "238490                       N     Speed Related        18.0   \n",
       "660313                       N     Speed Related        30.0   \n",
       "872193                       O        Cell Phone        37.0   \n",
       "158802                       N     STC Violation        25.0   \n",
       "\n",
       "       SubjectEthnicityCode SubjectRaceCode SubjectSexCode  \\\n",
       "984784                    N               I              M   \n",
       "238490                    N               W              F   \n",
       "660313                    N               W              M   \n",
       "872193                    H               W              F   \n",
       "158802                    N               B              M   \n",
       "\n",
       "        TownResidentIndicator  \n",
       "984784                  False  \n",
       "238490                  False  \n",
       "660313                  False  \n",
       "872193                   True  \n",
       "158802                  False  "
      ]
     },
     "execution_count": 23,
     "metadata": {},
     "output_type": "execute_result"
    }
   ],
   "source": [
    "X_train.head()"
   ]
  },
  {
   "cell_type": "code",
   "execution_count": null,
   "metadata": {},
   "outputs": [],
   "source": []
  },
  {
   "cell_type": "code",
   "execution_count": 24,
   "metadata": {},
   "outputs": [],
   "source": [
    "class PreProcess(BaseEstimator, TransformerMixin):\n",
    "    def fit(self, *_):\n",
    "        return self\n",
    "    \n",
    "    def transform(self, df, *_):\n",
    "        \n",
    "        _df = df.copy()\n",
    "        \n",
    "        #Drop features\n",
    "        _df = _df.rename(columns={\"Department Name\": \"DepartmentName\"})\n",
    "        _df = _df[['DepartmentName','InterventionReasonCode', 'ResidentIndicator', 'InterventionDateTime',\n",
    "                   'SearchAuthorizationCode', 'StatuteReason', 'TownResidentIndicator']]\n",
    "\n",
    "        #InterventionReasonCode\n",
    "        _df.InterventionReasonCode = _df.InterventionReasonCode.str.lower().str.strip()    \n",
    "           \n",
    "        #SearchAuthorizationCode\n",
    "        _df.SearchAuthorizationCode = _df.SearchAuthorizationCode.str.lower().str.strip()\n",
    "        \n",
    "        #DepartmentName  \n",
    "        _df = _df.rename(columns={\"Department Name\": \"DepartmentName\"})\n",
    "        _df.DepartmentName = _df.DepartmentName.str.lower().str.strip()\n",
    "        \n",
    "        #StatuteReason\n",
    "        _df.StatuteReason = _df.StatuteReason.str.lower().str.strip()\n",
    "        \n",
    "        #Conversion to DateTime type\n",
    "        _df.InterventionDateTime = pd.to_datetime(_df.InterventionDateTime, format='%m/%d/%Y %I:%M:%S %p')\n",
    "    \n",
    "        #Creating time features\n",
    "        _df = _df.assign(HourDay = _df.InterventionDateTime.dt.hour\n",
    "                         + _df.InterventionDateTime.dt.minute / 60,\n",
    "                         DayWeek = _df.InterventionDateTime.dt.dayofweek,\n",
    "                         Month = _df.InterventionDateTime.dt.month\n",
    "                        )\n",
    "        #Drop inital DateTime column\n",
    "        _df = _df.drop(columns='InterventionDateTime')\n",
    "        \n",
    "        return _df"
   ]
  },
  {
   "cell_type": "code",
   "execution_count": 25,
   "metadata": {},
   "outputs": [],
   "source": [
    "pipeline = make_pipeline(\n",
    "    PreProcess(),\n",
    "    BinaryEncoder(),\n",
    "    MinMaxScaler(),\n",
    "    RandomForestClassifier(bootstrap=True, ccp_alpha=0.0, class_weight=None,\n",
    "                       criterion='gini', max_depth=10, max_features='auto',\n",
    "                       max_leaf_nodes=None, max_samples=None,\n",
    "                       min_impurity_decrease=0.0, min_impurity_split=None,\n",
    "                       min_samples_leaf=1, min_samples_split=2,\n",
    "                       min_weight_fraction_leaf=0.0, n_estimators=100,\n",
    "                       n_jobs=None, oob_score=False, random_state=None,\n",
    "                       verbose=0, warm_start=False))"
   ]
  },
  {
   "cell_type": "code",
   "execution_count": 26,
   "metadata": {},
   "outputs": [
    {
     "name": "stdout",
     "output_type": "stream",
     "text": [
      "CPU times: user 5min 30s, sys: 5.63 s, total: 5min 36s\n",
      "Wall time: 5min 46s\n"
     ]
    },
    {
     "data": {
      "text/plain": [
       "Pipeline(memory=None,\n",
       "         steps=[('preprocess', PreProcess()),\n",
       "                ('binaryencoder',\n",
       "                 BinaryEncoder(cols=None, drop_invariant=False,\n",
       "                               handle_missing='value', handle_unknown='value',\n",
       "                               mapping=None, return_df=True, verbose=0)),\n",
       "                ('minmaxscaler', MinMaxScaler(copy=True, feature_range=(0, 1))),\n",
       "                ('randomforestclassifier',\n",
       "                 RandomForestClassifier(bootstrap=True, ccp_alpha=0.0,\n",
       "                                        class_weight=None, criterion='gini',\n",
       "                                        max_depth=10, max_features='auto',\n",
       "                                        max_leaf_nodes=None, max_samples=None,\n",
       "                                        min_impurity_decrease=0.0,\n",
       "                                        min_impurity_split=None,\n",
       "                                        min_samples_leaf=1, min_samples_split=2,\n",
       "                                        min_weight_fraction_leaf=0.0,\n",
       "                                        n_estimators=100, n_jobs=None,\n",
       "                                        oob_score=False, random_state=None,\n",
       "                                        verbose=0, warm_start=False))],\n",
       "         verbose=False)"
      ]
     },
     "execution_count": 26,
     "metadata": {},
     "output_type": "execute_result"
    }
   ],
   "source": [
    "%%time\n",
    "\n",
    "pipeline.fit(X_train, y_train)"
   ]
  },
  {
   "cell_type": "code",
   "execution_count": 27,
   "metadata": {},
   "outputs": [],
   "source": [
    "pred = pipeline.predict_proba(X_test)"
   ]
  },
  {
   "cell_type": "code",
   "execution_count": 28,
   "metadata": {},
   "outputs": [
    {
     "name": "stdout",
     "output_type": "stream",
     "text": [
      "Precision score: 0.71\n",
      "Accuracy score: 0.98\n",
      "Recall score: 0.41\n"
     ]
    }
   ],
   "source": [
    "y_pred = (pred[:,1] >= 0.55)\n",
    "\n",
    "\n",
    "print('Precision score:', round(precision_score(y_test,y_pred),2))\n",
    "print('Accuracy score:', round(accuracy_score(y_test,y_pred),2))\n",
    "print('Recall score:', round(recall_score(y_test,y_pred),2))"
   ]
  },
  {
   "cell_type": "markdown",
   "metadata": {},
   "source": [
    "### Assessing fairness"
   ]
  },
  {
   "cell_type": "code",
   "execution_count": 29,
   "metadata": {},
   "outputs": [],
   "source": [
    "X = df_new[['SubjectEthnicityCode', 'SubjectRaceCode', 'SubjectSexCode']]"
   ]
  },
  {
   "cell_type": "code",
   "execution_count": 30,
   "metadata": {},
   "outputs": [],
   "source": [
    "X_train, X_test, y_train, y_test = train_test_split(X, y, test_size=0.2, random_state=1)"
   ]
  },
  {
   "cell_type": "code",
   "execution_count": 31,
   "metadata": {},
   "outputs": [
    {
     "name": "stderr",
     "output_type": "stream",
     "text": [
      "/opt/anaconda3/lib/python3.7/site-packages/ipykernel_launcher.py:1: SettingWithCopyWarning: \n",
      "A value is trying to be set on a copy of a slice from a DataFrame.\n",
      "Try using .loc[row_indexer,col_indexer] = value instead\n",
      "\n",
      "See the caveats in the documentation: https://pandas.pydata.org/pandas-docs/stable/user_guide/indexing.html#returning-a-view-versus-a-copy\n",
      "  \"\"\"Entry point for launching an IPython kernel.\n",
      "/opt/anaconda3/lib/python3.7/site-packages/ipykernel_launcher.py:2: SettingWithCopyWarning: \n",
      "A value is trying to be set on a copy of a slice from a DataFrame.\n",
      "Try using .loc[row_indexer,col_indexer] = value instead\n",
      "\n",
      "See the caveats in the documentation: https://pandas.pydata.org/pandas-docs/stable/user_guide/indexing.html#returning-a-view-versus-a-copy\n",
      "  \n"
     ]
    }
   ],
   "source": [
    "X_test['y'] = y_test\n",
    "X_test['y_pred'] = y_pred"
   ]
  },
  {
   "cell_type": "code",
   "execution_count": 32,
   "metadata": {},
   "outputs": [],
   "source": [
    "def plot_precision(df , protected_class):\n",
    "    \n",
    "    TP = df[(df.y_pred == 1) & (df.y == 1)]\n",
    "    FP = df[(df.y_pred == 1) & (df.y == 0)]\n",
    "\n",
    "    prec = TP.groupby(TP[protected_class])[protected_class].count()/(FP.groupby(FP[protected_class])[protected_class].count() + TP.groupby(TP[protected_class])[protected_class].count())\n",
    "    plt.figure(figsize=(15, 5))\n",
    "    pal = sns.color_palette(\"Reds_d\", len(prec))\n",
    "\n",
    "    sns.barplot(prec.index, prec.values)\n",
    "\n",
    "\n",
    "    ax = sns.barplot(prec.index, prec.values, palette=np.array(pal[::-1]))\n",
    "\n",
    "    ax.set(xlabel=protected_class, ylabel='Precision')\n",
    "    plt.show()\n",
    "    print(prec)"
   ]
  },
  {
   "cell_type": "code",
   "execution_count": 33,
   "metadata": {},
   "outputs": [
    {
     "data": {
      "text/html": [
       "<div>\n",
       "<style scoped>\n",
       "    .dataframe tbody tr th:only-of-type {\n",
       "        vertical-align: middle;\n",
       "    }\n",
       "\n",
       "    .dataframe tbody tr th {\n",
       "        vertical-align: top;\n",
       "    }\n",
       "\n",
       "    .dataframe thead th {\n",
       "        text-align: right;\n",
       "    }\n",
       "</style>\n",
       "<table border=\"1\" class=\"dataframe\">\n",
       "  <thead>\n",
       "    <tr style=\"text-align: right;\">\n",
       "      <th></th>\n",
       "      <th>SubjectEthnicityCode</th>\n",
       "      <th>SubjectRaceCode</th>\n",
       "      <th>SubjectSexCode</th>\n",
       "      <th>y</th>\n",
       "      <th>y_pred</th>\n",
       "    </tr>\n",
       "  </thead>\n",
       "  <tbody>\n",
       "    <tr>\n",
       "      <th>174839</th>\n",
       "      <td>H</td>\n",
       "      <td>W</td>\n",
       "      <td>M</td>\n",
       "      <td>False</td>\n",
       "      <td>False</td>\n",
       "    </tr>\n",
       "    <tr>\n",
       "      <th>437892</th>\n",
       "      <td>M</td>\n",
       "      <td>B</td>\n",
       "      <td>F</td>\n",
       "      <td>False</td>\n",
       "      <td>False</td>\n",
       "    </tr>\n",
       "    <tr>\n",
       "      <th>1203822</th>\n",
       "      <td>H</td>\n",
       "      <td>W</td>\n",
       "      <td>M</td>\n",
       "      <td>False</td>\n",
       "      <td>False</td>\n",
       "    </tr>\n",
       "    <tr>\n",
       "      <th>981233</th>\n",
       "      <td>N</td>\n",
       "      <td>W</td>\n",
       "      <td>F</td>\n",
       "      <td>False</td>\n",
       "      <td>False</td>\n",
       "    </tr>\n",
       "    <tr>\n",
       "      <th>1185900</th>\n",
       "      <td>N</td>\n",
       "      <td>W</td>\n",
       "      <td>M</td>\n",
       "      <td>False</td>\n",
       "      <td>False</td>\n",
       "    </tr>\n",
       "  </tbody>\n",
       "</table>\n",
       "</div>"
      ],
      "text/plain": [
       "        SubjectEthnicityCode SubjectRaceCode SubjectSexCode      y  y_pred\n",
       "174839                     H               W              M  False   False\n",
       "437892                     M               B              F  False   False\n",
       "1203822                    H               W              M  False   False\n",
       "981233                     N               W              F  False   False\n",
       "1185900                    N               W              M  False   False"
      ]
     },
     "execution_count": 33,
     "metadata": {},
     "output_type": "execute_result"
    }
   ],
   "source": [
    "X_test.head()"
   ]
  },
  {
   "cell_type": "code",
   "execution_count": 34,
   "metadata": {},
   "outputs": [
    {
     "data": {
      "image/png": "[encoded data removed]",
      "text/plain": [
       "<Figure size 1080x360 with 1 Axes>"
      ]
     },
     "metadata": {
      "needs_background": "light"
     },
     "output_type": "display_data"
    },
    {
     "name": "stdout",
     "output_type": "stream",
     "text": [
      "SubjectRaceCode\n",
      "A    0.720000\n",
      "B    0.665066\n",
      "I    0.700000\n",
      "W    0.732367\n",
      "Name: SubjectRaceCode, dtype: float64\n"
     ]
    }
   ],
   "source": [
    "plot_precision(X_test, 'SubjectRaceCode')"
   ]
  },
  {
   "cell_type": "code",
   "execution_count": 35,
   "metadata": {},
   "outputs": [
    {
     "data": {
      "image/png": "[encoded data removed]",
      "text/plain": [
       "<Figure size 1080x360 with 1 Axes>"
      ]
     },
     "metadata": {
      "needs_background": "light"
     },
     "output_type": "display_data"
    },
    {
     "name": "stdout",
     "output_type": "stream",
     "text": [
      "SubjectEthnicityCode\n",
      "H    0.690385\n",
      "M    0.700000\n",
      "N    0.718174\n",
      "Name: SubjectEthnicityCode, dtype: float64\n"
     ]
    }
   ],
   "source": [
    "plot_precision(X_test, 'SubjectEthnicityCode')"
   ]
  },
  {
   "cell_type": "code",
   "execution_count": 36,
   "metadata": {},
   "outputs": [
    {
     "data": {
      "image/png": "[encoded data removed]",
      "text/plain": [
       "<Figure size 1080x360 with 1 Axes>"
      ]
     },
     "metadata": {
      "needs_background": "light"
     },
     "output_type": "display_data"
    },
    {
     "name": "stdout",
     "output_type": "stream",
     "text": [
      "SubjectSexCode\n",
      "F    0.686703\n",
      "M    0.719129\n",
      "Name: SubjectSexCode, dtype: float64\n"
     ]
    }
   ],
   "source": [
    "plot_precision(X_test, 'SubjectSexCode')"
   ]
  },
  {
   "cell_type": "code",
   "execution_count": 37,
   "metadata": {},
   "outputs": [],
   "source": [
    "with open('columns.json', 'w') as fh:\n",
    "    json.dump(X_train.columns.tolist(), fh)"
   ]
  },
  {
   "cell_type": "code",
   "execution_count": 38,
   "metadata": {},
   "outputs": [],
   "source": [
    "with open('dtypes.pickle', 'wb') as fh:\n",
    "    pickle.dump(X_train.dtypes, fh)"
   ]
  },
  {
   "cell_type": "code",
   "execution_count": 39,
   "metadata": {},
   "outputs": [
    {
     "data": {
      "text/plain": [
       "['pipeline.pickle']"
      ]
     },
     "execution_count": 39,
     "metadata": {},
     "output_type": "execute_result"
    }
   ],
   "source": [
    "joblib.dump(pipeline, 'pipeline.pickle')"
   ]
  }
 ],
 "metadata": {
  "kernelspec": {
   "display_name": "Python 3",
   "language": "python",
   "name": "python3"
  },
  "language_info": {
   "codemirror_mode": {
    "name": "ipython",
    "version": 3
   },
   "file_extension": ".py",
   "mimetype": "text/x-python",
   "name": "python",
   "nbconvert_exporter": "python",
   "pygments_lexer": "ipython3",
   "version": "3.7.6"
  }
 },
 "nbformat": 4,
 "nbformat_minor": 2
}
