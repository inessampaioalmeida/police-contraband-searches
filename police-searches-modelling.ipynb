{
 "cells": [
  {
   "cell_type": "code",
   "execution_count": 1,
   "metadata": {},
   "outputs": [],
   "source": [
    "import pandas as pd\n",
    "import numpy as np\n",
    "\n",
    "from scipy.stats import randint\n",
    "import matplotlib.pyplot as plt\n",
    "import seaborn as sns\n",
    "\n",
    "from sklearn.preprocessing import MinMaxScaler\n",
    "from category_encoders.hashing import HashingEncoder\n",
    "from category_encoders.binary import BinaryEncoder\n",
    "from category_encoders.one_hot import OneHotEncoder\n",
    "from category_encoders.target_encoder import TargetEncoder\n",
    "\n",
    "from sklearn.linear_model import LogisticRegression\n",
    "from sklearn.ensemble import GradientBoostingClassifier, RandomForestClassifier\n",
    "\n",
    "from sklearn.model_selection import cross_val_score, train_test_split, RandomizedSearchCV\n",
    "\n",
    "from sklearn.metrics import accuracy_score, precision_score, recall_score\n",
    "\n",
    "from sklearn.pipeline import make_pipeline\n"
   ]
  },
  {
   "cell_type": "code",
   "execution_count": 2,
   "metadata": {},
   "outputs": [],
   "source": [
    "df = pd.read_csv('train.csv')"
   ]
  },
  {
   "cell_type": "code",
   "execution_count": 3,
   "metadata": {},
   "outputs": [
    {
     "data": {
      "text/html": [
       "<div>\n",
       "<style scoped>\n",
       "    .dataframe tbody tr th:only-of-type {\n",
       "        vertical-align: middle;\n",
       "    }\n",
       "\n",
       "    .dataframe tbody tr th {\n",
       "        vertical-align: top;\n",
       "    }\n",
       "\n",
       "    .dataframe thead th {\n",
       "        text-align: right;\n",
       "    }\n",
       "</style>\n",
       "<table border=\"1\" class=\"dataframe\">\n",
       "  <thead>\n",
       "    <tr style=\"text-align: right;\">\n",
       "      <th></th>\n",
       "      <th>VehicleSearchedIndicator</th>\n",
       "      <th>ContrabandIndicator</th>\n",
       "      <th>Department Name</th>\n",
       "      <th>InterventionDateTime</th>\n",
       "      <th>InterventionLocationName</th>\n",
       "      <th>InterventionReasonCode</th>\n",
       "      <th>ReportingOfficerIdentificationID</th>\n",
       "      <th>ResidentIndicator</th>\n",
       "      <th>SearchAuthorizationCode</th>\n",
       "      <th>StatuteReason</th>\n",
       "      <th>SubjectAge</th>\n",
       "      <th>SubjectEthnicityCode</th>\n",
       "      <th>SubjectRaceCode</th>\n",
       "      <th>SubjectSexCode</th>\n",
       "      <th>TownResidentIndicator</th>\n",
       "    </tr>\n",
       "  </thead>\n",
       "  <tbody>\n",
       "    <tr>\n",
       "      <th>0</th>\n",
       "      <td>False</td>\n",
       "      <td>False</td>\n",
       "      <td>New Haven</td>\n",
       "      <td>10/01/2013 12:00:00 AM</td>\n",
       "      <td>NEW HAVEN</td>\n",
       "      <td>V</td>\n",
       "      <td>262</td>\n",
       "      <td>True</td>\n",
       "      <td>N</td>\n",
       "      <td>Stop Sign</td>\n",
       "      <td>31.0</td>\n",
       "      <td>H</td>\n",
       "      <td>W</td>\n",
       "      <td>M</td>\n",
       "      <td>True</td>\n",
       "    </tr>\n",
       "    <tr>\n",
       "      <th>1</th>\n",
       "      <td>False</td>\n",
       "      <td>False</td>\n",
       "      <td>State Police</td>\n",
       "      <td>10/01/2013 12:00:00 AM</td>\n",
       "      <td>WILLINGTON</td>\n",
       "      <td>V</td>\n",
       "      <td>1000002715</td>\n",
       "      <td>False</td>\n",
       "      <td>N</td>\n",
       "      <td>Other</td>\n",
       "      <td>29.0</td>\n",
       "      <td>M</td>\n",
       "      <td>W</td>\n",
       "      <td>M</td>\n",
       "      <td>False</td>\n",
       "    </tr>\n",
       "    <tr>\n",
       "      <th>2</th>\n",
       "      <td>False</td>\n",
       "      <td>False</td>\n",
       "      <td>Plymouth</td>\n",
       "      <td>10/01/2013 12:00:00 AM</td>\n",
       "      <td>Terryville</td>\n",
       "      <td>V</td>\n",
       "      <td>21</td>\n",
       "      <td>True</td>\n",
       "      <td>N</td>\n",
       "      <td>Speed Related</td>\n",
       "      <td>18.0</td>\n",
       "      <td>N</td>\n",
       "      <td>W</td>\n",
       "      <td>M</td>\n",
       "      <td>True</td>\n",
       "    </tr>\n",
       "    <tr>\n",
       "      <th>3</th>\n",
       "      <td>False</td>\n",
       "      <td>False</td>\n",
       "      <td>Plymouth</td>\n",
       "      <td>10/01/2013 12:00:00 AM</td>\n",
       "      <td>Plymouth</td>\n",
       "      <td>V</td>\n",
       "      <td>D1</td>\n",
       "      <td>True</td>\n",
       "      <td>N</td>\n",
       "      <td>Speed Related</td>\n",
       "      <td>52.0</td>\n",
       "      <td>N</td>\n",
       "      <td>W</td>\n",
       "      <td>F</td>\n",
       "      <td>False</td>\n",
       "    </tr>\n",
       "    <tr>\n",
       "      <th>4</th>\n",
       "      <td>False</td>\n",
       "      <td>False</td>\n",
       "      <td>Bethel</td>\n",
       "      <td>10/01/2013 12:00:00 AM</td>\n",
       "      <td>BETHEL</td>\n",
       "      <td>V</td>\n",
       "      <td>08M</td>\n",
       "      <td>True</td>\n",
       "      <td>N</td>\n",
       "      <td>Cell Phone</td>\n",
       "      <td>34.0</td>\n",
       "      <td>N</td>\n",
       "      <td>W</td>\n",
       "      <td>M</td>\n",
       "      <td>False</td>\n",
       "    </tr>\n",
       "  </tbody>\n",
       "</table>\n",
       "</div>"
      ],
      "text/plain": [
       "   VehicleSearchedIndicator  ContrabandIndicator Department Name  \\\n",
       "0                     False                False       New Haven   \n",
       "1                     False                False    State Police   \n",
       "2                     False                False        Plymouth   \n",
       "3                     False                False        Plymouth   \n",
       "4                     False                False          Bethel   \n",
       "\n",
       "     InterventionDateTime InterventionLocationName InterventionReasonCode  \\\n",
       "0  10/01/2013 12:00:00 AM                NEW HAVEN                      V   \n",
       "1  10/01/2013 12:00:00 AM               WILLINGTON                      V   \n",
       "2  10/01/2013 12:00:00 AM               Terryville                      V   \n",
       "3  10/01/2013 12:00:00 AM                 Plymouth                      V   \n",
       "4  10/01/2013 12:00:00 AM                   BETHEL                      V   \n",
       "\n",
       "  ReportingOfficerIdentificationID  ResidentIndicator SearchAuthorizationCode  \\\n",
       "0                              262               True                       N   \n",
       "1                       1000002715              False                       N   \n",
       "2                               21               True                       N   \n",
       "3                               D1               True                       N   \n",
       "4                              08M               True                       N   \n",
       "\n",
       "   StatuteReason  SubjectAge SubjectEthnicityCode SubjectRaceCode  \\\n",
       "0      Stop Sign        31.0                    H               W   \n",
       "1          Other        29.0                    M               W   \n",
       "2  Speed Related        18.0                    N               W   \n",
       "3  Speed Related        52.0                    N               W   \n",
       "4     Cell Phone        34.0                    N               W   \n",
       "\n",
       "  SubjectSexCode  TownResidentIndicator  \n",
       "0              M                   True  \n",
       "1              M                  False  \n",
       "2              M                   True  \n",
       "3              F                  False  \n",
       "4              M                  False  "
      ]
     },
     "execution_count": 3,
     "metadata": {},
     "output_type": "execute_result"
    }
   ],
   "source": [
    "df.head(5)"
   ]
  },
  {
   "cell_type": "code",
   "execution_count": 4,
   "metadata": {},
   "outputs": [
    {
     "data": {
      "text/plain": [
       "False    2394077\n",
       "True        2823\n",
       "Name: ContrabandIndicator, dtype: int64"
      ]
     },
     "execution_count": 4,
     "metadata": {},
     "output_type": "execute_result"
    }
   ],
   "source": [
    "df[df.VehicleSearchedIndicator == False]['ContrabandIndicator'].value_counts()"
   ]
  },
  {
   "cell_type": "code",
   "execution_count": 5,
   "metadata": {},
   "outputs": [
    {
     "data": {
      "text/plain": [
       "(2473643, 15)"
      ]
     },
     "execution_count": 5,
     "metadata": {},
     "output_type": "execute_result"
    }
   ],
   "source": [
    "df.shape"
   ]
  },
  {
   "cell_type": "code",
   "execution_count": 6,
   "metadata": {},
   "outputs": [
    {
     "data": {
      "text/plain": [
       "Index(['VehicleSearchedIndicator', 'ContrabandIndicator', 'Department Name',\n",
       "       'InterventionDateTime', 'InterventionLocationName',\n",
       "       'InterventionReasonCode', 'ReportingOfficerIdentificationID',\n",
       "       'ResidentIndicator', 'SearchAuthorizationCode', 'StatuteReason',\n",
       "       'SubjectAge', 'SubjectEthnicityCode', 'SubjectRaceCode',\n",
       "       'SubjectSexCode', 'TownResidentIndicator'],\n",
       "      dtype='object')"
      ]
     },
     "execution_count": 6,
     "metadata": {},
     "output_type": "execute_result"
    }
   ],
   "source": [
    "df.columns"
   ]
  },
  {
   "cell_type": "code",
   "execution_count": 7,
   "metadata": {},
   "outputs": [
    {
     "data": {
      "text/plain": [
       "VehicleSearchedIndicator            0.000000\n",
       "ContrabandIndicator                 0.000000\n",
       "Department Name                     0.000000\n",
       "InterventionDateTime                0.000000\n",
       "InterventionLocationName            0.001455\n",
       "InterventionReasonCode              0.000081\n",
       "ReportingOfficerIdentificationID    0.000081\n",
       "ResidentIndicator                   0.000000\n",
       "SearchAuthorizationCode             0.000404\n",
       "StatuteReason                       0.020496\n",
       "SubjectAge                          0.000000\n",
       "SubjectEthnicityCode                0.000000\n",
       "SubjectRaceCode                     0.000000\n",
       "SubjectSexCode                      0.000000\n",
       "TownResidentIndicator               0.000000\n",
       "dtype: float64"
      ]
     },
     "execution_count": 7,
     "metadata": {},
     "output_type": "execute_result"
    }
   ],
   "source": [
    "df.isna().sum()/df.shape[0]*100"
   ]
  },
  {
   "cell_type": "code",
   "execution_count": 8,
   "metadata": {},
   "outputs": [],
   "source": [
    "df = df.dropna()"
   ]
  },
  {
   "cell_type": "code",
   "execution_count": 9,
   "metadata": {},
   "outputs": [
    {
     "data": {
      "text/plain": [
       "VehicleSearchedIndicator                  2\n",
       "ContrabandIndicator                       2\n",
       "Department Name                         122\n",
       "InterventionDateTime                1450299\n",
       "InterventionLocationName               2504\n",
       "InterventionReasonCode                    4\n",
       "ReportingOfficerIdentificationID       8588\n",
       "ResidentIndicator                         2\n",
       "SearchAuthorizationCode                   4\n",
       "StatuteReason                            18\n",
       "SubjectAge                               99\n",
       "SubjectEthnicityCode                      3\n",
       "SubjectRaceCode                           4\n",
       "SubjectSexCode                            2\n",
       "TownResidentIndicator                     2\n",
       "dtype: int64"
      ]
     },
     "execution_count": 9,
     "metadata": {},
     "output_type": "execute_result"
    }
   ],
   "source": [
    "df.nunique()"
   ]
  },
  {
   "cell_type": "code",
   "execution_count": 10,
   "metadata": {},
   "outputs": [
    {
     "data": {
      "text/plain": [
       "VehicleSearchedIndicator               bool\n",
       "ContrabandIndicator                    bool\n",
       "Department Name                      object\n",
       "InterventionDateTime                 object\n",
       "InterventionLocationName             object\n",
       "InterventionReasonCode               object\n",
       "ReportingOfficerIdentificationID     object\n",
       "ResidentIndicator                      bool\n",
       "SearchAuthorizationCode              object\n",
       "StatuteReason                        object\n",
       "SubjectAge                          float64\n",
       "SubjectEthnicityCode                 object\n",
       "SubjectRaceCode                      object\n",
       "SubjectSexCode                       object\n",
       "TownResidentIndicator                  bool\n",
       "dtype: object"
      ]
     },
     "execution_count": 10,
     "metadata": {},
     "output_type": "execute_result"
    }
   ],
   "source": [
    "df.dtypes"
   ]
  },
  {
   "cell_type": "code",
   "execution_count": 11,
   "metadata": {},
   "outputs": [
    {
     "data": {
      "text/plain": [
       "False    98.854266\n",
       "True      1.145734\n",
       "Name: ContrabandIndicator, dtype: float64"
      ]
     },
     "execution_count": 11,
     "metadata": {},
     "output_type": "execute_result"
    }
   ],
   "source": [
    "df.ContrabandIndicator.value_counts()/df.shape[0]*100"
   ]
  },
  {
   "cell_type": "code",
   "execution_count": 12,
   "metadata": {},
   "outputs": [],
   "source": [
    "cardinality = df.describe(exclude=np.number).T"
   ]
  },
  {
   "cell_type": "code",
   "execution_count": 13,
   "metadata": {},
   "outputs": [
    {
     "data": {
      "text/html": [
       "<div>\n",
       "<style scoped>\n",
       "    .dataframe tbody tr th:only-of-type {\n",
       "        vertical-align: middle;\n",
       "    }\n",
       "\n",
       "    .dataframe tbody tr th {\n",
       "        vertical-align: top;\n",
       "    }\n",
       "\n",
       "    .dataframe thead th {\n",
       "        text-align: right;\n",
       "    }\n",
       "</style>\n",
       "<table border=\"1\" class=\"dataframe\">\n",
       "  <thead>\n",
       "    <tr style=\"text-align: right;\">\n",
       "      <th></th>\n",
       "      <th>count</th>\n",
       "      <th>unique</th>\n",
       "      <th>top</th>\n",
       "      <th>freq</th>\n",
       "    </tr>\n",
       "  </thead>\n",
       "  <tbody>\n",
       "    <tr>\n",
       "      <th>VehicleSearchedIndicator</th>\n",
       "      <td>2473087</td>\n",
       "      <td>2</td>\n",
       "      <td>False</td>\n",
       "      <td>2396372</td>\n",
       "    </tr>\n",
       "    <tr>\n",
       "      <th>ContrabandIndicator</th>\n",
       "      <td>2473087</td>\n",
       "      <td>2</td>\n",
       "      <td>False</td>\n",
       "      <td>2444752</td>\n",
       "    </tr>\n",
       "    <tr>\n",
       "      <th>Department Name</th>\n",
       "      <td>2473087</td>\n",
       "      <td>122</td>\n",
       "      <td>State Police</td>\n",
       "      <td>322003</td>\n",
       "    </tr>\n",
       "    <tr>\n",
       "      <th>InterventionDateTime</th>\n",
       "      <td>2473087</td>\n",
       "      <td>1450299</td>\n",
       "      <td>03/07/2014 12:00:00 AM</td>\n",
       "      <td>270</td>\n",
       "    </tr>\n",
       "    <tr>\n",
       "      <th>InterventionLocationName</th>\n",
       "      <td>2473087</td>\n",
       "      <td>2504</td>\n",
       "      <td>NEW HAVEN</td>\n",
       "      <td>81216</td>\n",
       "    </tr>\n",
       "    <tr>\n",
       "      <th>InterventionReasonCode</th>\n",
       "      <td>2473087</td>\n",
       "      <td>4</td>\n",
       "      <td>V</td>\n",
       "      <td>2179291</td>\n",
       "    </tr>\n",
       "    <tr>\n",
       "      <th>ReportingOfficerIdentificationID</th>\n",
       "      <td>2473087</td>\n",
       "      <td>8588</td>\n",
       "      <td>790642042</td>\n",
       "      <td>8524</td>\n",
       "    </tr>\n",
       "    <tr>\n",
       "      <th>ResidentIndicator</th>\n",
       "      <td>2473087</td>\n",
       "      <td>2</td>\n",
       "      <td>True</td>\n",
       "      <td>2130545</td>\n",
       "    </tr>\n",
       "    <tr>\n",
       "      <th>SearchAuthorizationCode</th>\n",
       "      <td>2473087</td>\n",
       "      <td>4</td>\n",
       "      <td>N</td>\n",
       "      <td>2384303</td>\n",
       "    </tr>\n",
       "    <tr>\n",
       "      <th>StatuteReason</th>\n",
       "      <td>2473087</td>\n",
       "      <td>18</td>\n",
       "      <td>Speed Related</td>\n",
       "      <td>681108</td>\n",
       "    </tr>\n",
       "    <tr>\n",
       "      <th>SubjectEthnicityCode</th>\n",
       "      <td>2473087</td>\n",
       "      <td>3</td>\n",
       "      <td>N</td>\n",
       "      <td>2099224</td>\n",
       "    </tr>\n",
       "    <tr>\n",
       "      <th>SubjectRaceCode</th>\n",
       "      <td>2473087</td>\n",
       "      <td>4</td>\n",
       "      <td>W</td>\n",
       "      <td>2018500</td>\n",
       "    </tr>\n",
       "    <tr>\n",
       "      <th>SubjectSexCode</th>\n",
       "      <td>2473087</td>\n",
       "      <td>2</td>\n",
       "      <td>M</td>\n",
       "      <td>1562838</td>\n",
       "    </tr>\n",
       "    <tr>\n",
       "      <th>TownResidentIndicator</th>\n",
       "      <td>2473087</td>\n",
       "      <td>2</td>\n",
       "      <td>False</td>\n",
       "      <td>1701846</td>\n",
       "    </tr>\n",
       "  </tbody>\n",
       "</table>\n",
       "</div>"
      ],
      "text/plain": [
       "                                    count   unique                     top  \\\n",
       "VehicleSearchedIndicator          2473087        2                   False   \n",
       "ContrabandIndicator               2473087        2                   False   \n",
       "Department Name                   2473087      122            State Police   \n",
       "InterventionDateTime              2473087  1450299  03/07/2014 12:00:00 AM   \n",
       "InterventionLocationName          2473087     2504               NEW HAVEN   \n",
       "InterventionReasonCode            2473087        4                       V   \n",
       "ReportingOfficerIdentificationID  2473087     8588               790642042   \n",
       "ResidentIndicator                 2473087        2                    True   \n",
       "SearchAuthorizationCode           2473087        4                       N   \n",
       "StatuteReason                     2473087       18           Speed Related   \n",
       "SubjectEthnicityCode              2473087        3                       N   \n",
       "SubjectRaceCode                   2473087        4                       W   \n",
       "SubjectSexCode                    2473087        2                       M   \n",
       "TownResidentIndicator             2473087        2                   False   \n",
       "\n",
       "                                     freq  \n",
       "VehicleSearchedIndicator          2396372  \n",
       "ContrabandIndicator               2444752  \n",
       "Department Name                    322003  \n",
       "InterventionDateTime                  270  \n",
       "InterventionLocationName            81216  \n",
       "InterventionReasonCode            2179291  \n",
       "ReportingOfficerIdentificationID     8524  \n",
       "ResidentIndicator                 2130545  \n",
       "SearchAuthorizationCode           2384303  \n",
       "StatuteReason                      681108  \n",
       "SubjectEthnicityCode              2099224  \n",
       "SubjectRaceCode                   2018500  \n",
       "SubjectSexCode                    1562838  \n",
       "TownResidentIndicator             1701846  "
      ]
     },
     "execution_count": 13,
     "metadata": {},
     "output_type": "execute_result"
    }
   ],
   "source": [
    "cardinality"
   ]
  },
  {
   "cell_type": "code",
   "execution_count": 14,
   "metadata": {},
   "outputs": [
    {
     "name": "stdout",
     "output_type": "stream",
     "text": [
      "Percentage of duplicated rows 8.28 %\n"
     ]
    }
   ],
   "source": [
    "print('Percentage of duplicated rows', round(df[df.duplicated()].shape[0]/df.shape[0]*100,2),'%')"
   ]
  },
  {
   "cell_type": "code",
   "execution_count": 15,
   "metadata": {},
   "outputs": [],
   "source": [
    "df = df.drop_duplicates()"
   ]
  },
  {
   "cell_type": "code",
   "execution_count": 16,
   "metadata": {},
   "outputs": [
    {
     "data": {
      "text/plain": [
       "(2268336, 15)"
      ]
     },
     "execution_count": 16,
     "metadata": {},
     "output_type": "execute_result"
    }
   ],
   "source": [
    "df.shape"
   ]
  },
  {
   "cell_type": "markdown",
   "metadata": {},
   "source": [
    "### Intervention Location"
   ]
  },
  {
   "cell_type": "code",
   "execution_count": 17,
   "metadata": {},
   "outputs": [
    {
     "data": {
      "text/plain": [
       "NEW HAVEN               73451\n",
       "WALLINGFORD             41251\n",
       "Manchester              33862\n",
       "WESTPORT                30560\n",
       "Enfield                 29980\n",
       "                        ...  \n",
       "dibble st.                  1\n",
       "Northh Elm/ Norwood         1\n",
       "Charles/  Alvord par        1\n",
       "laurel hill/ rt 8           1\n",
       "northside rd                1\n",
       "Name: InterventionLocationName, Length: 2504, dtype: int64"
      ]
     },
     "execution_count": 17,
     "metadata": {},
     "output_type": "execute_result"
    }
   ],
   "source": [
    "df.InterventionLocationName.value_counts()"
   ]
  },
  {
   "cell_type": "code",
   "execution_count": 18,
   "metadata": {},
   "outputs": [
    {
     "data": {
      "text/plain": [
       "NEW HAVEN               73451\n",
       "WALLINGFORD             41251\n",
       "Manchester              33862\n",
       "WESTPORT                30560\n",
       "Enfield                 29980\n",
       "                        ...  \n",
       "dibble st.                  1\n",
       "Northh Elm/ Norwood         1\n",
       "Charles/  Alvord par        1\n",
       "laurel hill/ rt 8           1\n",
       "northside rd                1\n",
       "Name: InterventionLocationName, Length: 2504, dtype: int64"
      ]
     },
     "execution_count": 18,
     "metadata": {},
     "output_type": "execute_result"
    }
   ],
   "source": [
    "df.InterventionLocationName.value_counts()"
   ]
  },
  {
   "cell_type": "code",
   "execution_count": 19,
   "metadata": {},
   "outputs": [],
   "source": [
    "df['InterventionLocationName'] = df['InterventionLocationName'].str.lower().str.strip()"
   ]
  },
  {
   "cell_type": "code",
   "execution_count": 20,
   "metadata": {},
   "outputs": [
    {
     "data": {
      "text/plain": [
       "1588"
      ]
     },
     "execution_count": 20,
     "metadata": {},
     "output_type": "execute_result"
    }
   ],
   "source": [
    "df.InterventionLocationName.nunique()"
   ]
  },
  {
   "cell_type": "code",
   "execution_count": 21,
   "metadata": {
    "scrolled": true
   },
   "outputs": [],
   "source": [
    "locations = df.InterventionLocationName.value_counts()[df.InterventionLocationName.value_counts() < 50].index.values"
   ]
  },
  {
   "cell_type": "code",
   "execution_count": 22,
   "metadata": {},
   "outputs": [],
   "source": [
    "df[['InterventionLocationName']] = df[['InterventionLocationName']].replace('.', '')\n",
    "df[['InterventionLocationName']] = df[['InterventionLocationName']].replace('@', 'at')\n",
    "df[['InterventionLocationName']] = df[['InterventionLocationName']].replace('#', '')\n",
    "df[['InterventionLocationName']] = df[['InterventionLocationName']].replace('avenue', 'av')\n",
    "df[['InterventionLocationName']] = df[['InterventionLocationName']].replace('street', 'st')\n",
    "df[['InterventionLocationName']] = df[['InterventionLocationName']].replace('road', 'rd')\n",
    "df[['InterventionLocationName']] = df[['InterventionLocationName']].replace('-', '')\n",
    "df[['InterventionLocationName']] = df[['InterventionLocationName']].replace('/', '')"
   ]
  },
  {
   "cell_type": "code",
   "execution_count": 23,
   "metadata": {},
   "outputs": [],
   "source": [
    "locations = df.InterventionLocationName.value_counts()[df.InterventionLocationName.value_counts() < 50].index.values.tolist()\n",
    "\n",
    "df.InterventionLocationName = df.InterventionLocationName.map(lambda x: 'unknown' if x in locations else x)\n",
    "\n"
   ]
  },
  {
   "cell_type": "code",
   "execution_count": 24,
   "metadata": {},
   "outputs": [
    {
     "data": {
      "text/plain": [
       "224"
      ]
     },
     "execution_count": 24,
     "metadata": {},
     "output_type": "execute_result"
    }
   ],
   "source": [
    "df.InterventionLocationName.nunique()"
   ]
  },
  {
   "cell_type": "code",
   "execution_count": 25,
   "metadata": {},
   "outputs": [
    {
     "data": {
      "text/plain": [
       "new haven            82482\n",
       "stamford             47062\n",
       "hartford             45758\n",
       "wallingford          44263\n",
       "danbury              43184\n",
       "                     ...  \n",
       "south main street       53\n",
       "litchfield street       52\n",
       "business                52\n",
       "high st                 51\n",
       "south windham           50\n",
       "Name: InterventionLocationName, Length: 224, dtype: int64"
      ]
     },
     "execution_count": 25,
     "metadata": {},
     "output_type": "execute_result"
    }
   ],
   "source": [
    "df.InterventionLocationName.value_counts()"
   ]
  },
  {
   "cell_type": "markdown",
   "metadata": {},
   "source": [
    "### Department Name"
   ]
  },
  {
   "cell_type": "code",
   "execution_count": 26,
   "metadata": {},
   "outputs": [
    {
     "data": {
      "text/plain": [
       "122"
      ]
     },
     "execution_count": 26,
     "metadata": {},
     "output_type": "execute_result"
    }
   ],
   "source": [
    "df['Department Name'].nunique()"
   ]
  },
  {
   "cell_type": "code",
   "execution_count": 27,
   "metadata": {},
   "outputs": [],
   "source": [
    "df['Department Name'] = df['Department Name'].str.lower().str.strip()"
   ]
  },
  {
   "cell_type": "code",
   "execution_count": 28,
   "metadata": {},
   "outputs": [
    {
     "data": {
      "text/plain": [
       "122"
      ]
     },
     "execution_count": 28,
     "metadata": {},
     "output_type": "execute_result"
    }
   ],
   "source": [
    "df['Department Name'].nunique()"
   ]
  },
  {
   "cell_type": "code",
   "execution_count": 29,
   "metadata": {},
   "outputs": [
    {
     "data": {
      "text/plain": [
       "state police                320343\n",
       "new haven                    64399\n",
       "csp troop c                  53626\n",
       "csp troop f                  48550\n",
       "csp troop a                  45983\n",
       "                             ...  \n",
       "mta                             71\n",
       "mashantucket pequot             40\n",
       "met dist water authority         9\n",
       "mohegan tribal                   5\n",
       "mohegan tribal police            4\n",
       "Name: Department Name, Length: 122, dtype: int64"
      ]
     },
     "execution_count": 29,
     "metadata": {},
     "output_type": "execute_result"
    }
   ],
   "source": [
    "df['Department Name'].value_counts()"
   ]
  },
  {
   "cell_type": "markdown",
   "metadata": {},
   "source": [
    "### Statute Reason"
   ]
  },
  {
   "cell_type": "code",
   "execution_count": 30,
   "metadata": {},
   "outputs": [
    {
     "data": {
      "text/plain": [
       "18"
      ]
     },
     "execution_count": 30,
     "metadata": {},
     "output_type": "execute_result"
    }
   ],
   "source": [
    "df.StatuteReason.nunique()"
   ]
  },
  {
   "cell_type": "code",
   "execution_count": 31,
   "metadata": {},
   "outputs": [
    {
     "data": {
      "text/plain": [
       "Speed Related             625013\n",
       "Defective Lights          208254\n",
       "Registration              207988\n",
       "Cell Phone                200607\n",
       "Moving Violation          176235\n",
       "Other                     164192\n",
       "Traffic Control Signal    162935\n",
       "Stop Sign                 150667\n",
       "STC Violation             113287\n",
       "Seatbelt                   77052\n",
       "Display of Plates          62388\n",
       "Other/Error                43661\n",
       "Window Tint                25286\n",
       "Administrative Offense     24706\n",
       "Suspended License          11519\n",
       "Unlicensed Operation        8341\n",
       "Equipment Violation         6174\n",
       "Stop Sign                     31\n",
       "Name: StatuteReason, dtype: int64"
      ]
     },
     "execution_count": 31,
     "metadata": {},
     "output_type": "execute_result"
    }
   ],
   "source": [
    "df.StatuteReason.value_counts()"
   ]
  },
  {
   "cell_type": "code",
   "execution_count": 32,
   "metadata": {},
   "outputs": [],
   "source": [
    "df.StatuteReason = df.StatuteReason.str.lower().str.strip()"
   ]
  },
  {
   "cell_type": "code",
   "execution_count": 33,
   "metadata": {},
   "outputs": [
    {
     "data": {
      "text/plain": [
       "17"
      ]
     },
     "execution_count": 33,
     "metadata": {},
     "output_type": "execute_result"
    }
   ],
   "source": [
    "df.StatuteReason.nunique()"
   ]
  },
  {
   "cell_type": "markdown",
   "metadata": {},
   "source": [
    "### Intervention Date Time"
   ]
  },
  {
   "cell_type": "code",
   "execution_count": 34,
   "metadata": {},
   "outputs": [],
   "source": [
    "df.InterventionDateTime = pd.to_datetime(df.InterventionDateTime, format='%m/%d/%Y %I:%M:%S %p')"
   ]
  },
  {
   "cell_type": "code",
   "execution_count": 35,
   "metadata": {},
   "outputs": [],
   "source": [
    "df = df.assign(HourDay =df.InterventionDateTime.dt.hour\n",
    "                + (df.InterventionDateTime.dt.minute / 60),\n",
    "            DayWeek =df.InterventionDateTime.dt.dayofweek,\n",
    "              Month = df.InterventionDateTime.dt.month)"
   ]
  },
  {
   "cell_type": "markdown",
   "metadata": {},
   "source": [
    "### Intervention Reason"
   ]
  },
  {
   "cell_type": "code",
   "execution_count": 36,
   "metadata": {},
   "outputs": [
    {
     "data": {
      "text/plain": [
       "array(['V', 'E', 'I', 'no'], dtype=object)"
      ]
     },
     "execution_count": 36,
     "metadata": {},
     "output_type": "execute_result"
    }
   ],
   "source": [
    "df.InterventionReasonCode.unique()"
   ]
  },
  {
   "cell_type": "code",
   "execution_count": 37,
   "metadata": {},
   "outputs": [
    {
     "data": {
      "text/html": [
       "<div>\n",
       "<style scoped>\n",
       "    .dataframe tbody tr th:only-of-type {\n",
       "        vertical-align: middle;\n",
       "    }\n",
       "\n",
       "    .dataframe tbody tr th {\n",
       "        vertical-align: top;\n",
       "    }\n",
       "\n",
       "    .dataframe thead th {\n",
       "        text-align: right;\n",
       "    }\n",
       "</style>\n",
       "<table border=\"1\" class=\"dataframe\">\n",
       "  <thead>\n",
       "    <tr style=\"text-align: right;\">\n",
       "      <th></th>\n",
       "      <th>VehicleSearchedIndicator</th>\n",
       "      <th>ContrabandIndicator</th>\n",
       "      <th>Department Name</th>\n",
       "      <th>InterventionDateTime</th>\n",
       "      <th>InterventionLocationName</th>\n",
       "      <th>InterventionReasonCode</th>\n",
       "      <th>ReportingOfficerIdentificationID</th>\n",
       "      <th>ResidentIndicator</th>\n",
       "      <th>SearchAuthorizationCode</th>\n",
       "      <th>StatuteReason</th>\n",
       "      <th>SubjectAge</th>\n",
       "      <th>SubjectEthnicityCode</th>\n",
       "      <th>SubjectRaceCode</th>\n",
       "      <th>SubjectSexCode</th>\n",
       "      <th>TownResidentIndicator</th>\n",
       "      <th>HourDay</th>\n",
       "      <th>DayWeek</th>\n",
       "      <th>Month</th>\n",
       "    </tr>\n",
       "  </thead>\n",
       "  <tbody>\n",
       "    <tr>\n",
       "      <th>485779</th>\n",
       "      <td>False</td>\n",
       "      <td>False</td>\n",
       "      <td>stamford</td>\n",
       "      <td>2014-08-02 11:28:00</td>\n",
       "      <td>stamford</td>\n",
       "      <td>no</td>\n",
       "      <td>7901</td>\n",
       "      <td>True</td>\n",
       "      <td>N</td>\n",
       "      <td>cell phone</td>\n",
       "      <td>54.0</td>\n",
       "      <td>N</td>\n",
       "      <td>B</td>\n",
       "      <td>M</td>\n",
       "      <td>True</td>\n",
       "      <td>11.466667</td>\n",
       "      <td>5</td>\n",
       "      <td>8</td>\n",
       "    </tr>\n",
       "    <tr>\n",
       "      <th>485884</th>\n",
       "      <td>False</td>\n",
       "      <td>False</td>\n",
       "      <td>stamford</td>\n",
       "      <td>2014-08-02 13:12:00</td>\n",
       "      <td>stamford</td>\n",
       "      <td>no</td>\n",
       "      <td>7901</td>\n",
       "      <td>True</td>\n",
       "      <td>N</td>\n",
       "      <td>speed related</td>\n",
       "      <td>20.0</td>\n",
       "      <td>N</td>\n",
       "      <td>W</td>\n",
       "      <td>M</td>\n",
       "      <td>True</td>\n",
       "      <td>13.200000</td>\n",
       "      <td>5</td>\n",
       "      <td>8</td>\n",
       "    </tr>\n",
       "    <tr>\n",
       "      <th>485944</th>\n",
       "      <td>False</td>\n",
       "      <td>False</td>\n",
       "      <td>stamford</td>\n",
       "      <td>2014-08-02 14:10:00</td>\n",
       "      <td>stamford</td>\n",
       "      <td>no</td>\n",
       "      <td>7901</td>\n",
       "      <td>False</td>\n",
       "      <td>N</td>\n",
       "      <td>speed related</td>\n",
       "      <td>23.0</td>\n",
       "      <td>N</td>\n",
       "      <td>W</td>\n",
       "      <td>F</td>\n",
       "      <td>False</td>\n",
       "      <td>14.166667</td>\n",
       "      <td>5</td>\n",
       "      <td>8</td>\n",
       "    </tr>\n",
       "  </tbody>\n",
       "</table>\n",
       "</div>"
      ],
      "text/plain": [
       "        VehicleSearchedIndicator  ContrabandIndicator Department Name  \\\n",
       "485779                     False                False        stamford   \n",
       "485884                     False                False        stamford   \n",
       "485944                     False                False        stamford   \n",
       "\n",
       "       InterventionDateTime InterventionLocationName InterventionReasonCode  \\\n",
       "485779  2014-08-02 11:28:00                 stamford                     no   \n",
       "485884  2014-08-02 13:12:00                 stamford                     no   \n",
       "485944  2014-08-02 14:10:00                 stamford                     no   \n",
       "\n",
       "       ReportingOfficerIdentificationID  ResidentIndicator  \\\n",
       "485779                             7901               True   \n",
       "485884                             7901               True   \n",
       "485944                             7901              False   \n",
       "\n",
       "       SearchAuthorizationCode  StatuteReason  SubjectAge  \\\n",
       "485779                       N     cell phone        54.0   \n",
       "485884                       N  speed related        20.0   \n",
       "485944                       N  speed related        23.0   \n",
       "\n",
       "       SubjectEthnicityCode SubjectRaceCode SubjectSexCode  \\\n",
       "485779                    N               B              M   \n",
       "485884                    N               W              M   \n",
       "485944                    N               W              F   \n",
       "\n",
       "        TownResidentIndicator    HourDay  DayWeek  Month  \n",
       "485779                   True  11.466667        5      8  \n",
       "485884                   True  13.200000        5      8  \n",
       "485944                  False  14.166667        5      8  "
      ]
     },
     "execution_count": 37,
     "metadata": {},
     "output_type": "execute_result"
    }
   ],
   "source": [
    "df[(df.InterventionReasonCode == 'no')]"
   ]
  },
  {
   "cell_type": "code",
   "execution_count": 38,
   "metadata": {},
   "outputs": [],
   "source": [
    "df = df.drop(df[(df.InterventionReasonCode == 'no')].index)"
   ]
  },
  {
   "cell_type": "code",
   "execution_count": 39,
   "metadata": {
    "scrolled": true
   },
   "outputs": [
    {
     "data": {
      "text/plain": [
       "array(['V', 'E', 'I'], dtype=object)"
      ]
     },
     "execution_count": 39,
     "metadata": {},
     "output_type": "execute_result"
    }
   ],
   "source": [
    "df.InterventionReasonCode.unique()"
   ]
  },
  {
   "cell_type": "code",
   "execution_count": 40,
   "metadata": {},
   "outputs": [
    {
     "data": {
      "text/plain": [
       "(2268333, 18)"
      ]
     },
     "execution_count": 40,
     "metadata": {},
     "output_type": "execute_result"
    }
   ],
   "source": [
    "df.shape"
   ]
  },
  {
   "cell_type": "markdown",
   "metadata": {},
   "source": [
    "### Search Authorization"
   ]
  },
  {
   "cell_type": "code",
   "execution_count": 41,
   "metadata": {},
   "outputs": [
    {
     "data": {
      "text/plain": [
       "4"
      ]
     },
     "execution_count": 41,
     "metadata": {},
     "output_type": "execute_result"
    }
   ],
   "source": [
    "df.SearchAuthorizationCode.nunique()"
   ]
  },
  {
   "cell_type": "code",
   "execution_count": 42,
   "metadata": {
    "scrolled": true
   },
   "outputs": [
    {
     "data": {
      "text/plain": [
       "N    2186440\n",
       "O      42121\n",
       "C      25300\n",
       "I      14472\n",
       "Name: SearchAuthorizationCode, dtype: int64"
      ]
     },
     "execution_count": 42,
     "metadata": {},
     "output_type": "execute_result"
    }
   ],
   "source": [
    "df.SearchAuthorizationCode.value_counts()"
   ]
  },
  {
   "cell_type": "code",
   "execution_count": 43,
   "metadata": {
    "scrolled": true
   },
   "outputs": [
    {
     "data": {
      "text/plain": [
       "array(['H', 'M', 'N'], dtype=object)"
      ]
     },
     "execution_count": 43,
     "metadata": {},
     "output_type": "execute_result"
    }
   ],
   "source": [
    "df.SubjectEthnicityCode.unique()"
   ]
  },
  {
   "cell_type": "code",
   "execution_count": 44,
   "metadata": {},
   "outputs": [
    {
     "data": {
      "text/plain": [
       "array(['W', 'A', 'B', 'I'], dtype=object)"
      ]
     },
     "execution_count": 44,
     "metadata": {},
     "output_type": "execute_result"
    }
   ],
   "source": [
    "df.SubjectRaceCode.unique()"
   ]
  },
  {
   "cell_type": "code",
   "execution_count": 45,
   "metadata": {},
   "outputs": [
    {
     "data": {
      "text/plain": [
       "array(['W', 'A', 'B', 'I'], dtype=object)"
      ]
     },
     "execution_count": 45,
     "metadata": {},
     "output_type": "execute_result"
    }
   ],
   "source": [
    "df.SubjectRaceCode.unique()"
   ]
  },
  {
   "cell_type": "code",
   "execution_count": 46,
   "metadata": {},
   "outputs": [
    {
     "data": {
      "text/plain": [
       "1.0"
      ]
     },
     "execution_count": 46,
     "metadata": {},
     "output_type": "execute_result"
    }
   ],
   "source": [
    "df.SubjectAge.min()"
   ]
  },
  {
   "cell_type": "code",
   "execution_count": 47,
   "metadata": {
    "scrolled": true
   },
   "outputs": [
    {
     "data": {
      "text/plain": [
       "99.0"
      ]
     },
     "execution_count": 47,
     "metadata": {},
     "output_type": "execute_result"
    }
   ],
   "source": [
    "df.SubjectAge.max()"
   ]
  },
  {
   "cell_type": "code",
   "execution_count": 48,
   "metadata": {},
   "outputs": [
    {
     "data": {
      "text/plain": [
       "<matplotlib.axes._subplots.AxesSubplot at 0x7ff368af7850>"
      ]
     },
     "execution_count": 48,
     "metadata": {},
     "output_type": "execute_result"
    },
    {
     "data": {
      "image/png": "[encoded data removed]",
      "text/plain": [
       "<Figure size 720x360 with 1 Axes>"
      ]
     },
     "metadata": {
      "needs_background": "light"
     },
     "output_type": "display_data"
    }
   ],
   "source": [
    "plt.figure(figsize=(10,5))\n",
    "sns.boxplot(x=df['SubjectAge'])"
   ]
  },
  {
   "cell_type": "code",
   "execution_count": 49,
   "metadata": {},
   "outputs": [
    {
     "data": {
      "text/plain": [
       "38.642864165005754"
      ]
     },
     "execution_count": 49,
     "metadata": {},
     "output_type": "execute_result"
    }
   ],
   "source": [
    "df.SubjectAge.mean()"
   ]
  },
  {
   "cell_type": "code",
   "execution_count": 50,
   "metadata": {
    "scrolled": true
   },
   "outputs": [
    {
     "data": {
      "text/plain": [
       "36.0"
      ]
     },
     "execution_count": 50,
     "metadata": {},
     "output_type": "execute_result"
    }
   ],
   "source": [
    "df.SubjectAge.median()"
   ]
  },
  {
   "cell_type": "code",
   "execution_count": 51,
   "metadata": {},
   "outputs": [
    {
     "data": {
      "text/plain": [
       "(2268333, 18)"
      ]
     },
     "execution_count": 51,
     "metadata": {},
     "output_type": "execute_result"
    }
   ],
   "source": [
    "df.shape"
   ]
  },
  {
   "cell_type": "markdown",
   "metadata": {},
   "source": [
    "#### Replacing SubjectAge > 85 and < 14 by the median age"
   ]
  },
  {
   "cell_type": "code",
   "execution_count": 52,
   "metadata": {},
   "outputs": [],
   "source": [
    "df.loc[df.SubjectAge > 85, 'SubjectAge'] = df.SubjectAge.median()\n",
    "df.loc[df.SubjectAge < 14, 'SubjectAge'] = df.SubjectAge.median()"
   ]
  },
  {
   "cell_type": "code",
   "execution_count": 53,
   "metadata": {},
   "outputs": [
    {
     "data": {
      "image/png": "[encoded data removed]",
      "text/plain": [
       "<Figure size 1440x360 with 1 Axes>"
      ]
     },
     "metadata": {
      "needs_background": "light"
     },
     "output_type": "display_data"
    }
   ],
   "source": [
    "plt.figure(figsize=(20,5))\n",
    "sns.distplot(df['SubjectAge'], bins =10)\n",
    "plt.xlim(10);"
   ]
  },
  {
   "cell_type": "markdown",
   "metadata": {},
   "source": [
    "#### Undersampling dataset to increase the balance of the dataset from 1% to 2% of true class"
   ]
  },
  {
   "cell_type": "code",
   "execution_count": 54,
   "metadata": {
    "scrolled": true
   },
   "outputs": [
    {
     "data": {
      "text/html": [
       "<div>\n",
       "<style scoped>\n",
       "    .dataframe tbody tr th:only-of-type {\n",
       "        vertical-align: middle;\n",
       "    }\n",
       "\n",
       "    .dataframe tbody tr th {\n",
       "        vertical-align: top;\n",
       "    }\n",
       "\n",
       "    .dataframe thead th {\n",
       "        text-align: right;\n",
       "    }\n",
       "</style>\n",
       "<table border=\"1\" class=\"dataframe\">\n",
       "  <thead>\n",
       "    <tr style=\"text-align: right;\">\n",
       "      <th></th>\n",
       "      <th>VehicleSearchedIndicator</th>\n",
       "      <th>ContrabandIndicator</th>\n",
       "      <th>Department Name</th>\n",
       "      <th>InterventionDateTime</th>\n",
       "      <th>InterventionLocationName</th>\n",
       "      <th>InterventionReasonCode</th>\n",
       "      <th>ReportingOfficerIdentificationID</th>\n",
       "      <th>ResidentIndicator</th>\n",
       "      <th>SearchAuthorizationCode</th>\n",
       "      <th>StatuteReason</th>\n",
       "      <th>SubjectAge</th>\n",
       "      <th>SubjectEthnicityCode</th>\n",
       "      <th>SubjectRaceCode</th>\n",
       "      <th>SubjectSexCode</th>\n",
       "      <th>TownResidentIndicator</th>\n",
       "      <th>HourDay</th>\n",
       "      <th>DayWeek</th>\n",
       "      <th>Month</th>\n",
       "    </tr>\n",
       "  </thead>\n",
       "  <tbody>\n",
       "    <tr>\n",
       "      <th>0</th>\n",
       "      <td>False</td>\n",
       "      <td>False</td>\n",
       "      <td>new haven</td>\n",
       "      <td>2013-10-01</td>\n",
       "      <td>new haven</td>\n",
       "      <td>V</td>\n",
       "      <td>262</td>\n",
       "      <td>True</td>\n",
       "      <td>N</td>\n",
       "      <td>stop sign</td>\n",
       "      <td>31.0</td>\n",
       "      <td>H</td>\n",
       "      <td>W</td>\n",
       "      <td>M</td>\n",
       "      <td>True</td>\n",
       "      <td>0.0</td>\n",
       "      <td>1</td>\n",
       "      <td>10</td>\n",
       "    </tr>\n",
       "    <tr>\n",
       "      <th>1</th>\n",
       "      <td>False</td>\n",
       "      <td>False</td>\n",
       "      <td>state police</td>\n",
       "      <td>2013-10-01</td>\n",
       "      <td>willington</td>\n",
       "      <td>V</td>\n",
       "      <td>1000002715</td>\n",
       "      <td>False</td>\n",
       "      <td>N</td>\n",
       "      <td>other</td>\n",
       "      <td>29.0</td>\n",
       "      <td>M</td>\n",
       "      <td>W</td>\n",
       "      <td>M</td>\n",
       "      <td>False</td>\n",
       "      <td>0.0</td>\n",
       "      <td>1</td>\n",
       "      <td>10</td>\n",
       "    </tr>\n",
       "    <tr>\n",
       "      <th>2</th>\n",
       "      <td>False</td>\n",
       "      <td>False</td>\n",
       "      <td>plymouth</td>\n",
       "      <td>2013-10-01</td>\n",
       "      <td>terryville</td>\n",
       "      <td>V</td>\n",
       "      <td>21</td>\n",
       "      <td>True</td>\n",
       "      <td>N</td>\n",
       "      <td>speed related</td>\n",
       "      <td>18.0</td>\n",
       "      <td>N</td>\n",
       "      <td>W</td>\n",
       "      <td>M</td>\n",
       "      <td>True</td>\n",
       "      <td>0.0</td>\n",
       "      <td>1</td>\n",
       "      <td>10</td>\n",
       "    </tr>\n",
       "    <tr>\n",
       "      <th>3</th>\n",
       "      <td>False</td>\n",
       "      <td>False</td>\n",
       "      <td>plymouth</td>\n",
       "      <td>2013-10-01</td>\n",
       "      <td>plymouth</td>\n",
       "      <td>V</td>\n",
       "      <td>D1</td>\n",
       "      <td>True</td>\n",
       "      <td>N</td>\n",
       "      <td>speed related</td>\n",
       "      <td>52.0</td>\n",
       "      <td>N</td>\n",
       "      <td>W</td>\n",
       "      <td>F</td>\n",
       "      <td>False</td>\n",
       "      <td>0.0</td>\n",
       "      <td>1</td>\n",
       "      <td>10</td>\n",
       "    </tr>\n",
       "    <tr>\n",
       "      <th>4</th>\n",
       "      <td>False</td>\n",
       "      <td>False</td>\n",
       "      <td>bethel</td>\n",
       "      <td>2013-10-01</td>\n",
       "      <td>bethel</td>\n",
       "      <td>V</td>\n",
       "      <td>08M</td>\n",
       "      <td>True</td>\n",
       "      <td>N</td>\n",
       "      <td>cell phone</td>\n",
       "      <td>34.0</td>\n",
       "      <td>N</td>\n",
       "      <td>W</td>\n",
       "      <td>M</td>\n",
       "      <td>False</td>\n",
       "      <td>0.0</td>\n",
       "      <td>1</td>\n",
       "      <td>10</td>\n",
       "    </tr>\n",
       "  </tbody>\n",
       "</table>\n",
       "</div>"
      ],
      "text/plain": [
       "   VehicleSearchedIndicator  ContrabandIndicator Department Name  \\\n",
       "0                     False                False       new haven   \n",
       "1                     False                False    state police   \n",
       "2                     False                False        plymouth   \n",
       "3                     False                False        plymouth   \n",
       "4                     False                False          bethel   \n",
       "\n",
       "  InterventionDateTime InterventionLocationName InterventionReasonCode  \\\n",
       "0           2013-10-01                new haven                      V   \n",
       "1           2013-10-01               willington                      V   \n",
       "2           2013-10-01               terryville                      V   \n",
       "3           2013-10-01                 plymouth                      V   \n",
       "4           2013-10-01                   bethel                      V   \n",
       "\n",
       "  ReportingOfficerIdentificationID  ResidentIndicator SearchAuthorizationCode  \\\n",
       "0                              262               True                       N   \n",
       "1                       1000002715              False                       N   \n",
       "2                               21               True                       N   \n",
       "3                               D1               True                       N   \n",
       "4                              08M               True                       N   \n",
       "\n",
       "   StatuteReason  SubjectAge SubjectEthnicityCode SubjectRaceCode  \\\n",
       "0      stop sign        31.0                    H               W   \n",
       "1          other        29.0                    M               W   \n",
       "2  speed related        18.0                    N               W   \n",
       "3  speed related        52.0                    N               W   \n",
       "4     cell phone        34.0                    N               W   \n",
       "\n",
       "  SubjectSexCode  TownResidentIndicator  HourDay  DayWeek  Month  \n",
       "0              M                   True      0.0        1     10  \n",
       "1              M                  False      0.0        1     10  \n",
       "2              M                   True      0.0        1     10  \n",
       "3              F                  False      0.0        1     10  \n",
       "4              M                  False      0.0        1     10  "
      ]
     },
     "execution_count": 54,
     "metadata": {},
     "output_type": "execute_result"
    }
   ],
   "source": [
    "df.head()"
   ]
  },
  {
   "cell_type": "code",
   "execution_count": 55,
   "metadata": {},
   "outputs": [],
   "source": [
    "class_0, class_1 = df.ContrabandIndicator.value_counts()\n",
    "\n",
    "\n",
    "df_class_0 = df[df['ContrabandIndicator'] == 0]\n",
    "df_class_1 = df[df['ContrabandIndicator'] == 1]\n",
    "\n",
    "\n",
    "df_class_0_under = df_class_0.sample(df_class_1.shape[0]*49,random_state=1)\n",
    "df_new = pd.concat([df_class_0_under, df_class_1], axis=0)\n",
    "df_new = df_new.reset_index(drop=True)\n"
   ]
  },
  {
   "cell_type": "markdown",
   "metadata": {},
   "source": [
    "Dropping SubjectSexCode, SubjectEthnicityCode, SubjectRaceCode, SubjectAge to avoid bias towards individuals race, gender, ethnicity and age and \n",
    "dropping ReportingOfficerIdentificationID as it shouldn't depend on the officer name\n",
    "\n",
    "\n"
   ]
  },
  {
   "cell_type": "code",
   "execution_count": 56,
   "metadata": {},
   "outputs": [],
   "source": [
    "X = df_new[['Department Name','InterventionReasonCode', 'ResidentIndicator', 'SearchAuthorizationCode',\n",
    "            'StatuteReason', 'TownResidentIndicator', 'HourDay', 'DayWeek', 'Month']]\n"
   ]
  },
  {
   "cell_type": "code",
   "execution_count": 57,
   "metadata": {},
   "outputs": [],
   "source": [
    "y = df_new['ContrabandIndicator']"
   ]
  },
  {
   "cell_type": "code",
   "execution_count": 58,
   "metadata": {
    "scrolled": true
   },
   "outputs": [
    {
     "data": {
      "text/html": [
       "<div>\n",
       "<style scoped>\n",
       "    .dataframe tbody tr th:only-of-type {\n",
       "        vertical-align: middle;\n",
       "    }\n",
       "\n",
       "    .dataframe tbody tr th {\n",
       "        vertical-align: top;\n",
       "    }\n",
       "\n",
       "    .dataframe thead th {\n",
       "        text-align: right;\n",
       "    }\n",
       "</style>\n",
       "<table border=\"1\" class=\"dataframe\">\n",
       "  <thead>\n",
       "    <tr style=\"text-align: right;\">\n",
       "      <th></th>\n",
       "      <th>VehicleSearchedIndicator</th>\n",
       "      <th>ContrabandIndicator</th>\n",
       "      <th>Department Name</th>\n",
       "      <th>InterventionDateTime</th>\n",
       "      <th>InterventionLocationName</th>\n",
       "      <th>InterventionReasonCode</th>\n",
       "      <th>ReportingOfficerIdentificationID</th>\n",
       "      <th>ResidentIndicator</th>\n",
       "      <th>SearchAuthorizationCode</th>\n",
       "      <th>StatuteReason</th>\n",
       "      <th>SubjectAge</th>\n",
       "      <th>SubjectEthnicityCode</th>\n",
       "      <th>SubjectRaceCode</th>\n",
       "      <th>SubjectSexCode</th>\n",
       "      <th>TownResidentIndicator</th>\n",
       "      <th>HourDay</th>\n",
       "      <th>DayWeek</th>\n",
       "      <th>Month</th>\n",
       "    </tr>\n",
       "  </thead>\n",
       "  <tbody>\n",
       "    <tr>\n",
       "      <th>0</th>\n",
       "      <td>False</td>\n",
       "      <td>False</td>\n",
       "      <td>new canaan</td>\n",
       "      <td>2014-09-01 16:06:00</td>\n",
       "      <td>new canaan</td>\n",
       "      <td>E</td>\n",
       "      <td>255</td>\n",
       "      <td>True</td>\n",
       "      <td>N</td>\n",
       "      <td>display of plates</td>\n",
       "      <td>54.0</td>\n",
       "      <td>N</td>\n",
       "      <td>W</td>\n",
       "      <td>M</td>\n",
       "      <td>True</td>\n",
       "      <td>16.100000</td>\n",
       "      <td>0</td>\n",
       "      <td>9</td>\n",
       "    </tr>\n",
       "    <tr>\n",
       "      <th>1</th>\n",
       "      <td>False</td>\n",
       "      <td>False</td>\n",
       "      <td>newington</td>\n",
       "      <td>2014-07-24 18:11:00</td>\n",
       "      <td>newington</td>\n",
       "      <td>V</td>\n",
       "      <td>EAS2608</td>\n",
       "      <td>True</td>\n",
       "      <td>N</td>\n",
       "      <td>speed related</td>\n",
       "      <td>41.0</td>\n",
       "      <td>N</td>\n",
       "      <td>W</td>\n",
       "      <td>M</td>\n",
       "      <td>False</td>\n",
       "      <td>18.183333</td>\n",
       "      <td>3</td>\n",
       "      <td>7</td>\n",
       "    </tr>\n",
       "    <tr>\n",
       "      <th>2</th>\n",
       "      <td>True</td>\n",
       "      <td>False</td>\n",
       "      <td>west hartford</td>\n",
       "      <td>2016-01-04 10:54:40</td>\n",
       "      <td>west hartford</td>\n",
       "      <td>V</td>\n",
       "      <td>1000002101</td>\n",
       "      <td>True</td>\n",
       "      <td>C</td>\n",
       "      <td>moving violation</td>\n",
       "      <td>60.0</td>\n",
       "      <td>N</td>\n",
       "      <td>B</td>\n",
       "      <td>M</td>\n",
       "      <td>False</td>\n",
       "      <td>10.900000</td>\n",
       "      <td>0</td>\n",
       "      <td>1</td>\n",
       "    </tr>\n",
       "    <tr>\n",
       "      <th>3</th>\n",
       "      <td>False</td>\n",
       "      <td>False</td>\n",
       "      <td>old saybrook</td>\n",
       "      <td>2016-12-03 17:00:00</td>\n",
       "      <td>old saybrook</td>\n",
       "      <td>E</td>\n",
       "      <td>30</td>\n",
       "      <td>True</td>\n",
       "      <td>N</td>\n",
       "      <td>defective lights</td>\n",
       "      <td>46.0</td>\n",
       "      <td>N</td>\n",
       "      <td>W</td>\n",
       "      <td>M</td>\n",
       "      <td>True</td>\n",
       "      <td>17.000000</td>\n",
       "      <td>5</td>\n",
       "      <td>12</td>\n",
       "    </tr>\n",
       "    <tr>\n",
       "      <th>4</th>\n",
       "      <td>False</td>\n",
       "      <td>False</td>\n",
       "      <td>orange</td>\n",
       "      <td>2014-02-12 19:59:00</td>\n",
       "      <td>orange</td>\n",
       "      <td>V</td>\n",
       "      <td>MSC9492</td>\n",
       "      <td>True</td>\n",
       "      <td>N</td>\n",
       "      <td>traffic control signal</td>\n",
       "      <td>20.0</td>\n",
       "      <td>N</td>\n",
       "      <td>W</td>\n",
       "      <td>M</td>\n",
       "      <td>False</td>\n",
       "      <td>19.983333</td>\n",
       "      <td>2</td>\n",
       "      <td>2</td>\n",
       "    </tr>\n",
       "  </tbody>\n",
       "</table>\n",
       "</div>"
      ],
      "text/plain": [
       "   VehicleSearchedIndicator  ContrabandIndicator Department Name  \\\n",
       "0                     False                False      new canaan   \n",
       "1                     False                False       newington   \n",
       "2                      True                False   west hartford   \n",
       "3                     False                False    old saybrook   \n",
       "4                     False                False          orange   \n",
       "\n",
       "  InterventionDateTime InterventionLocationName InterventionReasonCode  \\\n",
       "0  2014-09-01 16:06:00               new canaan                      E   \n",
       "1  2014-07-24 18:11:00                newington                      V   \n",
       "2  2016-01-04 10:54:40            west hartford                      V   \n",
       "3  2016-12-03 17:00:00             old saybrook                      E   \n",
       "4  2014-02-12 19:59:00                   orange                      V   \n",
       "\n",
       "  ReportingOfficerIdentificationID  ResidentIndicator SearchAuthorizationCode  \\\n",
       "0                              255               True                       N   \n",
       "1                          EAS2608               True                       N   \n",
       "2                       1000002101               True                       C   \n",
       "3                               30               True                       N   \n",
       "4                          MSC9492               True                       N   \n",
       "\n",
       "            StatuteReason  SubjectAge SubjectEthnicityCode SubjectRaceCode  \\\n",
       "0       display of plates        54.0                    N               W   \n",
       "1           speed related        41.0                    N               W   \n",
       "2        moving violation        60.0                    N               B   \n",
       "3        defective lights        46.0                    N               W   \n",
       "4  traffic control signal        20.0                    N               W   \n",
       "\n",
       "  SubjectSexCode  TownResidentIndicator    HourDay  DayWeek  Month  \n",
       "0              M                   True  16.100000        0      9  \n",
       "1              M                  False  18.183333        3      7  \n",
       "2              M                  False  10.900000        0      1  \n",
       "3              M                   True  17.000000        5     12  \n",
       "4              M                  False  19.983333        2      2  "
      ]
     },
     "execution_count": 58,
     "metadata": {},
     "output_type": "execute_result"
    }
   ],
   "source": [
    "df_new.head()"
   ]
  },
  {
   "cell_type": "code",
   "execution_count": 59,
   "metadata": {},
   "outputs": [
    {
     "data": {
      "text/plain": [
       "0          False\n",
       "1          False\n",
       "2          False\n",
       "3          False\n",
       "4          False\n",
       "           ...  \n",
       "1282195     True\n",
       "1282196     True\n",
       "1282197     True\n",
       "1282198     True\n",
       "1282199     True\n",
       "Name: ContrabandIndicator, Length: 1282200, dtype: bool"
      ]
     },
     "execution_count": 59,
     "metadata": {},
     "output_type": "execute_result"
    }
   ],
   "source": [
    "y"
   ]
  },
  {
   "cell_type": "code",
   "execution_count": 60,
   "metadata": {},
   "outputs": [],
   "source": [
    "X_train, X_test, y_train, y_test = train_test_split(X, y, test_size=0.2, random_state=1)"
   ]
  },
  {
   "cell_type": "code",
   "execution_count": 61,
   "metadata": {},
   "outputs": [
    {
     "data": {
      "text/html": [
       "<div>\n",
       "<style scoped>\n",
       "    .dataframe tbody tr th:only-of-type {\n",
       "        vertical-align: middle;\n",
       "    }\n",
       "\n",
       "    .dataframe tbody tr th {\n",
       "        vertical-align: top;\n",
       "    }\n",
       "\n",
       "    .dataframe thead th {\n",
       "        text-align: right;\n",
       "    }\n",
       "</style>\n",
       "<table border=\"1\" class=\"dataframe\">\n",
       "  <thead>\n",
       "    <tr style=\"text-align: right;\">\n",
       "      <th></th>\n",
       "      <th>Department Name</th>\n",
       "      <th>InterventionReasonCode</th>\n",
       "      <th>ResidentIndicator</th>\n",
       "      <th>SearchAuthorizationCode</th>\n",
       "      <th>StatuteReason</th>\n",
       "      <th>TownResidentIndicator</th>\n",
       "      <th>HourDay</th>\n",
       "      <th>DayWeek</th>\n",
       "      <th>Month</th>\n",
       "    </tr>\n",
       "  </thead>\n",
       "  <tbody>\n",
       "    <tr>\n",
       "      <th>984784</th>\n",
       "      <td>csp troop h</td>\n",
       "      <td>V</td>\n",
       "      <td>False</td>\n",
       "      <td>N</td>\n",
       "      <td>moving violation</td>\n",
       "      <td>False</td>\n",
       "      <td>17.050000</td>\n",
       "      <td>0</td>\n",
       "      <td>2</td>\n",
       "    </tr>\n",
       "    <tr>\n",
       "      <th>238490</th>\n",
       "      <td>state police</td>\n",
       "      <td>V</td>\n",
       "      <td>False</td>\n",
       "      <td>N</td>\n",
       "      <td>speed related</td>\n",
       "      <td>False</td>\n",
       "      <td>22.500000</td>\n",
       "      <td>6</td>\n",
       "      <td>11</td>\n",
       "    </tr>\n",
       "    <tr>\n",
       "      <th>660313</th>\n",
       "      <td>new canaan</td>\n",
       "      <td>V</td>\n",
       "      <td>True</td>\n",
       "      <td>N</td>\n",
       "      <td>speed related</td>\n",
       "      <td>False</td>\n",
       "      <td>9.833333</td>\n",
       "      <td>6</td>\n",
       "      <td>2</td>\n",
       "    </tr>\n",
       "    <tr>\n",
       "      <th>872193</th>\n",
       "      <td>mta stamford</td>\n",
       "      <td>V</td>\n",
       "      <td>True</td>\n",
       "      <td>O</td>\n",
       "      <td>cell phone</td>\n",
       "      <td>True</td>\n",
       "      <td>11.166667</td>\n",
       "      <td>1</td>\n",
       "      <td>11</td>\n",
       "    </tr>\n",
       "    <tr>\n",
       "      <th>158802</th>\n",
       "      <td>csp troop a</td>\n",
       "      <td>V</td>\n",
       "      <td>True</td>\n",
       "      <td>N</td>\n",
       "      <td>stc violation</td>\n",
       "      <td>False</td>\n",
       "      <td>15.650000</td>\n",
       "      <td>4</td>\n",
       "      <td>10</td>\n",
       "    </tr>\n",
       "  </tbody>\n",
       "</table>\n",
       "</div>"
      ],
      "text/plain": [
       "       Department Name InterventionReasonCode  ResidentIndicator  \\\n",
       "984784     csp troop h                      V              False   \n",
       "238490    state police                      V              False   \n",
       "660313      new canaan                      V               True   \n",
       "872193    mta stamford                      V               True   \n",
       "158802     csp troop a                      V               True   \n",
       "\n",
       "       SearchAuthorizationCode     StatuteReason  TownResidentIndicator  \\\n",
       "984784                       N  moving violation                  False   \n",
       "238490                       N     speed related                  False   \n",
       "660313                       N     speed related                  False   \n",
       "872193                       O        cell phone                   True   \n",
       "158802                       N     stc violation                  False   \n",
       "\n",
       "          HourDay  DayWeek  Month  \n",
       "984784  17.050000        0      2  \n",
       "238490  22.500000        6     11  \n",
       "660313   9.833333        6      2  \n",
       "872193  11.166667        1     11  \n",
       "158802  15.650000        4     10  "
      ]
     },
     "execution_count": 61,
     "metadata": {},
     "output_type": "execute_result"
    }
   ],
   "source": [
    "X_train.head()"
   ]
  },
  {
   "cell_type": "code",
   "execution_count": 62,
   "metadata": {},
   "outputs": [],
   "source": [
    "be = BinaryEncoder(verbose=1)\n",
    "be.fit(X_train)\n",
    "X_train_encoded = be.transform(X_train)\n",
    "X_test_encoded = be.transform(X_test)\n"
   ]
  },
  {
   "cell_type": "code",
   "execution_count": 63,
   "metadata": {},
   "outputs": [],
   "source": [
    "mm_scaler = MinMaxScaler()\n",
    "mm_scaler.fit(X_train_encoded)\n",
    "X_train_mm = mm_scaler.transform(X_train_encoded)\n",
    "X_test_mm = mm_scaler.transform(X_test_encoded)\n",
    "\n",
    "X_train_ = pd.DataFrame(X_train_mm, columns = X_train_encoded.columns)\n",
    "X_test_ = pd.DataFrame(X_test_mm, columns = X_test_encoded.columns)"
   ]
  },
  {
   "cell_type": "markdown",
   "metadata": {},
   "source": [
    "## Logistic Regression"
   ]
  },
  {
   "cell_type": "code",
   "execution_count": 64,
   "metadata": {},
   "outputs": [],
   "source": [
    "lr = LogisticRegression()"
   ]
  },
  {
   "cell_type": "code",
   "execution_count": 65,
   "metadata": {},
   "outputs": [
    {
     "data": {
      "text/plain": [
       "LogisticRegression(C=1.0, class_weight=None, dual=False, fit_intercept=True,\n",
       "                   intercept_scaling=1, l1_ratio=None, max_iter=100,\n",
       "                   multi_class='auto', n_jobs=None, penalty='l2',\n",
       "                   random_state=None, solver='lbfgs', tol=0.0001, verbose=0,\n",
       "                   warm_start=False)"
      ]
     },
     "execution_count": 65,
     "metadata": {},
     "output_type": "execute_result"
    }
   ],
   "source": [
    "lr.fit(X_train_, y_train)"
   ]
  },
  {
   "cell_type": "code",
   "execution_count": 66,
   "metadata": {},
   "outputs": [
    {
     "name": "stdout",
     "output_type": "stream",
     "text": [
      "Precision score: 0.6302972802024035\n",
      "Recall score: 0.3854932301740812\n",
      "Accuracy score: 0.9830525659023553\n"
     ]
    }
   ],
   "source": [
    "y_pred = lr.predict(X_test_)\n",
    "\n",
    "print('Precision score:', precision_score(y_test,y_pred))\n",
    "print('Recall score:', recall_score(y_test,y_pred))\n",
    "print('Accuracy score:', accuracy_score(y_test,y_pred))\n"
   ]
  },
  {
   "cell_type": "code",
   "execution_count": 67,
   "metadata": {},
   "outputs": [
    {
     "data": {
      "image/png": "[encoded data removed]",
      "text/plain": [
       "<Figure size 1440x1080 with 1 Axes>"
      ]
     },
     "metadata": {
      "needs_background": "light"
     },
     "output_type": "display_data"
    }
   ],
   "source": [
    "plt.figure(figsize=(20,15))\n",
    "\n",
    "pd.Series(abs(lr.coef_[0, :]), index=X_train_.columns).nlargest(100).plot.barh();"
   ]
  },
  {
   "cell_type": "markdown",
   "metadata": {},
   "source": [
    "## Random Forest Classifier"
   ]
  },
  {
   "cell_type": "code",
   "execution_count": 68,
   "metadata": {},
   "outputs": [],
   "source": [
    "rf = RandomForestClassifier()"
   ]
  },
  {
   "cell_type": "code",
   "execution_count": 69,
   "metadata": {},
   "outputs": [
    {
     "data": {
      "text/plain": [
       "RandomForestClassifier(bootstrap=True, ccp_alpha=0.0, class_weight=None,\n",
       "                       criterion='gini', max_depth=None, max_features='auto',\n",
       "                       max_leaf_nodes=None, max_samples=None,\n",
       "                       min_impurity_decrease=0.0, min_impurity_split=None,\n",
       "                       min_samples_leaf=1, min_samples_split=2,\n",
       "                       min_weight_fraction_leaf=0.0, n_estimators=100,\n",
       "                       n_jobs=None, oob_score=False, random_state=None,\n",
       "                       verbose=0, warm_start=False)"
      ]
     },
     "execution_count": 69,
     "metadata": {},
     "output_type": "execute_result"
    }
   ],
   "source": [
    "rf.fit(X_train_, y_train)"
   ]
  },
  {
   "cell_type": "code",
   "execution_count": 70,
   "metadata": {},
   "outputs": [
    {
     "name": "stdout",
     "output_type": "stream",
     "text": [
      "Precision score: 0.6672601825061206\n",
      "Recall score: 0.5798839458413927\n",
      "Accuracy score: 0.985700358758384\n"
     ]
    }
   ],
   "source": [
    "y_pred = rf.predict(X_test_)\n",
    "\n",
    "\n",
    "print('Precision score:', precision_score(y_test,y_pred))\n",
    "print('Recall score:', recall_score(y_test,y_pred))\n",
    "print('Accuracy score:', accuracy_score(y_test,y_pred))\n"
   ]
  },
  {
   "cell_type": "code",
   "execution_count": 71,
   "metadata": {},
   "outputs": [
    {
     "data": {
      "image/png": "[encoded data removed]",
      "text/plain": [
       "<Figure size 1080x360 with 1 Axes>"
      ]
     },
     "metadata": {
      "needs_background": "light"
     },
     "output_type": "display_data"
    }
   ],
   "source": [
    "plt.figure(figsize=(15,5))\n",
    "pd.Series(rf.feature_importances_, index=X_train_.columns).nlargest(X_train_.shape[0]).plot.barh();"
   ]
  },
  {
   "cell_type": "code",
   "execution_count": 72,
   "metadata": {},
   "outputs": [],
   "source": [
    "random_search_parameter_space_dist = {\n",
    "                   \"max_depth\": [10, 20, None],\n",
    "                   \"n_estimators\": [10, 20, 50, 100, 200]}"
   ]
  },
  {
   "cell_type": "code",
   "execution_count": 73,
   "metadata": {},
   "outputs": [],
   "source": [
    "randomized_search = RandomizedSearchCV(\n",
    "                        rf, \n",
    "                        random_search_parameter_space_dist,\n",
    "                        cv=3, n_iter=5,\n",
    "                        random_state=1,\n",
    "                        return_train_score=True,\n",
    "                        scoring = 'precision'\n",
    "                        )"
   ]
  },
  {
   "cell_type": "code",
   "execution_count": 74,
   "metadata": {},
   "outputs": [
    {
     "name": "stdout",
     "output_type": "stream",
     "text": [
      "CPU times: user 27min 10s, sys: 20.9 s, total: 27min 31s\n",
      "Wall time: 28min 10s\n"
     ]
    },
    {
     "data": {
      "text/plain": [
       "RandomizedSearchCV(cv=3, error_score=nan,\n",
       "                   estimator=RandomForestClassifier(bootstrap=True,\n",
       "                                                    ccp_alpha=0.0,\n",
       "                                                    class_weight=None,\n",
       "                                                    criterion='gini',\n",
       "                                                    max_depth=None,\n",
       "                                                    max_features='auto',\n",
       "                                                    max_leaf_nodes=None,\n",
       "                                                    max_samples=None,\n",
       "                                                    min_impurity_decrease=0.0,\n",
       "                                                    min_impurity_split=None,\n",
       "                                                    min_samples_leaf=1,\n",
       "                                                    min_samples_split=2,\n",
       "                                                    min_weight_fraction_leaf=0.0,\n",
       "                                                    n_estimators=100,\n",
       "                                                    n_jobs=None,\n",
       "                                                    oob_score=False,\n",
       "                                                    random_state=None,\n",
       "                                                    verbose=0,\n",
       "                                                    warm_start=False),\n",
       "                   iid='deprecated', n_iter=5, n_jobs=None,\n",
       "                   param_distributions={'max_depth': [10, 20, None],\n",
       "                                        'n_estimators': [10, 20, 50, 100, 200]},\n",
       "                   pre_dispatch='2*n_jobs', random_state=1, refit=True,\n",
       "                   return_train_score=True, scoring='precision', verbose=0)"
      ]
     },
     "execution_count": 74,
     "metadata": {},
     "output_type": "execute_result"
    }
   ],
   "source": [
    "%%time\n",
    "\n",
    "randomized_search.fit(X_train_, y_train)"
   ]
  },
  {
   "cell_type": "code",
   "execution_count": 75,
   "metadata": {},
   "outputs": [
    {
     "data": {
      "text/plain": [
       "RandomForestClassifier(bootstrap=True, ccp_alpha=0.0, class_weight=None,\n",
       "                       criterion='gini', max_depth=10, max_features='auto',\n",
       "                       max_leaf_nodes=None, max_samples=None,\n",
       "                       min_impurity_decrease=0.0, min_impurity_split=None,\n",
       "                       min_samples_leaf=1, min_samples_split=2,\n",
       "                       min_weight_fraction_leaf=0.0, n_estimators=100,\n",
       "                       n_jobs=None, oob_score=False, random_state=None,\n",
       "                       verbose=0, warm_start=False)"
      ]
     },
     "execution_count": 75,
     "metadata": {},
     "output_type": "execute_result"
    }
   ],
   "source": [
    "randomized_search.best_estimator_"
   ]
  },
  {
   "cell_type": "code",
   "execution_count": 76,
   "metadata": {},
   "outputs": [],
   "source": [
    "pred = randomized_search.predict_proba(X_test_)"
   ]
  },
  {
   "cell_type": "code",
   "execution_count": 77,
   "metadata": {},
   "outputs": [
    {
     "name": "stdout",
     "output_type": "stream",
     "text": [
      "Precision score: 0.71\n",
      "Accuracy score: 0.98\n",
      "Recall score: 0.41\n"
     ]
    }
   ],
   "source": [
    "y_pred = (pred[:,1] >= 0.55)\n",
    "\n",
    "print('Precision score:', round(precision_score(y_test,y_pred),2))\n",
    "print('Accuracy score:', round(accuracy_score(y_test,y_pred),2))\n",
    "print('Recall score:', round(recall_score(y_test,y_pred),2))"
   ]
  },
  {
   "cell_type": "markdown",
   "metadata": {},
   "source": [
    "### Assessing fairness of model for protected classes by assessing precision for each one"
   ]
  },
  {
   "cell_type": "code",
   "execution_count": 78,
   "metadata": {},
   "outputs": [],
   "source": [
    "df_fairness = df_new[['SubjectEthnicityCode', 'SubjectRaceCode', 'SubjectSexCode']]"
   ]
  },
  {
   "cell_type": "code",
   "execution_count": 79,
   "metadata": {},
   "outputs": [
    {
     "data": {
      "text/html": [
       "<div>\n",
       "<style scoped>\n",
       "    .dataframe tbody tr th:only-of-type {\n",
       "        vertical-align: middle;\n",
       "    }\n",
       "\n",
       "    .dataframe tbody tr th {\n",
       "        vertical-align: top;\n",
       "    }\n",
       "\n",
       "    .dataframe thead th {\n",
       "        text-align: right;\n",
       "    }\n",
       "</style>\n",
       "<table border=\"1\" class=\"dataframe\">\n",
       "  <thead>\n",
       "    <tr style=\"text-align: right;\">\n",
       "      <th></th>\n",
       "      <th>VehicleSearchedIndicator</th>\n",
       "      <th>ContrabandIndicator</th>\n",
       "      <th>Department Name</th>\n",
       "      <th>InterventionDateTime</th>\n",
       "      <th>InterventionLocationName</th>\n",
       "      <th>InterventionReasonCode</th>\n",
       "      <th>ReportingOfficerIdentificationID</th>\n",
       "      <th>ResidentIndicator</th>\n",
       "      <th>SearchAuthorizationCode</th>\n",
       "      <th>StatuteReason</th>\n",
       "      <th>SubjectAge</th>\n",
       "      <th>SubjectEthnicityCode</th>\n",
       "      <th>SubjectRaceCode</th>\n",
       "      <th>SubjectSexCode</th>\n",
       "      <th>TownResidentIndicator</th>\n",
       "      <th>HourDay</th>\n",
       "      <th>DayWeek</th>\n",
       "      <th>Month</th>\n",
       "    </tr>\n",
       "  </thead>\n",
       "  <tbody>\n",
       "    <tr>\n",
       "      <th>0</th>\n",
       "      <td>False</td>\n",
       "      <td>False</td>\n",
       "      <td>new canaan</td>\n",
       "      <td>2014-09-01 16:06:00</td>\n",
       "      <td>new canaan</td>\n",
       "      <td>E</td>\n",
       "      <td>255</td>\n",
       "      <td>True</td>\n",
       "      <td>N</td>\n",
       "      <td>display of plates</td>\n",
       "      <td>54.0</td>\n",
       "      <td>N</td>\n",
       "      <td>W</td>\n",
       "      <td>M</td>\n",
       "      <td>True</td>\n",
       "      <td>16.100000</td>\n",
       "      <td>0</td>\n",
       "      <td>9</td>\n",
       "    </tr>\n",
       "    <tr>\n",
       "      <th>1</th>\n",
       "      <td>False</td>\n",
       "      <td>False</td>\n",
       "      <td>newington</td>\n",
       "      <td>2014-07-24 18:11:00</td>\n",
       "      <td>newington</td>\n",
       "      <td>V</td>\n",
       "      <td>EAS2608</td>\n",
       "      <td>True</td>\n",
       "      <td>N</td>\n",
       "      <td>speed related</td>\n",
       "      <td>41.0</td>\n",
       "      <td>N</td>\n",
       "      <td>W</td>\n",
       "      <td>M</td>\n",
       "      <td>False</td>\n",
       "      <td>18.183333</td>\n",
       "      <td>3</td>\n",
       "      <td>7</td>\n",
       "    </tr>\n",
       "    <tr>\n",
       "      <th>2</th>\n",
       "      <td>True</td>\n",
       "      <td>False</td>\n",
       "      <td>west hartford</td>\n",
       "      <td>2016-01-04 10:54:40</td>\n",
       "      <td>west hartford</td>\n",
       "      <td>V</td>\n",
       "      <td>1000002101</td>\n",
       "      <td>True</td>\n",
       "      <td>C</td>\n",
       "      <td>moving violation</td>\n",
       "      <td>60.0</td>\n",
       "      <td>N</td>\n",
       "      <td>B</td>\n",
       "      <td>M</td>\n",
       "      <td>False</td>\n",
       "      <td>10.900000</td>\n",
       "      <td>0</td>\n",
       "      <td>1</td>\n",
       "    </tr>\n",
       "    <tr>\n",
       "      <th>3</th>\n",
       "      <td>False</td>\n",
       "      <td>False</td>\n",
       "      <td>old saybrook</td>\n",
       "      <td>2016-12-03 17:00:00</td>\n",
       "      <td>old saybrook</td>\n",
       "      <td>E</td>\n",
       "      <td>30</td>\n",
       "      <td>True</td>\n",
       "      <td>N</td>\n",
       "      <td>defective lights</td>\n",
       "      <td>46.0</td>\n",
       "      <td>N</td>\n",
       "      <td>W</td>\n",
       "      <td>M</td>\n",
       "      <td>True</td>\n",
       "      <td>17.000000</td>\n",
       "      <td>5</td>\n",
       "      <td>12</td>\n",
       "    </tr>\n",
       "    <tr>\n",
       "      <th>4</th>\n",
       "      <td>False</td>\n",
       "      <td>False</td>\n",
       "      <td>orange</td>\n",
       "      <td>2014-02-12 19:59:00</td>\n",
       "      <td>orange</td>\n",
       "      <td>V</td>\n",
       "      <td>MSC9492</td>\n",
       "      <td>True</td>\n",
       "      <td>N</td>\n",
       "      <td>traffic control signal</td>\n",
       "      <td>20.0</td>\n",
       "      <td>N</td>\n",
       "      <td>W</td>\n",
       "      <td>M</td>\n",
       "      <td>False</td>\n",
       "      <td>19.983333</td>\n",
       "      <td>2</td>\n",
       "      <td>2</td>\n",
       "    </tr>\n",
       "  </tbody>\n",
       "</table>\n",
       "</div>"
      ],
      "text/plain": [
       "   VehicleSearchedIndicator  ContrabandIndicator Department Name  \\\n",
       "0                     False                False      new canaan   \n",
       "1                     False                False       newington   \n",
       "2                      True                False   west hartford   \n",
       "3                     False                False    old saybrook   \n",
       "4                     False                False          orange   \n",
       "\n",
       "  InterventionDateTime InterventionLocationName InterventionReasonCode  \\\n",
       "0  2014-09-01 16:06:00               new canaan                      E   \n",
       "1  2014-07-24 18:11:00                newington                      V   \n",
       "2  2016-01-04 10:54:40            west hartford                      V   \n",
       "3  2016-12-03 17:00:00             old saybrook                      E   \n",
       "4  2014-02-12 19:59:00                   orange                      V   \n",
       "\n",
       "  ReportingOfficerIdentificationID  ResidentIndicator SearchAuthorizationCode  \\\n",
       "0                              255               True                       N   \n",
       "1                          EAS2608               True                       N   \n",
       "2                       1000002101               True                       C   \n",
       "3                               30               True                       N   \n",
       "4                          MSC9492               True                       N   \n",
       "\n",
       "            StatuteReason  SubjectAge SubjectEthnicityCode SubjectRaceCode  \\\n",
       "0       display of plates        54.0                    N               W   \n",
       "1           speed related        41.0                    N               W   \n",
       "2        moving violation        60.0                    N               B   \n",
       "3        defective lights        46.0                    N               W   \n",
       "4  traffic control signal        20.0                    N               W   \n",
       "\n",
       "  SubjectSexCode  TownResidentIndicator    HourDay  DayWeek  Month  \n",
       "0              M                   True  16.100000        0      9  \n",
       "1              M                  False  18.183333        3      7  \n",
       "2              M                  False  10.900000        0      1  \n",
       "3              M                   True  17.000000        5     12  \n",
       "4              M                  False  19.983333        2      2  "
      ]
     },
     "execution_count": 79,
     "metadata": {},
     "output_type": "execute_result"
    }
   ],
   "source": [
    "df_new.head()"
   ]
  },
  {
   "cell_type": "code",
   "execution_count": 80,
   "metadata": {},
   "outputs": [],
   "source": [
    "train_fair, test_fair, y_train_fair, y_test_fair = train_test_split(df_fairness, y, test_size=0.2, random_state=1)"
   ]
  },
  {
   "cell_type": "code",
   "execution_count": 81,
   "metadata": {},
   "outputs": [
    {
     "name": "stderr",
     "output_type": "stream",
     "text": [
      "/opt/anaconda3/lib/python3.7/site-packages/ipykernel_launcher.py:1: SettingWithCopyWarning: \n",
      "A value is trying to be set on a copy of a slice from a DataFrame.\n",
      "Try using .loc[row_indexer,col_indexer] = value instead\n",
      "\n",
      "See the caveats in the documentation: https://pandas.pydata.org/pandas-docs/stable/user_guide/indexing.html#returning-a-view-versus-a-copy\n",
      "  \"\"\"Entry point for launching an IPython kernel.\n",
      "/opt/anaconda3/lib/python3.7/site-packages/ipykernel_launcher.py:2: SettingWithCopyWarning: \n",
      "A value is trying to be set on a copy of a slice from a DataFrame.\n",
      "Try using .loc[row_indexer,col_indexer] = value instead\n",
      "\n",
      "See the caveats in the documentation: https://pandas.pydata.org/pandas-docs/stable/user_guide/indexing.html#returning-a-view-versus-a-copy\n",
      "  \n"
     ]
    }
   ],
   "source": [
    "test_fair['y'] = y_test_fair\n",
    "test_fair['y_pred'] = y_pred"
   ]
  },
  {
   "cell_type": "code",
   "execution_count": 82,
   "metadata": {},
   "outputs": [],
   "source": [
    "def plot_precision(df , protected_class):\n",
    "    \n",
    "    TP = df[(df.y_pred == 1) & (df.y == 1)]\n",
    "    FP = df[(df.y_pred == 1) & (df.y == 0)]\n",
    "\n",
    "    prec = TP.groupby(TP[protected_class])[protected_class].count()/(FP.groupby(FP[protected_class])[protected_class].count() + TP.groupby(TP[protected_class])[protected_class].count())\n",
    "    plt.figure(figsize=(15, 5))\n",
    "    pal = sns.color_palette(\"Reds_d\", len(prec))\n",
    "\n",
    "    sns.barplot(prec.index, prec.values)\n",
    "\n",
    "\n",
    "    ax = sns.barplot(prec.index, prec.values, palette=np.array(pal[::-1]))\n",
    "\n",
    "    ax.set(xlabel=protected_class, ylabel='Precision')\n",
    "    plt.show()\n",
    "    print(prec)"
   ]
  },
  {
   "cell_type": "code",
   "execution_count": 83,
   "metadata": {},
   "outputs": [
    {
     "data": {
      "text/html": [
       "<div>\n",
       "<style scoped>\n",
       "    .dataframe tbody tr th:only-of-type {\n",
       "        vertical-align: middle;\n",
       "    }\n",
       "\n",
       "    .dataframe tbody tr th {\n",
       "        vertical-align: top;\n",
       "    }\n",
       "\n",
       "    .dataframe thead th {\n",
       "        text-align: right;\n",
       "    }\n",
       "</style>\n",
       "<table border=\"1\" class=\"dataframe\">\n",
       "  <thead>\n",
       "    <tr style=\"text-align: right;\">\n",
       "      <th></th>\n",
       "      <th>SubjectEthnicityCode</th>\n",
       "      <th>SubjectRaceCode</th>\n",
       "      <th>SubjectSexCode</th>\n",
       "      <th>y</th>\n",
       "      <th>y_pred</th>\n",
       "    </tr>\n",
       "  </thead>\n",
       "  <tbody>\n",
       "    <tr>\n",
       "      <th>174839</th>\n",
       "      <td>H</td>\n",
       "      <td>W</td>\n",
       "      <td>M</td>\n",
       "      <td>False</td>\n",
       "      <td>False</td>\n",
       "    </tr>\n",
       "    <tr>\n",
       "      <th>437892</th>\n",
       "      <td>M</td>\n",
       "      <td>B</td>\n",
       "      <td>F</td>\n",
       "      <td>False</td>\n",
       "      <td>False</td>\n",
       "    </tr>\n",
       "    <tr>\n",
       "      <th>1203822</th>\n",
       "      <td>H</td>\n",
       "      <td>W</td>\n",
       "      <td>M</td>\n",
       "      <td>False</td>\n",
       "      <td>False</td>\n",
       "    </tr>\n",
       "    <tr>\n",
       "      <th>981233</th>\n",
       "      <td>N</td>\n",
       "      <td>W</td>\n",
       "      <td>F</td>\n",
       "      <td>False</td>\n",
       "      <td>False</td>\n",
       "    </tr>\n",
       "    <tr>\n",
       "      <th>1185900</th>\n",
       "      <td>N</td>\n",
       "      <td>W</td>\n",
       "      <td>M</td>\n",
       "      <td>False</td>\n",
       "      <td>False</td>\n",
       "    </tr>\n",
       "  </tbody>\n",
       "</table>\n",
       "</div>"
      ],
      "text/plain": [
       "        SubjectEthnicityCode SubjectRaceCode SubjectSexCode      y  y_pred\n",
       "174839                     H               W              M  False   False\n",
       "437892                     M               B              F  False   False\n",
       "1203822                    H               W              M  False   False\n",
       "981233                     N               W              F  False   False\n",
       "1185900                    N               W              M  False   False"
      ]
     },
     "execution_count": 83,
     "metadata": {},
     "output_type": "execute_result"
    }
   ],
   "source": [
    "test_fair.head()"
   ]
  },
  {
   "cell_type": "code",
   "execution_count": 84,
   "metadata": {},
   "outputs": [
    {
     "data": {
      "image/png": "[encoded data removed]",
      "text/plain": [
       "<Figure size 1080x360 with 1 Axes>"
      ]
     },
     "metadata": {
      "needs_background": "light"
     },
     "output_type": "display_data"
    },
    {
     "name": "stdout",
     "output_type": "stream",
     "text": [
      "SubjectRaceCode\n",
      "A    0.625000\n",
      "B    0.669056\n",
      "I    0.727273\n",
      "W    0.729356\n",
      "Name: SubjectRaceCode, dtype: float64\n"
     ]
    }
   ],
   "source": [
    "plot_precision(test_fair, 'SubjectRaceCode')"
   ]
  },
  {
   "cell_type": "code",
   "execution_count": 85,
   "metadata": {},
   "outputs": [
    {
     "data": {
      "image/png": "[encoded data removed]",
      "text/plain": [
       "<Figure size 1080x360 with 1 Axes>"
      ]
     },
     "metadata": {
      "needs_background": "light"
     },
     "output_type": "display_data"
    },
    {
     "name": "stdout",
     "output_type": "stream",
     "text": [
      "SubjectSexCode\n",
      "F    0.685152\n",
      "M    0.717608\n",
      "Name: SubjectSexCode, dtype: float64\n"
     ]
    }
   ],
   "source": [
    "plot_precision(test_fair, 'SubjectSexCode')"
   ]
  },
  {
   "cell_type": "code",
   "execution_count": 86,
   "metadata": {},
   "outputs": [
    {
     "data": {
      "image/png": "[encoded data removed]",
      "text/plain": [
       "<Figure size 1080x360 with 1 Axes>"
      ]
     },
     "metadata": {
      "needs_background": "light"
     },
     "output_type": "display_data"
    },
    {
     "name": "stdout",
     "output_type": "stream",
     "text": [
      "SubjectEthnicityCode\n",
      "H    0.689013\n",
      "M    0.700000\n",
      "N    0.716667\n",
      "Name: SubjectEthnicityCode, dtype: float64\n"
     ]
    }
   ],
   "source": [
    "plot_precision(test_fair, 'SubjectEthnicityCode')"
   ]
  }
 ],
 "metadata": {
  "kernelspec": {
   "display_name": "Python 3",
   "language": "python",
   "name": "python3"
  },
  "language_info": {
   "codemirror_mode": {
    "name": "ipython",
    "version": 3
   },
   "file_extension": ".py",
   "mimetype": "text/x-python",
   "name": "python",
   "nbconvert_exporter": "python",
   "pygments_lexer": "ipython3",
   "version": "3.7.6"
  }
 },
 "nbformat": 4,
 "nbformat_minor": 2
}
